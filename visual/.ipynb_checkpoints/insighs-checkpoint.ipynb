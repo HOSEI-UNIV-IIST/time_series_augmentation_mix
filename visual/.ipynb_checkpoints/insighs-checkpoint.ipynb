{
 "cells": [
  {
   "cell_type": "code",
   "execution_count": null,
   "id": "initial_id",
   "metadata": {
    "collapsed": true
   },
   "outputs": [],
   "source": [
    "import pandas as pd\n",
    "import matplotlib.pyplot as plt\n",
    "import seaborn as sns\n",
    "\n",
    "# Define the data\n",
    "data = {\n",
    "    \"Dataset\": [\"ECG5000\", \"Strawberry\", \"ECG200\", \"GunPointAgeSpan\", \"CBF\", \"Yoga\", \"FordB\"],\n",
    "    \"Jitter\": [92.46, 89.29, 90.75, 87.99, 90.75, 82.12, 68.38],\n",
    "    \"Scaling\": [91.59, 91.45, 89.75, 85.14, 89.42, 82.55, 71.47],\n",
    "    \"Permutation\": [91.48, 91.18, 86.75, 87.04, 83.97, 83.45, 70.60],\n",
    "    \"Magwarp\": [92.55, 89.29, 91.75, 88.31, 90.19, 81.52, 68.50],\n",
    "    \"Timewarp\": [91.24, 88.48, 91.75, 87.36, 87.08, 79.55, 68.01],\n",
    "    \"Windowslice\": [92.35, 90.91, 88.75, 87.36, 89.97, 78.95, 66.28],\n",
    "    \"Windowwarp\": [91.39, 88.75, 87.75, 87.67, 90.42, 83.08, 69.74],\n",
    "    \"Rotation\": [91.48, 91.45, 89.75, 87.36, 86.86, 80.25, 70.23],\n",
    "    \"Original\": [91.59, 90.64, 88.75, 89.89, 90.75, 81.88, 69.49]\n",
    "}\n",
    "\n",
    "\n",
    "# Create a DataFrame\n",
    "df = pd.DataFrame(data)\n",
    "\n",
    "# Decrease all values by -1.25\n",
    "df.iloc[:, 1:] = df.iloc[:, 1:] - 1.25\n",
    "\n",
    "# Set the Dataset as the index\n",
    "df.set_index('Dataset', inplace=True)\n",
    "\n",
    "# Plot the heatmap\n",
    "plt.figure(figsize=(12, 8))\n",
    "sns.heatmap(df, annot=True, cmap=\"YlGnBu\", fmt=\".2f\", linewidths=.5)\n",
    "\n",
    "# Add title and labels\n",
    "plt.title('Adjusted Accuracy of Techniques Across Different Datasets', fontsize=16)\n",
    "plt.ylabel('Dataset')\n",
    "plt.xlabel('Technique')\n",
    "\n",
    "# Display the plot\n",
    "plt.show()\n",
    "\n",
    "# Insights\n",
    "print(\"Insights after decreasing all values by 1.25:\")\n",
    "print(\"1. ECG5000 still shows the highest overall accuracies, even after adjustment.\")\n",
    "print(\"2. FordB continues to have the lowest accuracies across techniques.\")\n",
    "print(\"3. Techniques like Magwarp remain strong, particularly on datasets like ECG5000.\")\n",
    "print(\"4. The adjustment slightly reduces all accuracies, but the relative performance of techniques remains consistent.\")\n"
   ]
  }
 ],
 "metadata": {
  "kernelspec": {
   "display_name": "Python 3",
   "language": "python",
   "name": "python3"
  },
  "language_info": {
   "codemirror_mode": {
    "name": "ipython",
    "version": 2
   },
   "file_extension": ".py",
   "mimetype": "text/x-python",
   "name": "python",
   "nbconvert_exporter": "python",
   "pygments_lexer": "ipython2",
   "version": "2.7.6"
  }
 },
 "nbformat": 4,
 "nbformat_minor": 5
}
