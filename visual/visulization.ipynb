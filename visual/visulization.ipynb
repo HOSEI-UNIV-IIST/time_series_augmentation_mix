{
 "cells": [
  {
   "cell_type": "code",
   "execution_count": 1,
   "metadata": {
    "ExecuteTime": {
     "end_time": "2024-08-12T08:18:41.501784Z",
     "start_time": "2024-08-12T08:18:41.493436Z"
    }
   },
   "outputs": [],
   "source": [
    "import sys\n",
    "import os\n",
    "if not sys.warnoptions:\n",
    "    import warnings\n",
    "    warnings.simplefilter(\"ignore\")\n",
    "\n",
    "# Load constants from constant.py\n",
    "sys.path.append(os.path.abspath(\"..\"))\n",
    "\n",
    "import numpy as np\n",
    "import os\n",
    "from utils.input_data import read_data_sets\n",
    "import utils.datasets as ds\n",
    "import utils.augmentation as aug\n",
    "import utils.helper as hlp\n"
   ]
  },
  {
   "cell_type": "code",
   "execution_count": 2,
   "metadata": {
    "ExecuteTime": {
     "end_time": "2024-08-12T07:22:51.570501Z",
     "start_time": "2024-08-12T07:22:51.565100Z"
    }
   },
   "outputs": [],
   "source": [
    "dataset = \"CBF\"\n",
    "\n",
    "nb_class = ds.nb_classes(dataset)\n",
    "nb_dims = ds.nb_dims(dataset)\n"
   ]
  },
  {
   "cell_type": "code",
   "execution_count": 3,
   "metadata": {
    "ExecuteTime": {
     "end_time": "2024-08-12T07:22:51.863539Z",
     "start_time": "2024-08-12T07:22:51.573069Z"
    }
   },
   "outputs": [],
   "source": [
    "# Load Data\n",
    "train_data_file = os.path.join(\"../data\", dataset, \"%s_TRAIN.tsv\" % dataset)\n",
    "test_data_file = os.path.join(\"../data\", dataset, \"%s_TEST.tsv\" % dataset)\n",
    "\n",
    "x_train, y_train, x_test, y_test = read_data_sets(\n",
    "    train_data_file, \"\", test_data_file, \"\", delimiter=\"\\t\"\n",
    ")\n",
    "\n",
    "y_train = ds.class_offset(y_train, dataset)\n",
    "y_test = ds.class_offset(y_test, dataset)\n",
    "nb_timesteps = int(x_train.shape[1] / nb_dims)\n",
    "input_shape = (nb_timesteps, nb_dims)\n",
    "\n",
    "x_train_max = np.max(x_train)\n",
    "x_train_min = np.min(x_train)\n",
    "x_train = 2.0 * (x_train - x_train_min) / (x_train_max - x_train_min) - 1.0\n",
    "# Test is secret\n",
    "x_test = 2.0 * (x_test - x_train_min) / (x_train_max - x_train_min) - 1.0\n",
    "\n",
    "x_test = x_test.reshape((-1, input_shape[0], input_shape[1]))\n",
    "x_train = x_train.reshape((-1, input_shape[0], input_shape[1]))\n"
   ]
  },
  {
   "cell_type": "code",
   "execution_count": 4,
   "metadata": {
    "ExecuteTime": {
     "end_time": "2024-08-12T07:24:04.899104Z",
     "start_time": "2024-08-12T07:24:04.894472Z"
    },
    "collapsed": false
   },
   "outputs": [
    {
     "name": "stdout",
     "output_type": "stream",
     "text": [
      "(128, 1)\n"
     ]
    },
    {
     "data": {
      "text/plain": [
       "(30, 128, 1)"
      ]
     },
     "execution_count": 4,
     "metadata": {},
     "output_type": "execute_result"
    }
   ],
   "source": [
    "print(input_shape)\n",
    "x_train.shape\n"
   ]
  },
  {
   "cell_type": "markdown",
   "metadata": {
    "collapsed": false
   },
   "source": [
    "# Save data\n"
   ]
  },
  {
   "cell_type": "code",
   "execution_count": null,
   "metadata": {
    "ExecuteTime": {
     "end_time": "2024-08-12T07:22:51.881084Z",
     "start_time": "2024-08-12T07:22:51.868774Z"
    },
    "collapsed": false
   },
   "outputs": [],
   "source": [
    "\"\"\"# origianl\n",
    "hlp.save_x_train(x_train, \"original\", extension=\"npy\")\n",
    "hlp.save_x_train(x_train, \"original\", extension=\"csv\")\n",
    "\n",
    "# jitter\n",
    "\n",
    "hlp.save_x_train(aug.jitter(x_train, sigma=0.03), \"jitter\", extension=\"npy\")\n",
    "hlp.save_x_train(aug.jitter(x_train, sigma=0.03), \"jitter\", extension=\"csv\")\n",
    "\n",
    "# scaling\n",
    "hlp.save_x_train(aug.scaling(x_train, sigma=0.05), \"scaling\", extension=\"npy\")\n",
    "hlp.save_x_train(aug.scaling(x_train, sigma=0.05), \"scaling\", extension=\"csv\")\n",
    "\n",
    "# magnitude_warp\n",
    "hlp.save_x_train(aug.magnitude_warp(x_train), \"magnitude_warp\", extension=\"npy\")\n",
    "hlp.save_x_train(aug.magnitude_warp(x_train), \"magnitude_warp\", extension=\"csv\")\n",
    "\n",
    "# time_warp\n",
    "hlp.save_x_train(aug.time_warp(x_train), \"time_warp\", extension=\"npy\")\n",
    "hlp.save_x_train(aug.time_warp(x_train), \"time_warp\", extension=\"csv\")\n",
    "\n",
    "# rotation\n",
    "hlp.save_x_train(aug.rotation(x_train), \"rotation\", extension=\"npy\")\n",
    "hlp.save_x_train(aug.rotation(x_train), \"rotation\", extension=\"csv\")\n",
    "\n",
    "# window_warp\n",
    "hlp.save_x_train(aug.window_warp(x_train), \"window_warp\", extension=\"npy\")\n",
    "hlp.save_x_train(aug.window_warp(x_train), \"window_warp\", extension=\"csv\")\n",
    "\n",
    "# window_slice\n",
    "hlp.save_x_train(aug.window_slice(x_train, reduce_ratio=0.9), \"window_slice\", extension=\"npy\")\n",
    "hlp.save_x_train(aug.window_slice(x_train, reduce_ratio=0.9), \"window_slice\", extension=\"csv\")\n",
    "\n",
    "# permutation\n",
    "hlp.save_x_train(aug.permutation(x_train, max_segments=3, seg_mode=\"equal\"), \"permutation\", extension=\"npy\")\n",
    "hlp.save_x_train(aug.permutation(x_train, max_segments=3, seg_mode=\"equal\"), \"permutation\", extension=\"csv\")\n",
    "\"\"\"\n"
   ]
  },
  {
   "cell_type": "markdown",
   "metadata": {
    "collapsed": false
   },
   "source": [
    "Load data\n"
   ]
  },
  {
   "cell_type": "code",
   "execution_count": 5,
   "metadata": {
    "ExecuteTime": {
     "end_time": "2024-08-12T07:22:51.934406Z",
     "start_time": "2024-08-12T07:22:51.888160Z"
    },
    "collapsed": false
   },
   "outputs": [
    {
     "name": "stdout",
     "output_type": "stream",
     "text": [
      "x_train loaded from ./data/original_train.csv\n",
      "x_train loaded from ./data/jitter_train.csv\n",
      "x_train loaded from ./data/scaling_train.csv\n",
      "x_train loaded from ./data/magnitude_warp_train.csv\n",
      "x_train loaded from ./data/time_warp_train.csv\n",
      "x_train loaded from ./data/rotation_train.csv\n",
      "x_train loaded from ./data/window_warp_train.csv\n",
      "x_train loaded from ./data/window_slice_train.csv\n",
      "x_train loaded from ./data/permutation_train.csv\n"
     ]
    }
   ],
   "source": [
    "# origianl\n",
    "original = hlp.load_x_train(\"original\", extension=\"csv\") \n",
    "\n",
    "# jitter\n",
    "jitter = hlp.load_x_train(\"jitter\", extension=\"csv\") \n",
    "\n",
    "# scaling\n",
    "scaling = hlp.load_x_train(\"scaling\", extension=\"csv\") \n",
    "\n",
    "# magnitude_warp\n",
    "magnitude_warp = hlp.load_x_train(\"magnitude_warp\", extension=\"csv\") \n",
    "\n",
    "# time_warp\n",
    "time_warp = hlp.load_x_train(\"time_warp\", extension=\"csv\") \n",
    "\n",
    "# rotation\n",
    "rotation = hlp.load_x_train(\"rotation\", extension=\"csv\") \n",
    "\n",
    "# window_warp\n",
    "window_warp = hlp.load_x_train(\"window_warp\", extension=\"csv\") \n",
    "\n",
    "# window_slice\n",
    "window_slice = hlp.load_x_train(\"window_slice\", extension=\"csv\") \n",
    "\n",
    "# permutation\n",
    "permutation = hlp.load_x_train(\"permutation\", extension=\"csv\") \n"
   ]
  },
  {
   "cell_type": "markdown",
   "metadata": {},
   "source": [
    "## Original\n"
   ]
  },
  {
   "cell_type": "code",
   "execution_count": null,
   "metadata": {},
   "outputs": [],
   "source": []
  },
  {
   "cell_type": "code",
   "execution_count": 16,
   "metadata": {
    "ExecuteTime": {
     "end_time": "2024-08-12T07:22:52.431854Z",
     "start_time": "2024-08-12T07:22:51.938937Z"
    }
   },
   "outputs": [
    {
     "data": {
      "application/vnd.plotly.v1+json": {
       "config": {
        "plotlyServerURL": "https://plot.ly"
       },
       "data": [
        {
         "mode": "lines",
         "name": "original",
         "type": "scatter",
         "x": [
          0,
          1,
          2,
          3,
          4,
          5,
          6,
          7,
          8,
          9,
          10,
          11,
          12,
          13,
          14,
          15,
          16,
          17,
          18,
          19,
          20,
          21,
          22,
          23,
          24,
          25,
          26,
          27,
          28,
          29,
          30,
          31,
          32,
          33,
          34,
          35,
          36,
          37,
          38,
          39,
          40,
          41,
          42,
          43,
          44,
          45,
          46,
          47,
          48,
          49,
          50,
          51,
          52,
          53,
          54,
          55,
          56,
          57,
          58,
          59,
          60,
          61,
          62,
          63,
          64,
          65,
          66,
          67,
          68,
          69,
          70,
          71,
          72,
          73,
          74,
          75,
          76,
          77,
          78,
          79,
          80,
          81,
          82,
          83,
          84,
          85,
          86,
          87,
          88,
          89,
          90,
          91,
          92,
          93,
          94,
          95,
          96,
          97,
          98,
          99,
          100,
          101,
          102,
          103,
          104,
          105,
          106,
          107,
          108,
          109,
          110,
          111,
          112,
          113,
          114,
          115,
          116,
          117,
          118,
          119,
          120,
          121,
          122,
          123,
          124,
          125,
          126,
          127
         ],
         "y": [
          -0.33377328876203904,
          -0.3664164862723184,
          -0.4699133873374587,
          -0.4782034826673083,
          -0.5035569863633922,
          -0.4607167728714232,
          -0.26161039603684466,
          -0.6192294531601332,
          -0.6164765985420649,
          -0.49705215945475867,
          -0.49841656107326415,
          -0.5208518173483173,
          -0.6300190580583005,
          -0.5780212164971329,
          -0.5440015665044242,
          -0.2982102327334334,
          -0.41544970382601454,
          -0.5194356232671938,
          -0.5233143975458098,
          -0.4858242785529686,
          -0.5659455387978661,
          -0.44325896932567854,
          -0.5301328597858068,
          -0.4714068745305837,
          -0.6442942791481396,
          -0.4231866030067464,
          -0.6334988843690658,
          0.31201089216850275,
          0.1696997910788003,
          0.27769685729939453,
          0.21297278558182975,
          0.16071182809735696,
          0.326353829691552,
          0.1701747986622857,
          0.1605489310567234,
          0.1680271052735205,
          0.37038270932981754,
          0.3076239965030556,
          0.27159838652921264,
          0.1742398920277115,
          -0.10602634539660427,
          0.1846818775109338,
          0.27557538739607645,
          0.038736615620415416,
          0.10338695805950526,
          0.17909065784734723,
          0.11416523133361256,
          0.2303646528130281,
          0.192923974368449,
          0.031241514093415246,
          -0.07011747164891324,
          0.23794954064846996,
          0.22009174983327107,
          0.21860813780348076,
          0.248364493501398,
          0.10628583635099398,
          -0.1124405660633504,
          0.2001016645547986,
          0.2853305455596198,
          0.19538064601045724,
          0.25121814958642785,
          0.13167337807364898,
          0.36725901463778987,
          0.23060228966414553,
          0.3867589739108326,
          0.23438743329724554,
          0.5133614448234236,
          0.3330825703546947,
          0.24915946932325106,
          0.3779628861441495,
          0.420661963197575,
          0.1245756529753963,
          0.07653173547005099,
          0.08830183332443275,
          0.3227812574003037,
          0.30514768961275585,
          0.04594390252717506,
          0.13236782933588787,
          0.2277130671678329,
          0.1802071410808772,
          0.16616998478987477,
          0.2777296546372001,
          0.23656464429003554,
          0.16932618193136406,
          0.2706688049667827,
          -0.7445879987276647,
          -0.38070331229736554,
          -0.4389103587982006,
          -0.3703762649406349,
          -0.4000234544119703,
          -0.40289801520365187,
          -0.3582182918161113,
          -0.20818382404372127,
          -0.372927225332635,
          -0.3614303379330521,
          -0.4185753512542735,
          -0.5979682552697357,
          -0.5094198701160692,
          -0.5258123283826256,
          -0.46349311067105625,
          -0.3037463909892193,
          -0.33820423067676697,
          -0.38307176917003505,
          -0.29964062101327593,
          -0.6339726476675861,
          -0.4970832809636808,
          -0.6216620662286856,
          -0.5235307664741442,
          -0.4565116003500541,
          -0.498002473106273,
          -0.2985150645688599,
          -0.29136918636170184,
          -0.543302213622511,
          -0.49574263583788847,
          -0.4946289180816362,
          -0.5216742357671871,
          -0.6051705074974464,
          -0.35727217133300504,
          -0.6454951220253364,
          -0.5565303293561168,
          -0.5328894544511689,
          -0.4962323950309876,
          -0.5747232140240266,
          -0.4977409898574593,
          -0.45068033797800466,
          -0.3965015561653512,
          -0.513363081094115,
          -0.6145978361309068
         ]
        }
       ],
       "layout": {
        "height": 300,
        "legend": {
         "font": {
          "color": "black"
         },
         "orientation": "h",
         "x": 0.5,
         "xanchor": "center",
         "y": -0.3,
         "yanchor": "bottom"
        },
        "margin": {
         "b": 100,
         "l": 40,
         "r": 40,
         "t": 40
        },
        "paper_bgcolor": "white",
        "plot_bgcolor": "white",
        "template": {
         "data": {
          "bar": [
           {
            "error_x": {
             "color": "#2a3f5f"
            },
            "error_y": {
             "color": "#2a3f5f"
            },
            "marker": {
             "line": {
              "color": "#E5ECF6",
              "width": 0.5
             },
             "pattern": {
              "fillmode": "overlay",
              "size": 10,
              "solidity": 0.2
             }
            },
            "type": "bar"
           }
          ],
          "barpolar": [
           {
            "marker": {
             "line": {
              "color": "#E5ECF6",
              "width": 0.5
             },
             "pattern": {
              "fillmode": "overlay",
              "size": 10,
              "solidity": 0.2
             }
            },
            "type": "barpolar"
           }
          ],
          "carpet": [
           {
            "aaxis": {
             "endlinecolor": "#2a3f5f",
             "gridcolor": "white",
             "linecolor": "white",
             "minorgridcolor": "white",
             "startlinecolor": "#2a3f5f"
            },
            "baxis": {
             "endlinecolor": "#2a3f5f",
             "gridcolor": "white",
             "linecolor": "white",
             "minorgridcolor": "white",
             "startlinecolor": "#2a3f5f"
            },
            "type": "carpet"
           }
          ],
          "choropleth": [
           {
            "colorbar": {
             "outlinewidth": 0,
             "ticks": ""
            },
            "type": "choropleth"
           }
          ],
          "contour": [
           {
            "colorbar": {
             "outlinewidth": 0,
             "ticks": ""
            },
            "colorscale": [
             [
              0,
              "#0d0887"
             ],
             [
              0.1111111111111111,
              "#46039f"
             ],
             [
              0.2222222222222222,
              "#7201a8"
             ],
             [
              0.3333333333333333,
              "#9c179e"
             ],
             [
              0.4444444444444444,
              "#bd3786"
             ],
             [
              0.5555555555555556,
              "#d8576b"
             ],
             [
              0.6666666666666666,
              "#ed7953"
             ],
             [
              0.7777777777777778,
              "#fb9f3a"
             ],
             [
              0.8888888888888888,
              "#fdca26"
             ],
             [
              1,
              "#f0f921"
             ]
            ],
            "type": "contour"
           }
          ],
          "contourcarpet": [
           {
            "colorbar": {
             "outlinewidth": 0,
             "ticks": ""
            },
            "type": "contourcarpet"
           }
          ],
          "heatmap": [
           {
            "colorbar": {
             "outlinewidth": 0,
             "ticks": ""
            },
            "colorscale": [
             [
              0,
              "#0d0887"
             ],
             [
              0.1111111111111111,
              "#46039f"
             ],
             [
              0.2222222222222222,
              "#7201a8"
             ],
             [
              0.3333333333333333,
              "#9c179e"
             ],
             [
              0.4444444444444444,
              "#bd3786"
             ],
             [
              0.5555555555555556,
              "#d8576b"
             ],
             [
              0.6666666666666666,
              "#ed7953"
             ],
             [
              0.7777777777777778,
              "#fb9f3a"
             ],
             [
              0.8888888888888888,
              "#fdca26"
             ],
             [
              1,
              "#f0f921"
             ]
            ],
            "type": "heatmap"
           }
          ],
          "heatmapgl": [
           {
            "colorbar": {
             "outlinewidth": 0,
             "ticks": ""
            },
            "colorscale": [
             [
              0,
              "#0d0887"
             ],
             [
              0.1111111111111111,
              "#46039f"
             ],
             [
              0.2222222222222222,
              "#7201a8"
             ],
             [
              0.3333333333333333,
              "#9c179e"
             ],
             [
              0.4444444444444444,
              "#bd3786"
             ],
             [
              0.5555555555555556,
              "#d8576b"
             ],
             [
              0.6666666666666666,
              "#ed7953"
             ],
             [
              0.7777777777777778,
              "#fb9f3a"
             ],
             [
              0.8888888888888888,
              "#fdca26"
             ],
             [
              1,
              "#f0f921"
             ]
            ],
            "type": "heatmapgl"
           }
          ],
          "histogram": [
           {
            "marker": {
             "pattern": {
              "fillmode": "overlay",
              "size": 10,
              "solidity": 0.2
             }
            },
            "type": "histogram"
           }
          ],
          "histogram2d": [
           {
            "colorbar": {
             "outlinewidth": 0,
             "ticks": ""
            },
            "colorscale": [
             [
              0,
              "#0d0887"
             ],
             [
              0.1111111111111111,
              "#46039f"
             ],
             [
              0.2222222222222222,
              "#7201a8"
             ],
             [
              0.3333333333333333,
              "#9c179e"
             ],
             [
              0.4444444444444444,
              "#bd3786"
             ],
             [
              0.5555555555555556,
              "#d8576b"
             ],
             [
              0.6666666666666666,
              "#ed7953"
             ],
             [
              0.7777777777777778,
              "#fb9f3a"
             ],
             [
              0.8888888888888888,
              "#fdca26"
             ],
             [
              1,
              "#f0f921"
             ]
            ],
            "type": "histogram2d"
           }
          ],
          "histogram2dcontour": [
           {
            "colorbar": {
             "outlinewidth": 0,
             "ticks": ""
            },
            "colorscale": [
             [
              0,
              "#0d0887"
             ],
             [
              0.1111111111111111,
              "#46039f"
             ],
             [
              0.2222222222222222,
              "#7201a8"
             ],
             [
              0.3333333333333333,
              "#9c179e"
             ],
             [
              0.4444444444444444,
              "#bd3786"
             ],
             [
              0.5555555555555556,
              "#d8576b"
             ],
             [
              0.6666666666666666,
              "#ed7953"
             ],
             [
              0.7777777777777778,
              "#fb9f3a"
             ],
             [
              0.8888888888888888,
              "#fdca26"
             ],
             [
              1,
              "#f0f921"
             ]
            ],
            "type": "histogram2dcontour"
           }
          ],
          "mesh3d": [
           {
            "colorbar": {
             "outlinewidth": 0,
             "ticks": ""
            },
            "type": "mesh3d"
           }
          ],
          "parcoords": [
           {
            "line": {
             "colorbar": {
              "outlinewidth": 0,
              "ticks": ""
             }
            },
            "type": "parcoords"
           }
          ],
          "pie": [
           {
            "automargin": true,
            "type": "pie"
           }
          ],
          "scatter": [
           {
            "fillpattern": {
             "fillmode": "overlay",
             "size": 10,
             "solidity": 0.2
            },
            "type": "scatter"
           }
          ],
          "scatter3d": [
           {
            "line": {
             "colorbar": {
              "outlinewidth": 0,
              "ticks": ""
             }
            },
            "marker": {
             "colorbar": {
              "outlinewidth": 0,
              "ticks": ""
             }
            },
            "type": "scatter3d"
           }
          ],
          "scattercarpet": [
           {
            "marker": {
             "colorbar": {
              "outlinewidth": 0,
              "ticks": ""
             }
            },
            "type": "scattercarpet"
           }
          ],
          "scattergeo": [
           {
            "marker": {
             "colorbar": {
              "outlinewidth": 0,
              "ticks": ""
             }
            },
            "type": "scattergeo"
           }
          ],
          "scattergl": [
           {
            "marker": {
             "colorbar": {
              "outlinewidth": 0,
              "ticks": ""
             }
            },
            "type": "scattergl"
           }
          ],
          "scattermapbox": [
           {
            "marker": {
             "colorbar": {
              "outlinewidth": 0,
              "ticks": ""
             }
            },
            "type": "scattermapbox"
           }
          ],
          "scatterpolar": [
           {
            "marker": {
             "colorbar": {
              "outlinewidth": 0,
              "ticks": ""
             }
            },
            "type": "scatterpolar"
           }
          ],
          "scatterpolargl": [
           {
            "marker": {
             "colorbar": {
              "outlinewidth": 0,
              "ticks": ""
             }
            },
            "type": "scatterpolargl"
           }
          ],
          "scatterternary": [
           {
            "marker": {
             "colorbar": {
              "outlinewidth": 0,
              "ticks": ""
             }
            },
            "type": "scatterternary"
           }
          ],
          "surface": [
           {
            "colorbar": {
             "outlinewidth": 0,
             "ticks": ""
            },
            "colorscale": [
             [
              0,
              "#0d0887"
             ],
             [
              0.1111111111111111,
              "#46039f"
             ],
             [
              0.2222222222222222,
              "#7201a8"
             ],
             [
              0.3333333333333333,
              "#9c179e"
             ],
             [
              0.4444444444444444,
              "#bd3786"
             ],
             [
              0.5555555555555556,
              "#d8576b"
             ],
             [
              0.6666666666666666,
              "#ed7953"
             ],
             [
              0.7777777777777778,
              "#fb9f3a"
             ],
             [
              0.8888888888888888,
              "#fdca26"
             ],
             [
              1,
              "#f0f921"
             ]
            ],
            "type": "surface"
           }
          ],
          "table": [
           {
            "cells": {
             "fill": {
              "color": "#EBF0F8"
             },
             "line": {
              "color": "white"
             }
            },
            "header": {
             "fill": {
              "color": "#C8D4E3"
             },
             "line": {
              "color": "white"
             }
            },
            "type": "table"
           }
          ]
         },
         "layout": {
          "annotationdefaults": {
           "arrowcolor": "#2a3f5f",
           "arrowhead": 0,
           "arrowwidth": 1
          },
          "autotypenumbers": "strict",
          "coloraxis": {
           "colorbar": {
            "outlinewidth": 0,
            "ticks": ""
           }
          },
          "colorscale": {
           "diverging": [
            [
             0,
             "#8e0152"
            ],
            [
             0.1,
             "#c51b7d"
            ],
            [
             0.2,
             "#de77ae"
            ],
            [
             0.3,
             "#f1b6da"
            ],
            [
             0.4,
             "#fde0ef"
            ],
            [
             0.5,
             "#f7f7f7"
            ],
            [
             0.6,
             "#e6f5d0"
            ],
            [
             0.7,
             "#b8e186"
            ],
            [
             0.8,
             "#7fbc41"
            ],
            [
             0.9,
             "#4d9221"
            ],
            [
             1,
             "#276419"
            ]
           ],
           "sequential": [
            [
             0,
             "#0d0887"
            ],
            [
             0.1111111111111111,
             "#46039f"
            ],
            [
             0.2222222222222222,
             "#7201a8"
            ],
            [
             0.3333333333333333,
             "#9c179e"
            ],
            [
             0.4444444444444444,
             "#bd3786"
            ],
            [
             0.5555555555555556,
             "#d8576b"
            ],
            [
             0.6666666666666666,
             "#ed7953"
            ],
            [
             0.7777777777777778,
             "#fb9f3a"
            ],
            [
             0.8888888888888888,
             "#fdca26"
            ],
            [
             1,
             "#f0f921"
            ]
           ],
           "sequentialminus": [
            [
             0,
             "#0d0887"
            ],
            [
             0.1111111111111111,
             "#46039f"
            ],
            [
             0.2222222222222222,
             "#7201a8"
            ],
            [
             0.3333333333333333,
             "#9c179e"
            ],
            [
             0.4444444444444444,
             "#bd3786"
            ],
            [
             0.5555555555555556,
             "#d8576b"
            ],
            [
             0.6666666666666666,
             "#ed7953"
            ],
            [
             0.7777777777777778,
             "#fb9f3a"
            ],
            [
             0.8888888888888888,
             "#fdca26"
            ],
            [
             1,
             "#f0f921"
            ]
           ]
          },
          "colorway": [
           "#636efa",
           "#EF553B",
           "#00cc96",
           "#ab63fa",
           "#FFA15A",
           "#19d3f3",
           "#FF6692",
           "#B6E880",
           "#FF97FF",
           "#FECB52"
          ],
          "font": {
           "color": "#2a3f5f"
          },
          "geo": {
           "bgcolor": "white",
           "lakecolor": "white",
           "landcolor": "#E5ECF6",
           "showlakes": true,
           "showland": true,
           "subunitcolor": "white"
          },
          "hoverlabel": {
           "align": "left"
          },
          "hovermode": "closest",
          "mapbox": {
           "style": "light"
          },
          "paper_bgcolor": "white",
          "plot_bgcolor": "#E5ECF6",
          "polar": {
           "angularaxis": {
            "gridcolor": "white",
            "linecolor": "white",
            "ticks": ""
           },
           "bgcolor": "#E5ECF6",
           "radialaxis": {
            "gridcolor": "white",
            "linecolor": "white",
            "ticks": ""
           }
          },
          "scene": {
           "xaxis": {
            "backgroundcolor": "#E5ECF6",
            "gridcolor": "white",
            "gridwidth": 2,
            "linecolor": "white",
            "showbackground": true,
            "ticks": "",
            "zerolinecolor": "white"
           },
           "yaxis": {
            "backgroundcolor": "#E5ECF6",
            "gridcolor": "white",
            "gridwidth": 2,
            "linecolor": "white",
            "showbackground": true,
            "ticks": "",
            "zerolinecolor": "white"
           },
           "zaxis": {
            "backgroundcolor": "#E5ECF6",
            "gridcolor": "white",
            "gridwidth": 2,
            "linecolor": "white",
            "showbackground": true,
            "ticks": "",
            "zerolinecolor": "white"
           }
          },
          "shapedefaults": {
           "line": {
            "color": "#2a3f5f"
           }
          },
          "ternary": {
           "aaxis": {
            "gridcolor": "white",
            "linecolor": "white",
            "ticks": ""
           },
           "baxis": {
            "gridcolor": "white",
            "linecolor": "white",
            "ticks": ""
           },
           "bgcolor": "#E5ECF6",
           "caxis": {
            "gridcolor": "white",
            "linecolor": "white",
            "ticks": ""
           }
          },
          "title": {
           "x": 0.05
          },
          "xaxis": {
           "automargin": true,
           "gridcolor": "white",
           "linecolor": "white",
           "ticks": "",
           "title": {
            "standoff": 15
           },
           "zerolinecolor": "white",
           "zerolinewidth": 2
          },
          "yaxis": {
           "automargin": true,
           "gridcolor": "white",
           "linecolor": "white",
           "ticks": "",
           "title": {
            "standoff": 15
           },
           "zerolinecolor": "white",
           "zerolinewidth": 2
          }
         }
        },
        "width": 600,
        "xaxis": {
         "linecolor": "black",
         "range": [
          0,
          128
         ],
         "showgrid": false,
         "showline": true,
         "tickcolor": "black",
         "tickfont": {
          "color": "black"
         },
         "zeroline": false
        },
        "yaxis": {
         "linecolor": "black",
         "range": [
          -1,
          1
         ],
         "showgrid": false,
         "showline": true,
         "tickcolor": "black",
         "tickfont": {
          "color": "black"
         },
         "zeroline": false
        }
       }
      }
     },
     "metadata": {},
     "output_type": "display_data"
    }
   ],
   "source": [
    "hlp.plot1d_plotly(x=original[0], label1='original')\n"
   ]
  },
  {
   "cell_type": "markdown",
   "metadata": {},
   "source": [
    "## Jittering\n"
   ]
  },
  {
   "cell_type": "code",
   "execution_count": 17,
   "metadata": {
    "ExecuteTime": {
     "end_time": "2024-08-12T07:22:52.522390Z",
     "start_time": "2024-08-12T07:22:52.463252Z"
    }
   },
   "outputs": [
    {
     "data": {
      "application/vnd.plotly.v1+json": {
       "config": {
        "plotlyServerURL": "https://plot.ly"
       },
       "data": [
        {
         "mode": "lines",
         "name": "original",
         "type": "scatter",
         "x": [
          0,
          1,
          2,
          3,
          4,
          5,
          6,
          7,
          8,
          9,
          10,
          11,
          12,
          13,
          14,
          15,
          16,
          17,
          18,
          19,
          20,
          21,
          22,
          23,
          24,
          25,
          26,
          27,
          28,
          29,
          30,
          31,
          32,
          33,
          34,
          35,
          36,
          37,
          38,
          39,
          40,
          41,
          42,
          43,
          44,
          45,
          46,
          47,
          48,
          49,
          50,
          51,
          52,
          53,
          54,
          55,
          56,
          57,
          58,
          59,
          60,
          61,
          62,
          63,
          64,
          65,
          66,
          67,
          68,
          69,
          70,
          71,
          72,
          73,
          74,
          75,
          76,
          77,
          78,
          79,
          80,
          81,
          82,
          83,
          84,
          85,
          86,
          87,
          88,
          89,
          90,
          91,
          92,
          93,
          94,
          95,
          96,
          97,
          98,
          99,
          100,
          101,
          102,
          103,
          104,
          105,
          106,
          107,
          108,
          109,
          110,
          111,
          112,
          113,
          114,
          115,
          116,
          117,
          118,
          119,
          120,
          121,
          122,
          123,
          124,
          125,
          126,
          127
         ],
         "y": [
          -0.33377328876203904,
          -0.3664164862723184,
          -0.4699133873374587,
          -0.4782034826673083,
          -0.5035569863633922,
          -0.4607167728714232,
          -0.26161039603684466,
          -0.6192294531601332,
          -0.6164765985420649,
          -0.49705215945475867,
          -0.49841656107326415,
          -0.5208518173483173,
          -0.6300190580583005,
          -0.5780212164971329,
          -0.5440015665044242,
          -0.2982102327334334,
          -0.41544970382601454,
          -0.5194356232671938,
          -0.5233143975458098,
          -0.4858242785529686,
          -0.5659455387978661,
          -0.44325896932567854,
          -0.5301328597858068,
          -0.4714068745305837,
          -0.6442942791481396,
          -0.4231866030067464,
          -0.6334988843690658,
          0.31201089216850275,
          0.1696997910788003,
          0.27769685729939453,
          0.21297278558182975,
          0.16071182809735696,
          0.326353829691552,
          0.1701747986622857,
          0.1605489310567234,
          0.1680271052735205,
          0.37038270932981754,
          0.3076239965030556,
          0.27159838652921264,
          0.1742398920277115,
          -0.10602634539660427,
          0.1846818775109338,
          0.27557538739607645,
          0.038736615620415416,
          0.10338695805950526,
          0.17909065784734723,
          0.11416523133361256,
          0.2303646528130281,
          0.192923974368449,
          0.031241514093415246,
          -0.07011747164891324,
          0.23794954064846996,
          0.22009174983327107,
          0.21860813780348076,
          0.248364493501398,
          0.10628583635099398,
          -0.1124405660633504,
          0.2001016645547986,
          0.2853305455596198,
          0.19538064601045724,
          0.25121814958642785,
          0.13167337807364898,
          0.36725901463778987,
          0.23060228966414553,
          0.3867589739108326,
          0.23438743329724554,
          0.5133614448234236,
          0.3330825703546947,
          0.24915946932325106,
          0.3779628861441495,
          0.420661963197575,
          0.1245756529753963,
          0.07653173547005099,
          0.08830183332443275,
          0.3227812574003037,
          0.30514768961275585,
          0.04594390252717506,
          0.13236782933588787,
          0.2277130671678329,
          0.1802071410808772,
          0.16616998478987477,
          0.2777296546372001,
          0.23656464429003554,
          0.16932618193136406,
          0.2706688049667827,
          -0.7445879987276647,
          -0.38070331229736554,
          -0.4389103587982006,
          -0.3703762649406349,
          -0.4000234544119703,
          -0.40289801520365187,
          -0.3582182918161113,
          -0.20818382404372127,
          -0.372927225332635,
          -0.3614303379330521,
          -0.4185753512542735,
          -0.5979682552697357,
          -0.5094198701160692,
          -0.5258123283826256,
          -0.46349311067105625,
          -0.3037463909892193,
          -0.33820423067676697,
          -0.38307176917003505,
          -0.29964062101327593,
          -0.6339726476675861,
          -0.4970832809636808,
          -0.6216620662286856,
          -0.5235307664741442,
          -0.4565116003500541,
          -0.498002473106273,
          -0.2985150645688599,
          -0.29136918636170184,
          -0.543302213622511,
          -0.49574263583788847,
          -0.4946289180816362,
          -0.5216742357671871,
          -0.6051705074974464,
          -0.35727217133300504,
          -0.6454951220253364,
          -0.5565303293561168,
          -0.5328894544511689,
          -0.4962323950309876,
          -0.5747232140240266,
          -0.4977409898574593,
          -0.45068033797800466,
          -0.3965015561653512,
          -0.513363081094115,
          -0.6145978361309068
         ]
        },
        {
         "mode": "lines",
         "name": "jittering",
         "type": "scatter",
         "x": [
          0,
          1,
          2,
          3,
          4,
          5,
          6,
          7,
          8,
          9,
          10,
          11,
          12,
          13,
          14,
          15,
          16,
          17,
          18,
          19,
          20,
          21,
          22,
          23,
          24,
          25,
          26,
          27,
          28,
          29,
          30,
          31,
          32,
          33,
          34,
          35,
          36,
          37,
          38,
          39,
          40,
          41,
          42,
          43,
          44,
          45,
          46,
          47,
          48,
          49,
          50,
          51,
          52,
          53,
          54,
          55,
          56,
          57,
          58,
          59,
          60,
          61,
          62,
          63,
          64,
          65,
          66,
          67,
          68,
          69,
          70,
          71,
          72,
          73,
          74,
          75,
          76,
          77,
          78,
          79,
          80,
          81,
          82,
          83,
          84,
          85,
          86,
          87,
          88,
          89,
          90,
          91,
          92,
          93,
          94,
          95,
          96,
          97,
          98,
          99,
          100,
          101,
          102,
          103,
          104,
          105,
          106,
          107,
          108,
          109,
          110,
          111,
          112,
          113,
          114,
          115,
          116,
          117,
          118,
          119,
          120,
          121,
          122,
          123,
          124,
          125,
          126,
          127
         ],
         "y": [
          -0.35931229704389145,
          -0.3961788217739464,
          -0.4255744588405902,
          -0.490959334595475,
          -0.5347161791640173,
          -0.4752637511960213,
          -0.24156464770589553,
          -0.6325517958928094,
          -0.6455162970259332,
          -0.5138895988415519,
          -0.4939393313325853,
          -0.557250636339381,
          -0.6145601905329303,
          -0.5876024915792142,
          -0.531071154052937,
          -0.2768669370019523,
          -0.3535483074093625,
          -0.5296123372411038,
          -0.5301604207075014,
          -0.4358726037030039,
          -0.530061193337303,
          -0.40878940173389167,
          -0.5370768586671764,
          -0.5126903345198806,
          -0.6840394133289984,
          -0.4361662531656646,
          -0.6303375324361811,
          0.36304024747039065,
          0.1686740763854885,
          0.22675417659824076,
          0.20093578365196735,
          0.16947240519352758,
          0.34394067831067443,
          0.11773591047224721,
          0.17300279583765596,
          0.13728733689140357,
          0.42395239015637154,
          0.301417963425203,
          0.2972388417667885,
          0.20248488495227684,
          -0.1706215506144252,
          0.21463169563224377,
          0.25725959110845276,
          0.029723385684451913,
          0.06146024356690053,
          0.14645226909939654,
          0.11519127570619947,
          0.2571501840660403,
          0.2167055436804233,
          0.022805411238483314,
          -0.06936689950852049,
          0.193553281534887,
          0.21302279794423953,
          0.26137224562077815,
          0.273791541657802,
          0.1168647128651605,
          -0.09587804632532812,
          0.22333504340369428,
          0.28147159487977125,
          0.20213192018159465,
          0.2521732900427588,
          0.10488588096217838,
          0.3811467065593642,
          0.2643327304143016,
          0.4589428595621663,
          0.2634546968770974,
          0.5259463275993781,
          0.31170100653823307,
          0.23617130797496047,
          0.3959959540518847,
          0.41129092512125437,
          0.15828856582442663,
          0.10474578449104792,
          0.09748120100077487,
          0.24908223658120102,
          0.25892439029421277,
          0.032819764585836846,
          0.17503803177243954,
          0.22907772963847,
          0.1749479617894407,
          0.15653956750188927,
          0.291478242669395,
          0.2674336464650472,
          0.2068177027548755,
          0.23807529927954993,
          -0.7688766678255142,
          -0.3681937165459177,
          -0.37498899426236476,
          -0.3450401002312881,
          -0.39304875136717515,
          -0.4021843311321646,
          -0.3935042652592906,
          -0.18808809826084882,
          -0.35540004476127246,
          -0.4372488842209096,
          -0.4468616888929297,
          -0.5604942151456594,
          -0.5313754034594942,
          -0.5381266933631802,
          -0.4835945643167116,
          -0.3414573094686435,
          -0.3564019176514637,
          -0.38696218526004184,
          -0.34023396961727503,
          -0.6344731777461624,
          -0.5164548682250764,
          -0.6421446112477643,
          -0.5774503856490206,
          -0.4251243833886823,
          -0.4850823743282702,
          -0.3261264134771938,
          -0.30996404616106843,
          -0.4791543179557575,
          -0.4980878766447283,
          -0.4952934842233159,
          -0.5269330459124433,
          -0.6308956449437614,
          -0.3830046374185211,
          -0.5736172632782046,
          -0.5183513651167384,
          -0.5312565987174606,
          -0.5144016456789562,
          -0.6192387840673299,
          -0.49914194008124585,
          -0.3806673952444619,
          -0.39318378103950796,
          -0.4931934036022017,
          -0.658746469641353
         ]
        }
       ],
       "layout": {
        "height": 300,
        "legend": {
         "font": {
          "color": "black"
         },
         "orientation": "h",
         "x": 0.5,
         "xanchor": "center",
         "y": -0.3,
         "yanchor": "bottom"
        },
        "margin": {
         "b": 100,
         "l": 40,
         "r": 40,
         "t": 40
        },
        "paper_bgcolor": "white",
        "plot_bgcolor": "white",
        "template": {
         "data": {
          "bar": [
           {
            "error_x": {
             "color": "#2a3f5f"
            },
            "error_y": {
             "color": "#2a3f5f"
            },
            "marker": {
             "line": {
              "color": "#E5ECF6",
              "width": 0.5
             },
             "pattern": {
              "fillmode": "overlay",
              "size": 10,
              "solidity": 0.2
             }
            },
            "type": "bar"
           }
          ],
          "barpolar": [
           {
            "marker": {
             "line": {
              "color": "#E5ECF6",
              "width": 0.5
             },
             "pattern": {
              "fillmode": "overlay",
              "size": 10,
              "solidity": 0.2
             }
            },
            "type": "barpolar"
           }
          ],
          "carpet": [
           {
            "aaxis": {
             "endlinecolor": "#2a3f5f",
             "gridcolor": "white",
             "linecolor": "white",
             "minorgridcolor": "white",
             "startlinecolor": "#2a3f5f"
            },
            "baxis": {
             "endlinecolor": "#2a3f5f",
             "gridcolor": "white",
             "linecolor": "white",
             "minorgridcolor": "white",
             "startlinecolor": "#2a3f5f"
            },
            "type": "carpet"
           }
          ],
          "choropleth": [
           {
            "colorbar": {
             "outlinewidth": 0,
             "ticks": ""
            },
            "type": "choropleth"
           }
          ],
          "contour": [
           {
            "colorbar": {
             "outlinewidth": 0,
             "ticks": ""
            },
            "colorscale": [
             [
              0,
              "#0d0887"
             ],
             [
              0.1111111111111111,
              "#46039f"
             ],
             [
              0.2222222222222222,
              "#7201a8"
             ],
             [
              0.3333333333333333,
              "#9c179e"
             ],
             [
              0.4444444444444444,
              "#bd3786"
             ],
             [
              0.5555555555555556,
              "#d8576b"
             ],
             [
              0.6666666666666666,
              "#ed7953"
             ],
             [
              0.7777777777777778,
              "#fb9f3a"
             ],
             [
              0.8888888888888888,
              "#fdca26"
             ],
             [
              1,
              "#f0f921"
             ]
            ],
            "type": "contour"
           }
          ],
          "contourcarpet": [
           {
            "colorbar": {
             "outlinewidth": 0,
             "ticks": ""
            },
            "type": "contourcarpet"
           }
          ],
          "heatmap": [
           {
            "colorbar": {
             "outlinewidth": 0,
             "ticks": ""
            },
            "colorscale": [
             [
              0,
              "#0d0887"
             ],
             [
              0.1111111111111111,
              "#46039f"
             ],
             [
              0.2222222222222222,
              "#7201a8"
             ],
             [
              0.3333333333333333,
              "#9c179e"
             ],
             [
              0.4444444444444444,
              "#bd3786"
             ],
             [
              0.5555555555555556,
              "#d8576b"
             ],
             [
              0.6666666666666666,
              "#ed7953"
             ],
             [
              0.7777777777777778,
              "#fb9f3a"
             ],
             [
              0.8888888888888888,
              "#fdca26"
             ],
             [
              1,
              "#f0f921"
             ]
            ],
            "type": "heatmap"
           }
          ],
          "heatmapgl": [
           {
            "colorbar": {
             "outlinewidth": 0,
             "ticks": ""
            },
            "colorscale": [
             [
              0,
              "#0d0887"
             ],
             [
              0.1111111111111111,
              "#46039f"
             ],
             [
              0.2222222222222222,
              "#7201a8"
             ],
             [
              0.3333333333333333,
              "#9c179e"
             ],
             [
              0.4444444444444444,
              "#bd3786"
             ],
             [
              0.5555555555555556,
              "#d8576b"
             ],
             [
              0.6666666666666666,
              "#ed7953"
             ],
             [
              0.7777777777777778,
              "#fb9f3a"
             ],
             [
              0.8888888888888888,
              "#fdca26"
             ],
             [
              1,
              "#f0f921"
             ]
            ],
            "type": "heatmapgl"
           }
          ],
          "histogram": [
           {
            "marker": {
             "pattern": {
              "fillmode": "overlay",
              "size": 10,
              "solidity": 0.2
             }
            },
            "type": "histogram"
           }
          ],
          "histogram2d": [
           {
            "colorbar": {
             "outlinewidth": 0,
             "ticks": ""
            },
            "colorscale": [
             [
              0,
              "#0d0887"
             ],
             [
              0.1111111111111111,
              "#46039f"
             ],
             [
              0.2222222222222222,
              "#7201a8"
             ],
             [
              0.3333333333333333,
              "#9c179e"
             ],
             [
              0.4444444444444444,
              "#bd3786"
             ],
             [
              0.5555555555555556,
              "#d8576b"
             ],
             [
              0.6666666666666666,
              "#ed7953"
             ],
             [
              0.7777777777777778,
              "#fb9f3a"
             ],
             [
              0.8888888888888888,
              "#fdca26"
             ],
             [
              1,
              "#f0f921"
             ]
            ],
            "type": "histogram2d"
           }
          ],
          "histogram2dcontour": [
           {
            "colorbar": {
             "outlinewidth": 0,
             "ticks": ""
            },
            "colorscale": [
             [
              0,
              "#0d0887"
             ],
             [
              0.1111111111111111,
              "#46039f"
             ],
             [
              0.2222222222222222,
              "#7201a8"
             ],
             [
              0.3333333333333333,
              "#9c179e"
             ],
             [
              0.4444444444444444,
              "#bd3786"
             ],
             [
              0.5555555555555556,
              "#d8576b"
             ],
             [
              0.6666666666666666,
              "#ed7953"
             ],
             [
              0.7777777777777778,
              "#fb9f3a"
             ],
             [
              0.8888888888888888,
              "#fdca26"
             ],
             [
              1,
              "#f0f921"
             ]
            ],
            "type": "histogram2dcontour"
           }
          ],
          "mesh3d": [
           {
            "colorbar": {
             "outlinewidth": 0,
             "ticks": ""
            },
            "type": "mesh3d"
           }
          ],
          "parcoords": [
           {
            "line": {
             "colorbar": {
              "outlinewidth": 0,
              "ticks": ""
             }
            },
            "type": "parcoords"
           }
          ],
          "pie": [
           {
            "automargin": true,
            "type": "pie"
           }
          ],
          "scatter": [
           {
            "fillpattern": {
             "fillmode": "overlay",
             "size": 10,
             "solidity": 0.2
            },
            "type": "scatter"
           }
          ],
          "scatter3d": [
           {
            "line": {
             "colorbar": {
              "outlinewidth": 0,
              "ticks": ""
             }
            },
            "marker": {
             "colorbar": {
              "outlinewidth": 0,
              "ticks": ""
             }
            },
            "type": "scatter3d"
           }
          ],
          "scattercarpet": [
           {
            "marker": {
             "colorbar": {
              "outlinewidth": 0,
              "ticks": ""
             }
            },
            "type": "scattercarpet"
           }
          ],
          "scattergeo": [
           {
            "marker": {
             "colorbar": {
              "outlinewidth": 0,
              "ticks": ""
             }
            },
            "type": "scattergeo"
           }
          ],
          "scattergl": [
           {
            "marker": {
             "colorbar": {
              "outlinewidth": 0,
              "ticks": ""
             }
            },
            "type": "scattergl"
           }
          ],
          "scattermapbox": [
           {
            "marker": {
             "colorbar": {
              "outlinewidth": 0,
              "ticks": ""
             }
            },
            "type": "scattermapbox"
           }
          ],
          "scatterpolar": [
           {
            "marker": {
             "colorbar": {
              "outlinewidth": 0,
              "ticks": ""
             }
            },
            "type": "scatterpolar"
           }
          ],
          "scatterpolargl": [
           {
            "marker": {
             "colorbar": {
              "outlinewidth": 0,
              "ticks": ""
             }
            },
            "type": "scatterpolargl"
           }
          ],
          "scatterternary": [
           {
            "marker": {
             "colorbar": {
              "outlinewidth": 0,
              "ticks": ""
             }
            },
            "type": "scatterternary"
           }
          ],
          "surface": [
           {
            "colorbar": {
             "outlinewidth": 0,
             "ticks": ""
            },
            "colorscale": [
             [
              0,
              "#0d0887"
             ],
             [
              0.1111111111111111,
              "#46039f"
             ],
             [
              0.2222222222222222,
              "#7201a8"
             ],
             [
              0.3333333333333333,
              "#9c179e"
             ],
             [
              0.4444444444444444,
              "#bd3786"
             ],
             [
              0.5555555555555556,
              "#d8576b"
             ],
             [
              0.6666666666666666,
              "#ed7953"
             ],
             [
              0.7777777777777778,
              "#fb9f3a"
             ],
             [
              0.8888888888888888,
              "#fdca26"
             ],
             [
              1,
              "#f0f921"
             ]
            ],
            "type": "surface"
           }
          ],
          "table": [
           {
            "cells": {
             "fill": {
              "color": "#EBF0F8"
             },
             "line": {
              "color": "white"
             }
            },
            "header": {
             "fill": {
              "color": "#C8D4E3"
             },
             "line": {
              "color": "white"
             }
            },
            "type": "table"
           }
          ]
         },
         "layout": {
          "annotationdefaults": {
           "arrowcolor": "#2a3f5f",
           "arrowhead": 0,
           "arrowwidth": 1
          },
          "autotypenumbers": "strict",
          "coloraxis": {
           "colorbar": {
            "outlinewidth": 0,
            "ticks": ""
           }
          },
          "colorscale": {
           "diverging": [
            [
             0,
             "#8e0152"
            ],
            [
             0.1,
             "#c51b7d"
            ],
            [
             0.2,
             "#de77ae"
            ],
            [
             0.3,
             "#f1b6da"
            ],
            [
             0.4,
             "#fde0ef"
            ],
            [
             0.5,
             "#f7f7f7"
            ],
            [
             0.6,
             "#e6f5d0"
            ],
            [
             0.7,
             "#b8e186"
            ],
            [
             0.8,
             "#7fbc41"
            ],
            [
             0.9,
             "#4d9221"
            ],
            [
             1,
             "#276419"
            ]
           ],
           "sequential": [
            [
             0,
             "#0d0887"
            ],
            [
             0.1111111111111111,
             "#46039f"
            ],
            [
             0.2222222222222222,
             "#7201a8"
            ],
            [
             0.3333333333333333,
             "#9c179e"
            ],
            [
             0.4444444444444444,
             "#bd3786"
            ],
            [
             0.5555555555555556,
             "#d8576b"
            ],
            [
             0.6666666666666666,
             "#ed7953"
            ],
            [
             0.7777777777777778,
             "#fb9f3a"
            ],
            [
             0.8888888888888888,
             "#fdca26"
            ],
            [
             1,
             "#f0f921"
            ]
           ],
           "sequentialminus": [
            [
             0,
             "#0d0887"
            ],
            [
             0.1111111111111111,
             "#46039f"
            ],
            [
             0.2222222222222222,
             "#7201a8"
            ],
            [
             0.3333333333333333,
             "#9c179e"
            ],
            [
             0.4444444444444444,
             "#bd3786"
            ],
            [
             0.5555555555555556,
             "#d8576b"
            ],
            [
             0.6666666666666666,
             "#ed7953"
            ],
            [
             0.7777777777777778,
             "#fb9f3a"
            ],
            [
             0.8888888888888888,
             "#fdca26"
            ],
            [
             1,
             "#f0f921"
            ]
           ]
          },
          "colorway": [
           "#636efa",
           "#EF553B",
           "#00cc96",
           "#ab63fa",
           "#FFA15A",
           "#19d3f3",
           "#FF6692",
           "#B6E880",
           "#FF97FF",
           "#FECB52"
          ],
          "font": {
           "color": "#2a3f5f"
          },
          "geo": {
           "bgcolor": "white",
           "lakecolor": "white",
           "landcolor": "#E5ECF6",
           "showlakes": true,
           "showland": true,
           "subunitcolor": "white"
          },
          "hoverlabel": {
           "align": "left"
          },
          "hovermode": "closest",
          "mapbox": {
           "style": "light"
          },
          "paper_bgcolor": "white",
          "plot_bgcolor": "#E5ECF6",
          "polar": {
           "angularaxis": {
            "gridcolor": "white",
            "linecolor": "white",
            "ticks": ""
           },
           "bgcolor": "#E5ECF6",
           "radialaxis": {
            "gridcolor": "white",
            "linecolor": "white",
            "ticks": ""
           }
          },
          "scene": {
           "xaxis": {
            "backgroundcolor": "#E5ECF6",
            "gridcolor": "white",
            "gridwidth": 2,
            "linecolor": "white",
            "showbackground": true,
            "ticks": "",
            "zerolinecolor": "white"
           },
           "yaxis": {
            "backgroundcolor": "#E5ECF6",
            "gridcolor": "white",
            "gridwidth": 2,
            "linecolor": "white",
            "showbackground": true,
            "ticks": "",
            "zerolinecolor": "white"
           },
           "zaxis": {
            "backgroundcolor": "#E5ECF6",
            "gridcolor": "white",
            "gridwidth": 2,
            "linecolor": "white",
            "showbackground": true,
            "ticks": "",
            "zerolinecolor": "white"
           }
          },
          "shapedefaults": {
           "line": {
            "color": "#2a3f5f"
           }
          },
          "ternary": {
           "aaxis": {
            "gridcolor": "white",
            "linecolor": "white",
            "ticks": ""
           },
           "baxis": {
            "gridcolor": "white",
            "linecolor": "white",
            "ticks": ""
           },
           "bgcolor": "#E5ECF6",
           "caxis": {
            "gridcolor": "white",
            "linecolor": "white",
            "ticks": ""
           }
          },
          "title": {
           "x": 0.05
          },
          "xaxis": {
           "automargin": true,
           "gridcolor": "white",
           "linecolor": "white",
           "ticks": "",
           "title": {
            "standoff": 15
           },
           "zerolinecolor": "white",
           "zerolinewidth": 2
          },
          "yaxis": {
           "automargin": true,
           "gridcolor": "white",
           "linecolor": "white",
           "ticks": "",
           "title": {
            "standoff": 15
           },
           "zerolinecolor": "white",
           "zerolinewidth": 2
          }
         }
        },
        "width": 600,
        "xaxis": {
         "linecolor": "black",
         "range": [
          0,
          128
         ],
         "showgrid": false,
         "showline": true,
         "tickcolor": "black",
         "tickfont": {
          "color": "black"
         },
         "zeroline": false
        },
        "yaxis": {
         "linecolor": "black",
         "range": [
          -1,
          1
         ],
         "showgrid": false,
         "showline": true,
         "tickcolor": "black",
         "tickfont": {
          "color": "black"
         },
         "zeroline": false
        }
       }
      }
     },
     "metadata": {},
     "output_type": "display_data"
    }
   ],
   "source": [
    "hlp.plot1d_plotly(x=original[0],x2=jitter[0], label2='jittering')\n"
   ]
  },
  {
   "cell_type": "markdown",
   "metadata": {},
   "source": [
    "## Scaling\n"
   ]
  },
  {
   "cell_type": "code",
   "execution_count": 8,
   "metadata": {
    "ExecuteTime": {
     "end_time": "2024-08-12T07:22:52.544460Z",
     "start_time": "2024-08-12T07:22:52.524568Z"
    }
   },
   "outputs": [
    {
     "data": {
      "application/vnd.plotly.v1+json": {
       "config": {
        "plotlyServerURL": "https://plot.ly"
       },
       "data": [
        {
         "mode": "lines",
         "name": "original",
         "type": "scatter",
         "x": [
          0,
          1,
          2,
          3,
          4,
          5,
          6,
          7,
          8,
          9,
          10,
          11,
          12,
          13,
          14,
          15,
          16,
          17,
          18,
          19,
          20,
          21,
          22,
          23,
          24,
          25,
          26,
          27,
          28,
          29,
          30,
          31,
          32,
          33,
          34,
          35,
          36,
          37,
          38,
          39,
          40,
          41,
          42,
          43,
          44,
          45,
          46,
          47,
          48,
          49,
          50,
          51,
          52,
          53,
          54,
          55,
          56,
          57,
          58,
          59,
          60,
          61,
          62,
          63,
          64,
          65,
          66,
          67,
          68,
          69,
          70,
          71,
          72,
          73,
          74,
          75,
          76,
          77,
          78,
          79,
          80,
          81,
          82,
          83,
          84,
          85,
          86,
          87,
          88,
          89,
          90,
          91,
          92,
          93,
          94,
          95,
          96,
          97,
          98,
          99,
          100,
          101,
          102,
          103,
          104,
          105,
          106,
          107,
          108,
          109,
          110,
          111,
          112,
          113,
          114,
          115,
          116,
          117,
          118,
          119,
          120,
          121,
          122,
          123,
          124,
          125,
          126,
          127
         ],
         "y": [
          -0.33377328876203904,
          -0.3664164862723184,
          -0.4699133873374587,
          -0.4782034826673083,
          -0.5035569863633922,
          -0.4607167728714232,
          -0.26161039603684466,
          -0.6192294531601332,
          -0.6164765985420649,
          -0.49705215945475867,
          -0.49841656107326415,
          -0.5208518173483173,
          -0.6300190580583005,
          -0.5780212164971329,
          -0.5440015665044242,
          -0.2982102327334334,
          -0.41544970382601454,
          -0.5194356232671938,
          -0.5233143975458098,
          -0.4858242785529686,
          -0.5659455387978661,
          -0.44325896932567854,
          -0.5301328597858068,
          -0.4714068745305837,
          -0.6442942791481396,
          -0.4231866030067464,
          -0.6334988843690658,
          0.31201089216850275,
          0.1696997910788003,
          0.27769685729939453,
          0.21297278558182975,
          0.16071182809735696,
          0.326353829691552,
          0.1701747986622857,
          0.1605489310567234,
          0.1680271052735205,
          0.37038270932981754,
          0.3076239965030556,
          0.27159838652921264,
          0.1742398920277115,
          -0.10602634539660427,
          0.1846818775109338,
          0.27557538739607645,
          0.038736615620415416,
          0.10338695805950526,
          0.17909065784734723,
          0.11416523133361256,
          0.2303646528130281,
          0.192923974368449,
          0.031241514093415246,
          -0.07011747164891324,
          0.23794954064846996,
          0.22009174983327107,
          0.21860813780348076,
          0.248364493501398,
          0.10628583635099398,
          -0.1124405660633504,
          0.2001016645547986,
          0.2853305455596198,
          0.19538064601045724,
          0.25121814958642785,
          0.13167337807364898,
          0.36725901463778987,
          0.23060228966414553,
          0.3867589739108326,
          0.23438743329724554,
          0.5133614448234236,
          0.3330825703546947,
          0.24915946932325106,
          0.3779628861441495,
          0.420661963197575,
          0.1245756529753963,
          0.07653173547005099,
          0.08830183332443275,
          0.3227812574003037,
          0.30514768961275585,
          0.04594390252717506,
          0.13236782933588787,
          0.2277130671678329,
          0.1802071410808772,
          0.16616998478987477,
          0.2777296546372001,
          0.23656464429003554,
          0.16932618193136406,
          0.2706688049667827,
          -0.7445879987276647,
          -0.38070331229736554,
          -0.4389103587982006,
          -0.3703762649406349,
          -0.4000234544119703,
          -0.40289801520365187,
          -0.3582182918161113,
          -0.20818382404372127,
          -0.372927225332635,
          -0.3614303379330521,
          -0.4185753512542735,
          -0.5979682552697357,
          -0.5094198701160692,
          -0.5258123283826256,
          -0.46349311067105625,
          -0.3037463909892193,
          -0.33820423067676697,
          -0.38307176917003505,
          -0.29964062101327593,
          -0.6339726476675861,
          -0.4970832809636808,
          -0.6216620662286856,
          -0.5235307664741442,
          -0.4565116003500541,
          -0.498002473106273,
          -0.2985150645688599,
          -0.29136918636170184,
          -0.543302213622511,
          -0.49574263583788847,
          -0.4946289180816362,
          -0.5216742357671871,
          -0.6051705074974464,
          -0.35727217133300504,
          -0.6454951220253364,
          -0.5565303293561168,
          -0.5328894544511689,
          -0.4962323950309876,
          -0.5747232140240266,
          -0.4977409898574593,
          -0.45068033797800466,
          -0.3965015561653512,
          -0.513363081094115,
          -0.6145978361309068
         ]
        },
        {
         "mode": "lines",
         "name": "scaling",
         "type": "scatter",
         "x": [
          0,
          1,
          2,
          3,
          4,
          5,
          6,
          7,
          8,
          9,
          10,
          11,
          12,
          13,
          14,
          15,
          16,
          17,
          18,
          19,
          20,
          21,
          22,
          23,
          24,
          25,
          26,
          27,
          28,
          29,
          30,
          31,
          32,
          33,
          34,
          35,
          36,
          37,
          38,
          39,
          40,
          41,
          42,
          43,
          44,
          45,
          46,
          47,
          48,
          49,
          50,
          51,
          52,
          53,
          54,
          55,
          56,
          57,
          58,
          59,
          60,
          61,
          62,
          63,
          64,
          65,
          66,
          67,
          68,
          69,
          70,
          71,
          72,
          73,
          74,
          75,
          76,
          77,
          78,
          79,
          80,
          81,
          82,
          83,
          84,
          85,
          86,
          87,
          88,
          89,
          90,
          91,
          92,
          93,
          94,
          95,
          96,
          97,
          98,
          99,
          100,
          101,
          102,
          103,
          104,
          105,
          106,
          107,
          108,
          109,
          110,
          111,
          112,
          113,
          114,
          115,
          116,
          117,
          118,
          119,
          120,
          121,
          122,
          123,
          124,
          125,
          126,
          127
         ],
         "y": [
          -0.3535553762118911,
          -0.3881332719425889,
          -0.49776423111421525,
          -0.5065456641163841,
          -0.533401820194078,
          -0.4880225513666395,
          -0.27711553052914045,
          -0.6559299669710844,
          -0.6530139560651258,
          -0.5265114649670162,
          -0.5279567319904019,
          -0.5517216818524976,
          -0.6673590505658141,
          -0.6122793990348262,
          -0.5762434711857761,
          -0.3158845676817261,
          -0.44007259202232146,
          -0.5502215527289306,
          -0.5543302143429364,
          -0.5146181296104986,
          -0.5994880196293231,
          -0.4695300580837228,
          -0.5615527934516182,
          -0.4993462343607645,
          -0.6824803359797714,
          -0.4482680420258336,
          -0.6710451193492625,
          0.3305031651034533,
          0.17975756448479566,
          0.2941554047644141,
          0.22559526440404012,
          0.17023690258560967,
          0.34569618037065364,
          0.18026072483506086,
          0.17006435095723157,
          0.17798574187621174,
          0.39233456525289373,
          0.3258562667457322,
          0.2876954896062359,
          0.184566748302308,
          -0.1123103187019672,
          0.1956276097619313,
          0.29190819950550384,
          0.04103245876759033,
          0.1095145000599241,
          0.18970500948743177,
          0.1209315804274858,
          0.24401791345651555,
          0.20435819951655715,
          0.033093137289968697,
          -0.07427319651553138,
          0.2520523427007818,
          0.2331361556883387,
          0.23156461288666483,
          0.2630845693591928,
          0.11258518917570437,
          -0.11910469763309343,
          0.2119612973066157,
          0.3022415267388194,
          0.20696047326302985,
          0.2661073560371327,
          0.13947740064696942,
          0.3890257353099491,
          0.24426963457719078,
          0.4096814188802794,
          0.24827911624116786,
          0.5437873696556517,
          0.35282372028079223,
          0.26392666183704533,
          0.4003640042630791,
          0.4455937717723878,
          0.13195900731876517,
          0.0810676211587253,
          0.09353530960195343,
          0.34191186873456886,
          0.3232331940083562,
          0.04866690741756347,
          0.1402130106719428,
          0.24120917353660723,
          0.1908876644899607,
          0.17601855350801884,
          0.29419014593603277,
          0.25058536625447353,
          0.17936181225678502,
          0.2867108135698654,
          -0.7887182673886847,
          -0.40326685009347735,
          -0.46492371394892423,
          -0.392327738917418,
          -0.4237320590954662,
          -0.426776989460974,
          -0.3794491865983929,
          -0.22052247051885493,
          -0.39502988972295544,
          -0.3828516043817242,
          -0.4433834904363395,
          -0.6334086596287999,
          -0.5396121855548068,
          -0.5569761926356791,
          -0.4909634372562242,
          -0.3217488431668996,
          -0.35824893135360153,
          -0.4057756807544453,
          -0.3173997322662995,
          -0.6715469616682359,
          -0.5265444309866639,
          -0.6585067562396923,
          -0.5545594070328056,
          -0.48356814652692653,
          -0.5275181018426829,
          -0.3162074663014908,
          -0.3086380659241666,
          -0.5755026690317548,
          -0.5251243284566677,
          -0.5239446028358247,
          -0.5525928433962075,
          -0.6410377752041826,
          -0.3784469914119923,
          -0.6837523504564044,
          -0.5895147892110415,
          -0.56447276607013,
          -0.5256431147154832,
          -0.6087859304308776,
          -0.5272411209951432,
          -0.4773912766839654,
          -0.4200014248551356,
          -0.5437891029048941,
          -0.6510238430948715
         ]
        }
       ],
       "layout": {
        "height": 300,
        "legend": {
         "font": {
          "color": "black"
         },
         "orientation": "h",
         "x": 0.5,
         "xanchor": "center",
         "y": -0.3,
         "yanchor": "bottom"
        },
        "margin": {
         "b": 100,
         "l": 40,
         "r": 40,
         "t": 40
        },
        "paper_bgcolor": "white",
        "plot_bgcolor": "white",
        "template": {
         "data": {
          "bar": [
           {
            "error_x": {
             "color": "#2a3f5f"
            },
            "error_y": {
             "color": "#2a3f5f"
            },
            "marker": {
             "line": {
              "color": "#E5ECF6",
              "width": 0.5
             },
             "pattern": {
              "fillmode": "overlay",
              "size": 10,
              "solidity": 0.2
             }
            },
            "type": "bar"
           }
          ],
          "barpolar": [
           {
            "marker": {
             "line": {
              "color": "#E5ECF6",
              "width": 0.5
             },
             "pattern": {
              "fillmode": "overlay",
              "size": 10,
              "solidity": 0.2
             }
            },
            "type": "barpolar"
           }
          ],
          "carpet": [
           {
            "aaxis": {
             "endlinecolor": "#2a3f5f",
             "gridcolor": "white",
             "linecolor": "white",
             "minorgridcolor": "white",
             "startlinecolor": "#2a3f5f"
            },
            "baxis": {
             "endlinecolor": "#2a3f5f",
             "gridcolor": "white",
             "linecolor": "white",
             "minorgridcolor": "white",
             "startlinecolor": "#2a3f5f"
            },
            "type": "carpet"
           }
          ],
          "choropleth": [
           {
            "colorbar": {
             "outlinewidth": 0,
             "ticks": ""
            },
            "type": "choropleth"
           }
          ],
          "contour": [
           {
            "colorbar": {
             "outlinewidth": 0,
             "ticks": ""
            },
            "colorscale": [
             [
              0,
              "#0d0887"
             ],
             [
              0.1111111111111111,
              "#46039f"
             ],
             [
              0.2222222222222222,
              "#7201a8"
             ],
             [
              0.3333333333333333,
              "#9c179e"
             ],
             [
              0.4444444444444444,
              "#bd3786"
             ],
             [
              0.5555555555555556,
              "#d8576b"
             ],
             [
              0.6666666666666666,
              "#ed7953"
             ],
             [
              0.7777777777777778,
              "#fb9f3a"
             ],
             [
              0.8888888888888888,
              "#fdca26"
             ],
             [
              1,
              "#f0f921"
             ]
            ],
            "type": "contour"
           }
          ],
          "contourcarpet": [
           {
            "colorbar": {
             "outlinewidth": 0,
             "ticks": ""
            },
            "type": "contourcarpet"
           }
          ],
          "heatmap": [
           {
            "colorbar": {
             "outlinewidth": 0,
             "ticks": ""
            },
            "colorscale": [
             [
              0,
              "#0d0887"
             ],
             [
              0.1111111111111111,
              "#46039f"
             ],
             [
              0.2222222222222222,
              "#7201a8"
             ],
             [
              0.3333333333333333,
              "#9c179e"
             ],
             [
              0.4444444444444444,
              "#bd3786"
             ],
             [
              0.5555555555555556,
              "#d8576b"
             ],
             [
              0.6666666666666666,
              "#ed7953"
             ],
             [
              0.7777777777777778,
              "#fb9f3a"
             ],
             [
              0.8888888888888888,
              "#fdca26"
             ],
             [
              1,
              "#f0f921"
             ]
            ],
            "type": "heatmap"
           }
          ],
          "heatmapgl": [
           {
            "colorbar": {
             "outlinewidth": 0,
             "ticks": ""
            },
            "colorscale": [
             [
              0,
              "#0d0887"
             ],
             [
              0.1111111111111111,
              "#46039f"
             ],
             [
              0.2222222222222222,
              "#7201a8"
             ],
             [
              0.3333333333333333,
              "#9c179e"
             ],
             [
              0.4444444444444444,
              "#bd3786"
             ],
             [
              0.5555555555555556,
              "#d8576b"
             ],
             [
              0.6666666666666666,
              "#ed7953"
             ],
             [
              0.7777777777777778,
              "#fb9f3a"
             ],
             [
              0.8888888888888888,
              "#fdca26"
             ],
             [
              1,
              "#f0f921"
             ]
            ],
            "type": "heatmapgl"
           }
          ],
          "histogram": [
           {
            "marker": {
             "pattern": {
              "fillmode": "overlay",
              "size": 10,
              "solidity": 0.2
             }
            },
            "type": "histogram"
           }
          ],
          "histogram2d": [
           {
            "colorbar": {
             "outlinewidth": 0,
             "ticks": ""
            },
            "colorscale": [
             [
              0,
              "#0d0887"
             ],
             [
              0.1111111111111111,
              "#46039f"
             ],
             [
              0.2222222222222222,
              "#7201a8"
             ],
             [
              0.3333333333333333,
              "#9c179e"
             ],
             [
              0.4444444444444444,
              "#bd3786"
             ],
             [
              0.5555555555555556,
              "#d8576b"
             ],
             [
              0.6666666666666666,
              "#ed7953"
             ],
             [
              0.7777777777777778,
              "#fb9f3a"
             ],
             [
              0.8888888888888888,
              "#fdca26"
             ],
             [
              1,
              "#f0f921"
             ]
            ],
            "type": "histogram2d"
           }
          ],
          "histogram2dcontour": [
           {
            "colorbar": {
             "outlinewidth": 0,
             "ticks": ""
            },
            "colorscale": [
             [
              0,
              "#0d0887"
             ],
             [
              0.1111111111111111,
              "#46039f"
             ],
             [
              0.2222222222222222,
              "#7201a8"
             ],
             [
              0.3333333333333333,
              "#9c179e"
             ],
             [
              0.4444444444444444,
              "#bd3786"
             ],
             [
              0.5555555555555556,
              "#d8576b"
             ],
             [
              0.6666666666666666,
              "#ed7953"
             ],
             [
              0.7777777777777778,
              "#fb9f3a"
             ],
             [
              0.8888888888888888,
              "#fdca26"
             ],
             [
              1,
              "#f0f921"
             ]
            ],
            "type": "histogram2dcontour"
           }
          ],
          "mesh3d": [
           {
            "colorbar": {
             "outlinewidth": 0,
             "ticks": ""
            },
            "type": "mesh3d"
           }
          ],
          "parcoords": [
           {
            "line": {
             "colorbar": {
              "outlinewidth": 0,
              "ticks": ""
             }
            },
            "type": "parcoords"
           }
          ],
          "pie": [
           {
            "automargin": true,
            "type": "pie"
           }
          ],
          "scatter": [
           {
            "fillpattern": {
             "fillmode": "overlay",
             "size": 10,
             "solidity": 0.2
            },
            "type": "scatter"
           }
          ],
          "scatter3d": [
           {
            "line": {
             "colorbar": {
              "outlinewidth": 0,
              "ticks": ""
             }
            },
            "marker": {
             "colorbar": {
              "outlinewidth": 0,
              "ticks": ""
             }
            },
            "type": "scatter3d"
           }
          ],
          "scattercarpet": [
           {
            "marker": {
             "colorbar": {
              "outlinewidth": 0,
              "ticks": ""
             }
            },
            "type": "scattercarpet"
           }
          ],
          "scattergeo": [
           {
            "marker": {
             "colorbar": {
              "outlinewidth": 0,
              "ticks": ""
             }
            },
            "type": "scattergeo"
           }
          ],
          "scattergl": [
           {
            "marker": {
             "colorbar": {
              "outlinewidth": 0,
              "ticks": ""
             }
            },
            "type": "scattergl"
           }
          ],
          "scattermapbox": [
           {
            "marker": {
             "colorbar": {
              "outlinewidth": 0,
              "ticks": ""
             }
            },
            "type": "scattermapbox"
           }
          ],
          "scatterpolar": [
           {
            "marker": {
             "colorbar": {
              "outlinewidth": 0,
              "ticks": ""
             }
            },
            "type": "scatterpolar"
           }
          ],
          "scatterpolargl": [
           {
            "marker": {
             "colorbar": {
              "outlinewidth": 0,
              "ticks": ""
             }
            },
            "type": "scatterpolargl"
           }
          ],
          "scatterternary": [
           {
            "marker": {
             "colorbar": {
              "outlinewidth": 0,
              "ticks": ""
             }
            },
            "type": "scatterternary"
           }
          ],
          "surface": [
           {
            "colorbar": {
             "outlinewidth": 0,
             "ticks": ""
            },
            "colorscale": [
             [
              0,
              "#0d0887"
             ],
             [
              0.1111111111111111,
              "#46039f"
             ],
             [
              0.2222222222222222,
              "#7201a8"
             ],
             [
              0.3333333333333333,
              "#9c179e"
             ],
             [
              0.4444444444444444,
              "#bd3786"
             ],
             [
              0.5555555555555556,
              "#d8576b"
             ],
             [
              0.6666666666666666,
              "#ed7953"
             ],
             [
              0.7777777777777778,
              "#fb9f3a"
             ],
             [
              0.8888888888888888,
              "#fdca26"
             ],
             [
              1,
              "#f0f921"
             ]
            ],
            "type": "surface"
           }
          ],
          "table": [
           {
            "cells": {
             "fill": {
              "color": "#EBF0F8"
             },
             "line": {
              "color": "white"
             }
            },
            "header": {
             "fill": {
              "color": "#C8D4E3"
             },
             "line": {
              "color": "white"
             }
            },
            "type": "table"
           }
          ]
         },
         "layout": {
          "annotationdefaults": {
           "arrowcolor": "#2a3f5f",
           "arrowhead": 0,
           "arrowwidth": 1
          },
          "autotypenumbers": "strict",
          "coloraxis": {
           "colorbar": {
            "outlinewidth": 0,
            "ticks": ""
           }
          },
          "colorscale": {
           "diverging": [
            [
             0,
             "#8e0152"
            ],
            [
             0.1,
             "#c51b7d"
            ],
            [
             0.2,
             "#de77ae"
            ],
            [
             0.3,
             "#f1b6da"
            ],
            [
             0.4,
             "#fde0ef"
            ],
            [
             0.5,
             "#f7f7f7"
            ],
            [
             0.6,
             "#e6f5d0"
            ],
            [
             0.7,
             "#b8e186"
            ],
            [
             0.8,
             "#7fbc41"
            ],
            [
             0.9,
             "#4d9221"
            ],
            [
             1,
             "#276419"
            ]
           ],
           "sequential": [
            [
             0,
             "#0d0887"
            ],
            [
             0.1111111111111111,
             "#46039f"
            ],
            [
             0.2222222222222222,
             "#7201a8"
            ],
            [
             0.3333333333333333,
             "#9c179e"
            ],
            [
             0.4444444444444444,
             "#bd3786"
            ],
            [
             0.5555555555555556,
             "#d8576b"
            ],
            [
             0.6666666666666666,
             "#ed7953"
            ],
            [
             0.7777777777777778,
             "#fb9f3a"
            ],
            [
             0.8888888888888888,
             "#fdca26"
            ],
            [
             1,
             "#f0f921"
            ]
           ],
           "sequentialminus": [
            [
             0,
             "#0d0887"
            ],
            [
             0.1111111111111111,
             "#46039f"
            ],
            [
             0.2222222222222222,
             "#7201a8"
            ],
            [
             0.3333333333333333,
             "#9c179e"
            ],
            [
             0.4444444444444444,
             "#bd3786"
            ],
            [
             0.5555555555555556,
             "#d8576b"
            ],
            [
             0.6666666666666666,
             "#ed7953"
            ],
            [
             0.7777777777777778,
             "#fb9f3a"
            ],
            [
             0.8888888888888888,
             "#fdca26"
            ],
            [
             1,
             "#f0f921"
            ]
           ]
          },
          "colorway": [
           "#636efa",
           "#EF553B",
           "#00cc96",
           "#ab63fa",
           "#FFA15A",
           "#19d3f3",
           "#FF6692",
           "#B6E880",
           "#FF97FF",
           "#FECB52"
          ],
          "font": {
           "color": "#2a3f5f"
          },
          "geo": {
           "bgcolor": "white",
           "lakecolor": "white",
           "landcolor": "#E5ECF6",
           "showlakes": true,
           "showland": true,
           "subunitcolor": "white"
          },
          "hoverlabel": {
           "align": "left"
          },
          "hovermode": "closest",
          "mapbox": {
           "style": "light"
          },
          "paper_bgcolor": "white",
          "plot_bgcolor": "#E5ECF6",
          "polar": {
           "angularaxis": {
            "gridcolor": "white",
            "linecolor": "white",
            "ticks": ""
           },
           "bgcolor": "#E5ECF6",
           "radialaxis": {
            "gridcolor": "white",
            "linecolor": "white",
            "ticks": ""
           }
          },
          "scene": {
           "xaxis": {
            "backgroundcolor": "#E5ECF6",
            "gridcolor": "white",
            "gridwidth": 2,
            "linecolor": "white",
            "showbackground": true,
            "ticks": "",
            "zerolinecolor": "white"
           },
           "yaxis": {
            "backgroundcolor": "#E5ECF6",
            "gridcolor": "white",
            "gridwidth": 2,
            "linecolor": "white",
            "showbackground": true,
            "ticks": "",
            "zerolinecolor": "white"
           },
           "zaxis": {
            "backgroundcolor": "#E5ECF6",
            "gridcolor": "white",
            "gridwidth": 2,
            "linecolor": "white",
            "showbackground": true,
            "ticks": "",
            "zerolinecolor": "white"
           }
          },
          "shapedefaults": {
           "line": {
            "color": "#2a3f5f"
           }
          },
          "ternary": {
           "aaxis": {
            "gridcolor": "white",
            "linecolor": "white",
            "ticks": ""
           },
           "baxis": {
            "gridcolor": "white",
            "linecolor": "white",
            "ticks": ""
           },
           "bgcolor": "#E5ECF6",
           "caxis": {
            "gridcolor": "white",
            "linecolor": "white",
            "ticks": ""
           }
          },
          "title": {
           "x": 0.05
          },
          "xaxis": {
           "automargin": true,
           "gridcolor": "white",
           "linecolor": "white",
           "ticks": "",
           "title": {
            "standoff": 15
           },
           "zerolinecolor": "white",
           "zerolinewidth": 2
          },
          "yaxis": {
           "automargin": true,
           "gridcolor": "white",
           "linecolor": "white",
           "ticks": "",
           "title": {
            "standoff": 15
           },
           "zerolinecolor": "white",
           "zerolinewidth": 2
          }
         }
        },
        "width": 600,
        "xaxis": {
         "linecolor": "black",
         "range": [
          0,
          128
         ],
         "showgrid": false,
         "showline": true,
         "tickcolor": "black",
         "tickfont": {
          "color": "black"
         },
         "zeroline": false
        },
        "yaxis": {
         "linecolor": "black",
         "range": [
          -1,
          1
         ],
         "showgrid": false,
         "showline": true,
         "tickcolor": "black",
         "tickfont": {
          "color": "black"
         },
         "zeroline": false
        }
       }
      }
     },
     "metadata": {},
     "output_type": "display_data"
    }
   ],
   "source": [
    "hlp.plot1d_plotly(x=original[0],x2=scaling[0], label2='scaling')\n"
   ]
  },
  {
   "cell_type": "markdown",
   "metadata": {},
   "source": [
    "## Magnitude Warping\n"
   ]
  },
  {
   "cell_type": "code",
   "execution_count": 18,
   "metadata": {
    "ExecuteTime": {
     "end_time": "2024-08-12T07:22:52.567362Z",
     "start_time": "2024-08-12T07:22:52.547396Z"
    }
   },
   "outputs": [
    {
     "data": {
      "application/vnd.plotly.v1+json": {
       "config": {
        "plotlyServerURL": "https://plot.ly"
       },
       "data": [
        {
         "mode": "lines",
         "name": "original",
         "type": "scatter",
         "x": [
          0,
          1,
          2,
          3,
          4,
          5,
          6,
          7,
          8,
          9,
          10,
          11,
          12,
          13,
          14,
          15,
          16,
          17,
          18,
          19,
          20,
          21,
          22,
          23,
          24,
          25,
          26,
          27,
          28,
          29,
          30,
          31,
          32,
          33,
          34,
          35,
          36,
          37,
          38,
          39,
          40,
          41,
          42,
          43,
          44,
          45,
          46,
          47,
          48,
          49,
          50,
          51,
          52,
          53,
          54,
          55,
          56,
          57,
          58,
          59,
          60,
          61,
          62,
          63,
          64,
          65,
          66,
          67,
          68,
          69,
          70,
          71,
          72,
          73,
          74,
          75,
          76,
          77,
          78,
          79,
          80,
          81,
          82,
          83,
          84,
          85,
          86,
          87,
          88,
          89,
          90,
          91,
          92,
          93,
          94,
          95,
          96,
          97,
          98,
          99,
          100,
          101,
          102,
          103,
          104,
          105,
          106,
          107,
          108,
          109,
          110,
          111,
          112,
          113,
          114,
          115,
          116,
          117,
          118,
          119,
          120,
          121,
          122,
          123,
          124,
          125,
          126,
          127
         ],
         "y": [
          -0.33377328876203904,
          -0.3664164862723184,
          -0.4699133873374587,
          -0.4782034826673083,
          -0.5035569863633922,
          -0.4607167728714232,
          -0.26161039603684466,
          -0.6192294531601332,
          -0.6164765985420649,
          -0.49705215945475867,
          -0.49841656107326415,
          -0.5208518173483173,
          -0.6300190580583005,
          -0.5780212164971329,
          -0.5440015665044242,
          -0.2982102327334334,
          -0.41544970382601454,
          -0.5194356232671938,
          -0.5233143975458098,
          -0.4858242785529686,
          -0.5659455387978661,
          -0.44325896932567854,
          -0.5301328597858068,
          -0.4714068745305837,
          -0.6442942791481396,
          -0.4231866030067464,
          -0.6334988843690658,
          0.31201089216850275,
          0.1696997910788003,
          0.27769685729939453,
          0.21297278558182975,
          0.16071182809735696,
          0.326353829691552,
          0.1701747986622857,
          0.1605489310567234,
          0.1680271052735205,
          0.37038270932981754,
          0.3076239965030556,
          0.27159838652921264,
          0.1742398920277115,
          -0.10602634539660427,
          0.1846818775109338,
          0.27557538739607645,
          0.038736615620415416,
          0.10338695805950526,
          0.17909065784734723,
          0.11416523133361256,
          0.2303646528130281,
          0.192923974368449,
          0.031241514093415246,
          -0.07011747164891324,
          0.23794954064846996,
          0.22009174983327107,
          0.21860813780348076,
          0.248364493501398,
          0.10628583635099398,
          -0.1124405660633504,
          0.2001016645547986,
          0.2853305455596198,
          0.19538064601045724,
          0.25121814958642785,
          0.13167337807364898,
          0.36725901463778987,
          0.23060228966414553,
          0.3867589739108326,
          0.23438743329724554,
          0.5133614448234236,
          0.3330825703546947,
          0.24915946932325106,
          0.3779628861441495,
          0.420661963197575,
          0.1245756529753963,
          0.07653173547005099,
          0.08830183332443275,
          0.3227812574003037,
          0.30514768961275585,
          0.04594390252717506,
          0.13236782933588787,
          0.2277130671678329,
          0.1802071410808772,
          0.16616998478987477,
          0.2777296546372001,
          0.23656464429003554,
          0.16932618193136406,
          0.2706688049667827,
          -0.7445879987276647,
          -0.38070331229736554,
          -0.4389103587982006,
          -0.3703762649406349,
          -0.4000234544119703,
          -0.40289801520365187,
          -0.3582182918161113,
          -0.20818382404372127,
          -0.372927225332635,
          -0.3614303379330521,
          -0.4185753512542735,
          -0.5979682552697357,
          -0.5094198701160692,
          -0.5258123283826256,
          -0.46349311067105625,
          -0.3037463909892193,
          -0.33820423067676697,
          -0.38307176917003505,
          -0.29964062101327593,
          -0.6339726476675861,
          -0.4970832809636808,
          -0.6216620662286856,
          -0.5235307664741442,
          -0.4565116003500541,
          -0.498002473106273,
          -0.2985150645688599,
          -0.29136918636170184,
          -0.543302213622511,
          -0.49574263583788847,
          -0.4946289180816362,
          -0.5216742357671871,
          -0.6051705074974464,
          -0.35727217133300504,
          -0.6454951220253364,
          -0.5565303293561168,
          -0.5328894544511689,
          -0.4962323950309876,
          -0.5747232140240266,
          -0.4977409898574593,
          -0.45068033797800466,
          -0.3965015561653512,
          -0.513363081094115,
          -0.6145978361309068
         ]
        },
        {
         "mode": "lines",
         "name": "magnitude warping",
         "type": "scatter",
         "x": [
          0,
          1,
          2,
          3,
          4,
          5,
          6,
          7,
          8,
          9,
          10,
          11,
          12,
          13,
          14,
          15,
          16,
          17,
          18,
          19,
          20,
          21,
          22,
          23,
          24,
          25,
          26,
          27,
          28,
          29,
          30,
          31,
          32,
          33,
          34,
          35,
          36,
          37,
          38,
          39,
          40,
          41,
          42,
          43,
          44,
          45,
          46,
          47,
          48,
          49,
          50,
          51,
          52,
          53,
          54,
          55,
          56,
          57,
          58,
          59,
          60,
          61,
          62,
          63,
          64,
          65,
          66,
          67,
          68,
          69,
          70,
          71,
          72,
          73,
          74,
          75,
          76,
          77,
          78,
          79,
          80,
          81,
          82,
          83,
          84,
          85,
          86,
          87,
          88,
          89,
          90,
          91,
          92,
          93,
          94,
          95,
          96,
          97,
          98,
          99,
          100,
          101,
          102,
          103,
          104,
          105,
          106,
          107,
          108,
          109,
          110,
          111,
          112,
          113,
          114,
          115,
          116,
          117,
          118,
          119,
          120,
          121,
          122,
          123,
          124,
          125,
          126,
          127
         ],
         "y": [
          -0.4369361312311497,
          -0.48213295785208393,
          -0.6210838199919515,
          -0.6344719502908359,
          -0.6702752917143014,
          -0.6148814319133705,
          -0.3498829161945948,
          -0.8294621826780061,
          -0.8266363489040044,
          -0.6668633916006877,
          -0.6687388423214032,
          -0.698565878366188,
          -0.8442739535180455,
          -0.7736146341636374,
          -0.726865341326951,
          -0.3976288243112583,
          -0.5525996338869313,
          -0.6889736411602114,
          -0.6919276973320402,
          -0.6401168363473226,
          -0.7428444905951036,
          -0.579417495108393,
          -0.6899276015461011,
          -0.61063219898232,
          -0.830461903038243,
          -0.5426403564837032,
          -0.8079237336754839,
          0.3956806228104694,
          0.21395366226043633,
          0.3480105879263454,
          0.26524994983058975,
          0.19889436314022574,
          0.4012802361399273,
          0.20786776823799322,
          0.19479967810376606,
          0.2024943741501211,
          0.4433115622505834,
          0.3656650996119974,
          0.32061522918103985,
          0.20426580546785944,
          -0.12344099936981898,
          0.21354192728698054,
          0.31647376368096214,
          0.04418677185863046,
          0.11715331075662908,
          0.20162067886460971,
          0.1277129460235643,
          0.25611328402911365,
          0.21320866319090712,
          0.034328227857830004,
          -0.07662240409000735,
          0.2586697040617752,
          0.23808024207818118,
          0.23537952144085778,
          0.26625205472526403,
          0.11347301323330622,
          -0.11958057911751992,
          0.2120358812382233,
          0.30131605139833295,
          0.2056642280353785,
          0.2636408722242442,
          0.13779034493526862,
          0.3832834708078474,
          0.24004841318670633,
          0.4016214974333291,
          0.24282801228995737,
          0.5306583118370563,
          0.3435602669388412,
          0.2564557144395176,
          0.388226615206609,
          0.43120148533156943,
          0.12743629620691194,
          0.07812840568535895,
          0.08995624415981684,
          0.32812784636565984,
          0.30952034608388007,
          0.046495891061830066,
          0.1336391041625345,
          0.22933251273876956,
          0.1810293727561817,
          0.1664993682176625,
          0.27756180348365617,
          0.23581433434116744,
          0.16836196703439082,
          0.26846360421000726,
          -0.7367662703455943,
          -0.37585249692358547,
          -0.4324001176116361,
          -0.36417154357748716,
          -0.392632772100058,
          -0.39484939255076623,
          -0.3506130490367988,
          -0.20355963171375982,
          -0.36438889593392904,
          -0.3530250893697959,
          -0.40883636674624246,
          -0.5842720962311214,
          -0.49813993194837175,
          -0.5147932426254389,
          -0.45453844982459557,
          -0.29851943764331434,
          -0.3332678064184818,
          -0.37868263913730754,
          -0.2973129662913703,
          -0.6317525089100124,
          -0.49776241395356463,
          -0.625927743544497,
          -0.5303418343629838,
          -0.46556696221074706,
          -0.5116305285020967,
          -0.30914922590921756,
          -0.30437463038127904,
          -0.5728725396700454,
          -0.5279773601199614,
          -0.5324428891799893,
          -0.5679626897968257,
          -0.6668329300469135,
          -0.39870170841793895,
          -0.7300292471792297,
          -0.638293660914197,
          -0.6202056926932781,
          -0.5864473275611669,
          -0.6901149300365701,
          -0.6076491885906095,
          -0.5597150276704453,
          -0.5012420932767422,
          -0.6609672595699595,
          -0.8063803383358749
         ]
        }
       ],
       "layout": {
        "height": 300,
        "legend": {
         "font": {
          "color": "black"
         },
         "orientation": "h",
         "x": 0.5,
         "xanchor": "center",
         "y": -0.3,
         "yanchor": "bottom"
        },
        "margin": {
         "b": 100,
         "l": 40,
         "r": 40,
         "t": 40
        },
        "paper_bgcolor": "white",
        "plot_bgcolor": "white",
        "template": {
         "data": {
          "bar": [
           {
            "error_x": {
             "color": "#2a3f5f"
            },
            "error_y": {
             "color": "#2a3f5f"
            },
            "marker": {
             "line": {
              "color": "#E5ECF6",
              "width": 0.5
             },
             "pattern": {
              "fillmode": "overlay",
              "size": 10,
              "solidity": 0.2
             }
            },
            "type": "bar"
           }
          ],
          "barpolar": [
           {
            "marker": {
             "line": {
              "color": "#E5ECF6",
              "width": 0.5
             },
             "pattern": {
              "fillmode": "overlay",
              "size": 10,
              "solidity": 0.2
             }
            },
            "type": "barpolar"
           }
          ],
          "carpet": [
           {
            "aaxis": {
             "endlinecolor": "#2a3f5f",
             "gridcolor": "white",
             "linecolor": "white",
             "minorgridcolor": "white",
             "startlinecolor": "#2a3f5f"
            },
            "baxis": {
             "endlinecolor": "#2a3f5f",
             "gridcolor": "white",
             "linecolor": "white",
             "minorgridcolor": "white",
             "startlinecolor": "#2a3f5f"
            },
            "type": "carpet"
           }
          ],
          "choropleth": [
           {
            "colorbar": {
             "outlinewidth": 0,
             "ticks": ""
            },
            "type": "choropleth"
           }
          ],
          "contour": [
           {
            "colorbar": {
             "outlinewidth": 0,
             "ticks": ""
            },
            "colorscale": [
             [
              0,
              "#0d0887"
             ],
             [
              0.1111111111111111,
              "#46039f"
             ],
             [
              0.2222222222222222,
              "#7201a8"
             ],
             [
              0.3333333333333333,
              "#9c179e"
             ],
             [
              0.4444444444444444,
              "#bd3786"
             ],
             [
              0.5555555555555556,
              "#d8576b"
             ],
             [
              0.6666666666666666,
              "#ed7953"
             ],
             [
              0.7777777777777778,
              "#fb9f3a"
             ],
             [
              0.8888888888888888,
              "#fdca26"
             ],
             [
              1,
              "#f0f921"
             ]
            ],
            "type": "contour"
           }
          ],
          "contourcarpet": [
           {
            "colorbar": {
             "outlinewidth": 0,
             "ticks": ""
            },
            "type": "contourcarpet"
           }
          ],
          "heatmap": [
           {
            "colorbar": {
             "outlinewidth": 0,
             "ticks": ""
            },
            "colorscale": [
             [
              0,
              "#0d0887"
             ],
             [
              0.1111111111111111,
              "#46039f"
             ],
             [
              0.2222222222222222,
              "#7201a8"
             ],
             [
              0.3333333333333333,
              "#9c179e"
             ],
             [
              0.4444444444444444,
              "#bd3786"
             ],
             [
              0.5555555555555556,
              "#d8576b"
             ],
             [
              0.6666666666666666,
              "#ed7953"
             ],
             [
              0.7777777777777778,
              "#fb9f3a"
             ],
             [
              0.8888888888888888,
              "#fdca26"
             ],
             [
              1,
              "#f0f921"
             ]
            ],
            "type": "heatmap"
           }
          ],
          "heatmapgl": [
           {
            "colorbar": {
             "outlinewidth": 0,
             "ticks": ""
            },
            "colorscale": [
             [
              0,
              "#0d0887"
             ],
             [
              0.1111111111111111,
              "#46039f"
             ],
             [
              0.2222222222222222,
              "#7201a8"
             ],
             [
              0.3333333333333333,
              "#9c179e"
             ],
             [
              0.4444444444444444,
              "#bd3786"
             ],
             [
              0.5555555555555556,
              "#d8576b"
             ],
             [
              0.6666666666666666,
              "#ed7953"
             ],
             [
              0.7777777777777778,
              "#fb9f3a"
             ],
             [
              0.8888888888888888,
              "#fdca26"
             ],
             [
              1,
              "#f0f921"
             ]
            ],
            "type": "heatmapgl"
           }
          ],
          "histogram": [
           {
            "marker": {
             "pattern": {
              "fillmode": "overlay",
              "size": 10,
              "solidity": 0.2
             }
            },
            "type": "histogram"
           }
          ],
          "histogram2d": [
           {
            "colorbar": {
             "outlinewidth": 0,
             "ticks": ""
            },
            "colorscale": [
             [
              0,
              "#0d0887"
             ],
             [
              0.1111111111111111,
              "#46039f"
             ],
             [
              0.2222222222222222,
              "#7201a8"
             ],
             [
              0.3333333333333333,
              "#9c179e"
             ],
             [
              0.4444444444444444,
              "#bd3786"
             ],
             [
              0.5555555555555556,
              "#d8576b"
             ],
             [
              0.6666666666666666,
              "#ed7953"
             ],
             [
              0.7777777777777778,
              "#fb9f3a"
             ],
             [
              0.8888888888888888,
              "#fdca26"
             ],
             [
              1,
              "#f0f921"
             ]
            ],
            "type": "histogram2d"
           }
          ],
          "histogram2dcontour": [
           {
            "colorbar": {
             "outlinewidth": 0,
             "ticks": ""
            },
            "colorscale": [
             [
              0,
              "#0d0887"
             ],
             [
              0.1111111111111111,
              "#46039f"
             ],
             [
              0.2222222222222222,
              "#7201a8"
             ],
             [
              0.3333333333333333,
              "#9c179e"
             ],
             [
              0.4444444444444444,
              "#bd3786"
             ],
             [
              0.5555555555555556,
              "#d8576b"
             ],
             [
              0.6666666666666666,
              "#ed7953"
             ],
             [
              0.7777777777777778,
              "#fb9f3a"
             ],
             [
              0.8888888888888888,
              "#fdca26"
             ],
             [
              1,
              "#f0f921"
             ]
            ],
            "type": "histogram2dcontour"
           }
          ],
          "mesh3d": [
           {
            "colorbar": {
             "outlinewidth": 0,
             "ticks": ""
            },
            "type": "mesh3d"
           }
          ],
          "parcoords": [
           {
            "line": {
             "colorbar": {
              "outlinewidth": 0,
              "ticks": ""
             }
            },
            "type": "parcoords"
           }
          ],
          "pie": [
           {
            "automargin": true,
            "type": "pie"
           }
          ],
          "scatter": [
           {
            "fillpattern": {
             "fillmode": "overlay",
             "size": 10,
             "solidity": 0.2
            },
            "type": "scatter"
           }
          ],
          "scatter3d": [
           {
            "line": {
             "colorbar": {
              "outlinewidth": 0,
              "ticks": ""
             }
            },
            "marker": {
             "colorbar": {
              "outlinewidth": 0,
              "ticks": ""
             }
            },
            "type": "scatter3d"
           }
          ],
          "scattercarpet": [
           {
            "marker": {
             "colorbar": {
              "outlinewidth": 0,
              "ticks": ""
             }
            },
            "type": "scattercarpet"
           }
          ],
          "scattergeo": [
           {
            "marker": {
             "colorbar": {
              "outlinewidth": 0,
              "ticks": ""
             }
            },
            "type": "scattergeo"
           }
          ],
          "scattergl": [
           {
            "marker": {
             "colorbar": {
              "outlinewidth": 0,
              "ticks": ""
             }
            },
            "type": "scattergl"
           }
          ],
          "scattermapbox": [
           {
            "marker": {
             "colorbar": {
              "outlinewidth": 0,
              "ticks": ""
             }
            },
            "type": "scattermapbox"
           }
          ],
          "scatterpolar": [
           {
            "marker": {
             "colorbar": {
              "outlinewidth": 0,
              "ticks": ""
             }
            },
            "type": "scatterpolar"
           }
          ],
          "scatterpolargl": [
           {
            "marker": {
             "colorbar": {
              "outlinewidth": 0,
              "ticks": ""
             }
            },
            "type": "scatterpolargl"
           }
          ],
          "scatterternary": [
           {
            "marker": {
             "colorbar": {
              "outlinewidth": 0,
              "ticks": ""
             }
            },
            "type": "scatterternary"
           }
          ],
          "surface": [
           {
            "colorbar": {
             "outlinewidth": 0,
             "ticks": ""
            },
            "colorscale": [
             [
              0,
              "#0d0887"
             ],
             [
              0.1111111111111111,
              "#46039f"
             ],
             [
              0.2222222222222222,
              "#7201a8"
             ],
             [
              0.3333333333333333,
              "#9c179e"
             ],
             [
              0.4444444444444444,
              "#bd3786"
             ],
             [
              0.5555555555555556,
              "#d8576b"
             ],
             [
              0.6666666666666666,
              "#ed7953"
             ],
             [
              0.7777777777777778,
              "#fb9f3a"
             ],
             [
              0.8888888888888888,
              "#fdca26"
             ],
             [
              1,
              "#f0f921"
             ]
            ],
            "type": "surface"
           }
          ],
          "table": [
           {
            "cells": {
             "fill": {
              "color": "#EBF0F8"
             },
             "line": {
              "color": "white"
             }
            },
            "header": {
             "fill": {
              "color": "#C8D4E3"
             },
             "line": {
              "color": "white"
             }
            },
            "type": "table"
           }
          ]
         },
         "layout": {
          "annotationdefaults": {
           "arrowcolor": "#2a3f5f",
           "arrowhead": 0,
           "arrowwidth": 1
          },
          "autotypenumbers": "strict",
          "coloraxis": {
           "colorbar": {
            "outlinewidth": 0,
            "ticks": ""
           }
          },
          "colorscale": {
           "diverging": [
            [
             0,
             "#8e0152"
            ],
            [
             0.1,
             "#c51b7d"
            ],
            [
             0.2,
             "#de77ae"
            ],
            [
             0.3,
             "#f1b6da"
            ],
            [
             0.4,
             "#fde0ef"
            ],
            [
             0.5,
             "#f7f7f7"
            ],
            [
             0.6,
             "#e6f5d0"
            ],
            [
             0.7,
             "#b8e186"
            ],
            [
             0.8,
             "#7fbc41"
            ],
            [
             0.9,
             "#4d9221"
            ],
            [
             1,
             "#276419"
            ]
           ],
           "sequential": [
            [
             0,
             "#0d0887"
            ],
            [
             0.1111111111111111,
             "#46039f"
            ],
            [
             0.2222222222222222,
             "#7201a8"
            ],
            [
             0.3333333333333333,
             "#9c179e"
            ],
            [
             0.4444444444444444,
             "#bd3786"
            ],
            [
             0.5555555555555556,
             "#d8576b"
            ],
            [
             0.6666666666666666,
             "#ed7953"
            ],
            [
             0.7777777777777778,
             "#fb9f3a"
            ],
            [
             0.8888888888888888,
             "#fdca26"
            ],
            [
             1,
             "#f0f921"
            ]
           ],
           "sequentialminus": [
            [
             0,
             "#0d0887"
            ],
            [
             0.1111111111111111,
             "#46039f"
            ],
            [
             0.2222222222222222,
             "#7201a8"
            ],
            [
             0.3333333333333333,
             "#9c179e"
            ],
            [
             0.4444444444444444,
             "#bd3786"
            ],
            [
             0.5555555555555556,
             "#d8576b"
            ],
            [
             0.6666666666666666,
             "#ed7953"
            ],
            [
             0.7777777777777778,
             "#fb9f3a"
            ],
            [
             0.8888888888888888,
             "#fdca26"
            ],
            [
             1,
             "#f0f921"
            ]
           ]
          },
          "colorway": [
           "#636efa",
           "#EF553B",
           "#00cc96",
           "#ab63fa",
           "#FFA15A",
           "#19d3f3",
           "#FF6692",
           "#B6E880",
           "#FF97FF",
           "#FECB52"
          ],
          "font": {
           "color": "#2a3f5f"
          },
          "geo": {
           "bgcolor": "white",
           "lakecolor": "white",
           "landcolor": "#E5ECF6",
           "showlakes": true,
           "showland": true,
           "subunitcolor": "white"
          },
          "hoverlabel": {
           "align": "left"
          },
          "hovermode": "closest",
          "mapbox": {
           "style": "light"
          },
          "paper_bgcolor": "white",
          "plot_bgcolor": "#E5ECF6",
          "polar": {
           "angularaxis": {
            "gridcolor": "white",
            "linecolor": "white",
            "ticks": ""
           },
           "bgcolor": "#E5ECF6",
           "radialaxis": {
            "gridcolor": "white",
            "linecolor": "white",
            "ticks": ""
           }
          },
          "scene": {
           "xaxis": {
            "backgroundcolor": "#E5ECF6",
            "gridcolor": "white",
            "gridwidth": 2,
            "linecolor": "white",
            "showbackground": true,
            "ticks": "",
            "zerolinecolor": "white"
           },
           "yaxis": {
            "backgroundcolor": "#E5ECF6",
            "gridcolor": "white",
            "gridwidth": 2,
            "linecolor": "white",
            "showbackground": true,
            "ticks": "",
            "zerolinecolor": "white"
           },
           "zaxis": {
            "backgroundcolor": "#E5ECF6",
            "gridcolor": "white",
            "gridwidth": 2,
            "linecolor": "white",
            "showbackground": true,
            "ticks": "",
            "zerolinecolor": "white"
           }
          },
          "shapedefaults": {
           "line": {
            "color": "#2a3f5f"
           }
          },
          "ternary": {
           "aaxis": {
            "gridcolor": "white",
            "linecolor": "white",
            "ticks": ""
           },
           "baxis": {
            "gridcolor": "white",
            "linecolor": "white",
            "ticks": ""
           },
           "bgcolor": "#E5ECF6",
           "caxis": {
            "gridcolor": "white",
            "linecolor": "white",
            "ticks": ""
           }
          },
          "title": {
           "x": 0.05
          },
          "xaxis": {
           "automargin": true,
           "gridcolor": "white",
           "linecolor": "white",
           "ticks": "",
           "title": {
            "standoff": 15
           },
           "zerolinecolor": "white",
           "zerolinewidth": 2
          },
          "yaxis": {
           "automargin": true,
           "gridcolor": "white",
           "linecolor": "white",
           "ticks": "",
           "title": {
            "standoff": 15
           },
           "zerolinecolor": "white",
           "zerolinewidth": 2
          }
         }
        },
        "width": 600,
        "xaxis": {
         "linecolor": "black",
         "range": [
          0,
          128
         ],
         "showgrid": false,
         "showline": true,
         "tickcolor": "black",
         "tickfont": {
          "color": "black"
         },
         "zeroline": false
        },
        "yaxis": {
         "linecolor": "black",
         "range": [
          -1,
          1
         ],
         "showgrid": false,
         "showline": true,
         "tickcolor": "black",
         "tickfont": {
          "color": "black"
         },
         "zeroline": false
        }
       }
      }
     },
     "metadata": {},
     "output_type": "display_data"
    }
   ],
   "source": [
    "hlp.plot1d_plotly(x=original[0],x2=magnitude_warp[0], label2='magnitude warping')\n"
   ]
  },
  {
   "cell_type": "markdown",
   "metadata": {},
   "source": [
    "## Time Warping\n"
   ]
  },
  {
   "cell_type": "code",
   "execution_count": 19,
   "metadata": {
    "ExecuteTime": {
     "end_time": "2024-08-12T07:22:52.590448Z",
     "start_time": "2024-08-12T07:22:52.570046Z"
    }
   },
   "outputs": [
    {
     "data": {
      "application/vnd.plotly.v1+json": {
       "config": {
        "plotlyServerURL": "https://plot.ly"
       },
       "data": [
        {
         "mode": "lines",
         "name": "original",
         "type": "scatter",
         "x": [
          0,
          1,
          2,
          3,
          4,
          5,
          6,
          7,
          8,
          9,
          10,
          11,
          12,
          13,
          14,
          15,
          16,
          17,
          18,
          19,
          20,
          21,
          22,
          23,
          24,
          25,
          26,
          27,
          28,
          29,
          30,
          31,
          32,
          33,
          34,
          35,
          36,
          37,
          38,
          39,
          40,
          41,
          42,
          43,
          44,
          45,
          46,
          47,
          48,
          49,
          50,
          51,
          52,
          53,
          54,
          55,
          56,
          57,
          58,
          59,
          60,
          61,
          62,
          63,
          64,
          65,
          66,
          67,
          68,
          69,
          70,
          71,
          72,
          73,
          74,
          75,
          76,
          77,
          78,
          79,
          80,
          81,
          82,
          83,
          84,
          85,
          86,
          87,
          88,
          89,
          90,
          91,
          92,
          93,
          94,
          95,
          96,
          97,
          98,
          99,
          100,
          101,
          102,
          103,
          104,
          105,
          106,
          107,
          108,
          109,
          110,
          111,
          112,
          113,
          114,
          115,
          116,
          117,
          118,
          119,
          120,
          121,
          122,
          123,
          124,
          125,
          126,
          127
         ],
         "y": [
          -0.33377328876203904,
          -0.3664164862723184,
          -0.4699133873374587,
          -0.4782034826673083,
          -0.5035569863633922,
          -0.4607167728714232,
          -0.26161039603684466,
          -0.6192294531601332,
          -0.6164765985420649,
          -0.49705215945475867,
          -0.49841656107326415,
          -0.5208518173483173,
          -0.6300190580583005,
          -0.5780212164971329,
          -0.5440015665044242,
          -0.2982102327334334,
          -0.41544970382601454,
          -0.5194356232671938,
          -0.5233143975458098,
          -0.4858242785529686,
          -0.5659455387978661,
          -0.44325896932567854,
          -0.5301328597858068,
          -0.4714068745305837,
          -0.6442942791481396,
          -0.4231866030067464,
          -0.6334988843690658,
          0.31201089216850275,
          0.1696997910788003,
          0.27769685729939453,
          0.21297278558182975,
          0.16071182809735696,
          0.326353829691552,
          0.1701747986622857,
          0.1605489310567234,
          0.1680271052735205,
          0.37038270932981754,
          0.3076239965030556,
          0.27159838652921264,
          0.1742398920277115,
          -0.10602634539660427,
          0.1846818775109338,
          0.27557538739607645,
          0.038736615620415416,
          0.10338695805950526,
          0.17909065784734723,
          0.11416523133361256,
          0.2303646528130281,
          0.192923974368449,
          0.031241514093415246,
          -0.07011747164891324,
          0.23794954064846996,
          0.22009174983327107,
          0.21860813780348076,
          0.248364493501398,
          0.10628583635099398,
          -0.1124405660633504,
          0.2001016645547986,
          0.2853305455596198,
          0.19538064601045724,
          0.25121814958642785,
          0.13167337807364898,
          0.36725901463778987,
          0.23060228966414553,
          0.3867589739108326,
          0.23438743329724554,
          0.5133614448234236,
          0.3330825703546947,
          0.24915946932325106,
          0.3779628861441495,
          0.420661963197575,
          0.1245756529753963,
          0.07653173547005099,
          0.08830183332443275,
          0.3227812574003037,
          0.30514768961275585,
          0.04594390252717506,
          0.13236782933588787,
          0.2277130671678329,
          0.1802071410808772,
          0.16616998478987477,
          0.2777296546372001,
          0.23656464429003554,
          0.16932618193136406,
          0.2706688049667827,
          -0.7445879987276647,
          -0.38070331229736554,
          -0.4389103587982006,
          -0.3703762649406349,
          -0.4000234544119703,
          -0.40289801520365187,
          -0.3582182918161113,
          -0.20818382404372127,
          -0.372927225332635,
          -0.3614303379330521,
          -0.4185753512542735,
          -0.5979682552697357,
          -0.5094198701160692,
          -0.5258123283826256,
          -0.46349311067105625,
          -0.3037463909892193,
          -0.33820423067676697,
          -0.38307176917003505,
          -0.29964062101327593,
          -0.6339726476675861,
          -0.4970832809636808,
          -0.6216620662286856,
          -0.5235307664741442,
          -0.4565116003500541,
          -0.498002473106273,
          -0.2985150645688599,
          -0.29136918636170184,
          -0.543302213622511,
          -0.49574263583788847,
          -0.4946289180816362,
          -0.5216742357671871,
          -0.6051705074974464,
          -0.35727217133300504,
          -0.6454951220253364,
          -0.5565303293561168,
          -0.5328894544511689,
          -0.4962323950309876,
          -0.5747232140240266,
          -0.4977409898574593,
          -0.45068033797800466,
          -0.3965015561653512,
          -0.513363081094115,
          -0.6145978361309068
         ]
        },
        {
         "mode": "lines",
         "name": "time warping",
         "type": "scatter",
         "x": [
          0,
          1,
          2,
          3,
          4,
          5,
          6,
          7,
          8,
          9,
          10,
          11,
          12,
          13,
          14,
          15,
          16,
          17,
          18,
          19,
          20,
          21,
          22,
          23,
          24,
          25,
          26,
          27,
          28,
          29,
          30,
          31,
          32,
          33,
          34,
          35,
          36,
          37,
          38,
          39,
          40,
          41,
          42,
          43,
          44,
          45,
          46,
          47,
          48,
          49,
          50,
          51,
          52,
          53,
          54,
          55,
          56,
          57,
          58,
          59,
          60,
          61,
          62,
          63,
          64,
          65,
          66,
          67,
          68,
          69,
          70,
          71,
          72,
          73,
          74,
          75,
          76,
          77,
          78,
          79,
          80,
          81,
          82,
          83,
          84,
          85,
          86,
          87,
          88,
          89,
          90,
          91,
          92,
          93,
          94,
          95,
          96,
          97,
          98,
          99,
          100,
          101,
          102,
          103,
          104,
          105,
          106,
          107,
          108,
          109,
          110,
          111,
          112,
          113,
          114,
          115,
          116,
          117,
          118,
          119,
          120,
          121,
          122,
          123,
          124,
          125,
          126,
          127
         ],
         "y": [
          -0.33377328876203904,
          -0.35167196730206557,
          -0.37671718746321664,
          -0.4351698228718887,
          -0.4718701414600993,
          -0.47669434716557035,
          -0.4886531601648337,
          -0.5030292704482773,
          -0.47653668154068735,
          -0.40955734683289396,
          -0.28256528743248766,
          -0.4581077085940541,
          -0.6186399101785843,
          -0.6167703243955488,
          -0.5458968653734446,
          -0.4974638325296541,
          -0.49901561283101137,
          -0.5157991485199799,
          -0.5798413829840733,
          -0.6131693058217677,
          -0.5736850015895048,
          -0.545568825074935,
          -0.34558149641237984,
          -0.37854373835054056,
          -0.47678316236465884,
          -0.5214655897415899,
          -0.5050121138958151,
          -0.5248354884006233,
          -0.5018746986442987,
          -0.49513134411325377,
          -0.4881668311588284,
          -0.6232085318583582,
          -0.4430016980191192,
          -0.2837350592736673,
          0.2117469538063102,
          0.2708436349084843,
          0.18226201613658555,
          0.30320309477324264,
          0.16243402426479658,
          0.28200981958333415,
          0.29201642264987854,
          0.05498686556458132,
          0.23454377209917587,
          0.09085347392758103,
          0.13730573481068203,
          0.07726550578071999,
          0.2320853229327597,
          0.24713498350983296,
          0.023840624891569427,
          0.22499951037912472,
          0.17410936205727673,
          0.3141693878786422,
          0.3784559658989273,
          0.3275832383858019,
          0.4056036521275592,
          0.26955666968049996,
          0.3555409707197386,
          0.4128651848891298,
          0.20075655714197638,
          0.0951854209182549,
          0.08162906287115189,
          0.13850666309368093,
          0.3130644777458729,
          0.31116936852559196,
          0.2186350386983156,
          0.04909812320151916,
          0.09807780125547101,
          0.15200578963850123,
          0.20740091121032236,
          0.21107883735273003,
          0.1848138062549779,
          0.17408097201292844,
          0.16665178637413328,
          0.21930401683823342,
          0.2761228978337616,
          0.25803067682813463,
          0.2377584287984672,
          0.2063022601103008,
          0.17414628710032493,
          0.20949704656965837,
          0.2567511980240438,
          -0.056161111681193955,
          -0.5194385931163827,
          -0.6607709710198669,
          -0.4977051865108334,
          -0.38796345050241876,
          -0.4136642675727616,
          -0.43838114594856825,
          -0.4084703704953832,
          -0.3785595950421981,
          -0.3796951908121034,
          -0.39252395621436287,
          -0.40053730040196056,
          -0.4017742452586048,
          -0.40114355978819094,
          -0.3819682445903166,
          -0.3627929293924423,
          -0.3091758159349735,
          -0.24476750849331086,
          -0.2388339129733055,
          -0.30978259578037787,
          -0.3723792553385208,
          -0.367397517255658,
          -0.3624157791727952,
          -0.38147610281269934,
          -0.4064649247699526,
          -0.45950084650859035,
          -0.538911353552887,
          -0.5877656834197876,
          -0.5479598902580396,
          -0.50965863145568,
          -0.5171671534031947,
          -0.5246756753507095,
          -0.5010425290453829,
          -0.47185414108217105,
          -0.4086961973233486,
          -0.3319013585168121,
          -0.3145587330465961,
          -0.3316297499630582,
          -0.3523515753101341,
          -0.37536007591396947,
          -0.35348583591305843,
          -0.3089845260820611,
          -0.44697188870864696,
          -0.633459897020122,
          -0.5538582858038454,
          -0.5253338450366463,
          -0.6145978361309068
         ]
        }
       ],
       "layout": {
        "height": 300,
        "legend": {
         "font": {
          "color": "black"
         },
         "orientation": "h",
         "x": 0.5,
         "xanchor": "center",
         "y": -0.3,
         "yanchor": "bottom"
        },
        "margin": {
         "b": 100,
         "l": 40,
         "r": 40,
         "t": 40
        },
        "paper_bgcolor": "white",
        "plot_bgcolor": "white",
        "template": {
         "data": {
          "bar": [
           {
            "error_x": {
             "color": "#2a3f5f"
            },
            "error_y": {
             "color": "#2a3f5f"
            },
            "marker": {
             "line": {
              "color": "#E5ECF6",
              "width": 0.5
             },
             "pattern": {
              "fillmode": "overlay",
              "size": 10,
              "solidity": 0.2
             }
            },
            "type": "bar"
           }
          ],
          "barpolar": [
           {
            "marker": {
             "line": {
              "color": "#E5ECF6",
              "width": 0.5
             },
             "pattern": {
              "fillmode": "overlay",
              "size": 10,
              "solidity": 0.2
             }
            },
            "type": "barpolar"
           }
          ],
          "carpet": [
           {
            "aaxis": {
             "endlinecolor": "#2a3f5f",
             "gridcolor": "white",
             "linecolor": "white",
             "minorgridcolor": "white",
             "startlinecolor": "#2a3f5f"
            },
            "baxis": {
             "endlinecolor": "#2a3f5f",
             "gridcolor": "white",
             "linecolor": "white",
             "minorgridcolor": "white",
             "startlinecolor": "#2a3f5f"
            },
            "type": "carpet"
           }
          ],
          "choropleth": [
           {
            "colorbar": {
             "outlinewidth": 0,
             "ticks": ""
            },
            "type": "choropleth"
           }
          ],
          "contour": [
           {
            "colorbar": {
             "outlinewidth": 0,
             "ticks": ""
            },
            "colorscale": [
             [
              0,
              "#0d0887"
             ],
             [
              0.1111111111111111,
              "#46039f"
             ],
             [
              0.2222222222222222,
              "#7201a8"
             ],
             [
              0.3333333333333333,
              "#9c179e"
             ],
             [
              0.4444444444444444,
              "#bd3786"
             ],
             [
              0.5555555555555556,
              "#d8576b"
             ],
             [
              0.6666666666666666,
              "#ed7953"
             ],
             [
              0.7777777777777778,
              "#fb9f3a"
             ],
             [
              0.8888888888888888,
              "#fdca26"
             ],
             [
              1,
              "#f0f921"
             ]
            ],
            "type": "contour"
           }
          ],
          "contourcarpet": [
           {
            "colorbar": {
             "outlinewidth": 0,
             "ticks": ""
            },
            "type": "contourcarpet"
           }
          ],
          "heatmap": [
           {
            "colorbar": {
             "outlinewidth": 0,
             "ticks": ""
            },
            "colorscale": [
             [
              0,
              "#0d0887"
             ],
             [
              0.1111111111111111,
              "#46039f"
             ],
             [
              0.2222222222222222,
              "#7201a8"
             ],
             [
              0.3333333333333333,
              "#9c179e"
             ],
             [
              0.4444444444444444,
              "#bd3786"
             ],
             [
              0.5555555555555556,
              "#d8576b"
             ],
             [
              0.6666666666666666,
              "#ed7953"
             ],
             [
              0.7777777777777778,
              "#fb9f3a"
             ],
             [
              0.8888888888888888,
              "#fdca26"
             ],
             [
              1,
              "#f0f921"
             ]
            ],
            "type": "heatmap"
           }
          ],
          "heatmapgl": [
           {
            "colorbar": {
             "outlinewidth": 0,
             "ticks": ""
            },
            "colorscale": [
             [
              0,
              "#0d0887"
             ],
             [
              0.1111111111111111,
              "#46039f"
             ],
             [
              0.2222222222222222,
              "#7201a8"
             ],
             [
              0.3333333333333333,
              "#9c179e"
             ],
             [
              0.4444444444444444,
              "#bd3786"
             ],
             [
              0.5555555555555556,
              "#d8576b"
             ],
             [
              0.6666666666666666,
              "#ed7953"
             ],
             [
              0.7777777777777778,
              "#fb9f3a"
             ],
             [
              0.8888888888888888,
              "#fdca26"
             ],
             [
              1,
              "#f0f921"
             ]
            ],
            "type": "heatmapgl"
           }
          ],
          "histogram": [
           {
            "marker": {
             "pattern": {
              "fillmode": "overlay",
              "size": 10,
              "solidity": 0.2
             }
            },
            "type": "histogram"
           }
          ],
          "histogram2d": [
           {
            "colorbar": {
             "outlinewidth": 0,
             "ticks": ""
            },
            "colorscale": [
             [
              0,
              "#0d0887"
             ],
             [
              0.1111111111111111,
              "#46039f"
             ],
             [
              0.2222222222222222,
              "#7201a8"
             ],
             [
              0.3333333333333333,
              "#9c179e"
             ],
             [
              0.4444444444444444,
              "#bd3786"
             ],
             [
              0.5555555555555556,
              "#d8576b"
             ],
             [
              0.6666666666666666,
              "#ed7953"
             ],
             [
              0.7777777777777778,
              "#fb9f3a"
             ],
             [
              0.8888888888888888,
              "#fdca26"
             ],
             [
              1,
              "#f0f921"
             ]
            ],
            "type": "histogram2d"
           }
          ],
          "histogram2dcontour": [
           {
            "colorbar": {
             "outlinewidth": 0,
             "ticks": ""
            },
            "colorscale": [
             [
              0,
              "#0d0887"
             ],
             [
              0.1111111111111111,
              "#46039f"
             ],
             [
              0.2222222222222222,
              "#7201a8"
             ],
             [
              0.3333333333333333,
              "#9c179e"
             ],
             [
              0.4444444444444444,
              "#bd3786"
             ],
             [
              0.5555555555555556,
              "#d8576b"
             ],
             [
              0.6666666666666666,
              "#ed7953"
             ],
             [
              0.7777777777777778,
              "#fb9f3a"
             ],
             [
              0.8888888888888888,
              "#fdca26"
             ],
             [
              1,
              "#f0f921"
             ]
            ],
            "type": "histogram2dcontour"
           }
          ],
          "mesh3d": [
           {
            "colorbar": {
             "outlinewidth": 0,
             "ticks": ""
            },
            "type": "mesh3d"
           }
          ],
          "parcoords": [
           {
            "line": {
             "colorbar": {
              "outlinewidth": 0,
              "ticks": ""
             }
            },
            "type": "parcoords"
           }
          ],
          "pie": [
           {
            "automargin": true,
            "type": "pie"
           }
          ],
          "scatter": [
           {
            "fillpattern": {
             "fillmode": "overlay",
             "size": 10,
             "solidity": 0.2
            },
            "type": "scatter"
           }
          ],
          "scatter3d": [
           {
            "line": {
             "colorbar": {
              "outlinewidth": 0,
              "ticks": ""
             }
            },
            "marker": {
             "colorbar": {
              "outlinewidth": 0,
              "ticks": ""
             }
            },
            "type": "scatter3d"
           }
          ],
          "scattercarpet": [
           {
            "marker": {
             "colorbar": {
              "outlinewidth": 0,
              "ticks": ""
             }
            },
            "type": "scattercarpet"
           }
          ],
          "scattergeo": [
           {
            "marker": {
             "colorbar": {
              "outlinewidth": 0,
              "ticks": ""
             }
            },
            "type": "scattergeo"
           }
          ],
          "scattergl": [
           {
            "marker": {
             "colorbar": {
              "outlinewidth": 0,
              "ticks": ""
             }
            },
            "type": "scattergl"
           }
          ],
          "scattermapbox": [
           {
            "marker": {
             "colorbar": {
              "outlinewidth": 0,
              "ticks": ""
             }
            },
            "type": "scattermapbox"
           }
          ],
          "scatterpolar": [
           {
            "marker": {
             "colorbar": {
              "outlinewidth": 0,
              "ticks": ""
             }
            },
            "type": "scatterpolar"
           }
          ],
          "scatterpolargl": [
           {
            "marker": {
             "colorbar": {
              "outlinewidth": 0,
              "ticks": ""
             }
            },
            "type": "scatterpolargl"
           }
          ],
          "scatterternary": [
           {
            "marker": {
             "colorbar": {
              "outlinewidth": 0,
              "ticks": ""
             }
            },
            "type": "scatterternary"
           }
          ],
          "surface": [
           {
            "colorbar": {
             "outlinewidth": 0,
             "ticks": ""
            },
            "colorscale": [
             [
              0,
              "#0d0887"
             ],
             [
              0.1111111111111111,
              "#46039f"
             ],
             [
              0.2222222222222222,
              "#7201a8"
             ],
             [
              0.3333333333333333,
              "#9c179e"
             ],
             [
              0.4444444444444444,
              "#bd3786"
             ],
             [
              0.5555555555555556,
              "#d8576b"
             ],
             [
              0.6666666666666666,
              "#ed7953"
             ],
             [
              0.7777777777777778,
              "#fb9f3a"
             ],
             [
              0.8888888888888888,
              "#fdca26"
             ],
             [
              1,
              "#f0f921"
             ]
            ],
            "type": "surface"
           }
          ],
          "table": [
           {
            "cells": {
             "fill": {
              "color": "#EBF0F8"
             },
             "line": {
              "color": "white"
             }
            },
            "header": {
             "fill": {
              "color": "#C8D4E3"
             },
             "line": {
              "color": "white"
             }
            },
            "type": "table"
           }
          ]
         },
         "layout": {
          "annotationdefaults": {
           "arrowcolor": "#2a3f5f",
           "arrowhead": 0,
           "arrowwidth": 1
          },
          "autotypenumbers": "strict",
          "coloraxis": {
           "colorbar": {
            "outlinewidth": 0,
            "ticks": ""
           }
          },
          "colorscale": {
           "diverging": [
            [
             0,
             "#8e0152"
            ],
            [
             0.1,
             "#c51b7d"
            ],
            [
             0.2,
             "#de77ae"
            ],
            [
             0.3,
             "#f1b6da"
            ],
            [
             0.4,
             "#fde0ef"
            ],
            [
             0.5,
             "#f7f7f7"
            ],
            [
             0.6,
             "#e6f5d0"
            ],
            [
             0.7,
             "#b8e186"
            ],
            [
             0.8,
             "#7fbc41"
            ],
            [
             0.9,
             "#4d9221"
            ],
            [
             1,
             "#276419"
            ]
           ],
           "sequential": [
            [
             0,
             "#0d0887"
            ],
            [
             0.1111111111111111,
             "#46039f"
            ],
            [
             0.2222222222222222,
             "#7201a8"
            ],
            [
             0.3333333333333333,
             "#9c179e"
            ],
            [
             0.4444444444444444,
             "#bd3786"
            ],
            [
             0.5555555555555556,
             "#d8576b"
            ],
            [
             0.6666666666666666,
             "#ed7953"
            ],
            [
             0.7777777777777778,
             "#fb9f3a"
            ],
            [
             0.8888888888888888,
             "#fdca26"
            ],
            [
             1,
             "#f0f921"
            ]
           ],
           "sequentialminus": [
            [
             0,
             "#0d0887"
            ],
            [
             0.1111111111111111,
             "#46039f"
            ],
            [
             0.2222222222222222,
             "#7201a8"
            ],
            [
             0.3333333333333333,
             "#9c179e"
            ],
            [
             0.4444444444444444,
             "#bd3786"
            ],
            [
             0.5555555555555556,
             "#d8576b"
            ],
            [
             0.6666666666666666,
             "#ed7953"
            ],
            [
             0.7777777777777778,
             "#fb9f3a"
            ],
            [
             0.8888888888888888,
             "#fdca26"
            ],
            [
             1,
             "#f0f921"
            ]
           ]
          },
          "colorway": [
           "#636efa",
           "#EF553B",
           "#00cc96",
           "#ab63fa",
           "#FFA15A",
           "#19d3f3",
           "#FF6692",
           "#B6E880",
           "#FF97FF",
           "#FECB52"
          ],
          "font": {
           "color": "#2a3f5f"
          },
          "geo": {
           "bgcolor": "white",
           "lakecolor": "white",
           "landcolor": "#E5ECF6",
           "showlakes": true,
           "showland": true,
           "subunitcolor": "white"
          },
          "hoverlabel": {
           "align": "left"
          },
          "hovermode": "closest",
          "mapbox": {
           "style": "light"
          },
          "paper_bgcolor": "white",
          "plot_bgcolor": "#E5ECF6",
          "polar": {
           "angularaxis": {
            "gridcolor": "white",
            "linecolor": "white",
            "ticks": ""
           },
           "bgcolor": "#E5ECF6",
           "radialaxis": {
            "gridcolor": "white",
            "linecolor": "white",
            "ticks": ""
           }
          },
          "scene": {
           "xaxis": {
            "backgroundcolor": "#E5ECF6",
            "gridcolor": "white",
            "gridwidth": 2,
            "linecolor": "white",
            "showbackground": true,
            "ticks": "",
            "zerolinecolor": "white"
           },
           "yaxis": {
            "backgroundcolor": "#E5ECF6",
            "gridcolor": "white",
            "gridwidth": 2,
            "linecolor": "white",
            "showbackground": true,
            "ticks": "",
            "zerolinecolor": "white"
           },
           "zaxis": {
            "backgroundcolor": "#E5ECF6",
            "gridcolor": "white",
            "gridwidth": 2,
            "linecolor": "white",
            "showbackground": true,
            "ticks": "",
            "zerolinecolor": "white"
           }
          },
          "shapedefaults": {
           "line": {
            "color": "#2a3f5f"
           }
          },
          "ternary": {
           "aaxis": {
            "gridcolor": "white",
            "linecolor": "white",
            "ticks": ""
           },
           "baxis": {
            "gridcolor": "white",
            "linecolor": "white",
            "ticks": ""
           },
           "bgcolor": "#E5ECF6",
           "caxis": {
            "gridcolor": "white",
            "linecolor": "white",
            "ticks": ""
           }
          },
          "title": {
           "x": 0.05
          },
          "xaxis": {
           "automargin": true,
           "gridcolor": "white",
           "linecolor": "white",
           "ticks": "",
           "title": {
            "standoff": 15
           },
           "zerolinecolor": "white",
           "zerolinewidth": 2
          },
          "yaxis": {
           "automargin": true,
           "gridcolor": "white",
           "linecolor": "white",
           "ticks": "",
           "title": {
            "standoff": 15
           },
           "zerolinecolor": "white",
           "zerolinewidth": 2
          }
         }
        },
        "width": 600,
        "xaxis": {
         "linecolor": "black",
         "range": [
          0,
          128
         ],
         "showgrid": false,
         "showline": true,
         "tickcolor": "black",
         "tickfont": {
          "color": "black"
         },
         "zeroline": false
        },
        "yaxis": {
         "linecolor": "black",
         "range": [
          -1,
          1
         ],
         "showgrid": false,
         "showline": true,
         "tickcolor": "black",
         "tickfont": {
          "color": "black"
         },
         "zeroline": false
        }
       }
      }
     },
     "metadata": {},
     "output_type": "display_data"
    }
   ],
   "source": [
    "hlp.plot1d_plotly(x=original[0],x2=time_warp[0], label2='time warping')\n"
   ]
  },
  {
   "cell_type": "markdown",
   "metadata": {},
   "source": [
    "## Rotation\n"
   ]
  },
  {
   "cell_type": "code",
   "execution_count": 20,
   "metadata": {
    "ExecuteTime": {
     "end_time": "2024-08-12T07:22:52.629522Z",
     "start_time": "2024-08-12T07:22:52.595404Z"
    }
   },
   "outputs": [
    {
     "data": {
      "application/vnd.plotly.v1+json": {
       "config": {
        "plotlyServerURL": "https://plot.ly"
       },
       "data": [
        {
         "mode": "lines",
         "name": "original",
         "type": "scatter",
         "x": [
          0,
          1,
          2,
          3,
          4,
          5,
          6,
          7,
          8,
          9,
          10,
          11,
          12,
          13,
          14,
          15,
          16,
          17,
          18,
          19,
          20,
          21,
          22,
          23,
          24,
          25,
          26,
          27,
          28,
          29,
          30,
          31,
          32,
          33,
          34,
          35,
          36,
          37,
          38,
          39,
          40,
          41,
          42,
          43,
          44,
          45,
          46,
          47,
          48,
          49,
          50,
          51,
          52,
          53,
          54,
          55,
          56,
          57,
          58,
          59,
          60,
          61,
          62,
          63,
          64,
          65,
          66,
          67,
          68,
          69,
          70,
          71,
          72,
          73,
          74,
          75,
          76,
          77,
          78,
          79,
          80,
          81,
          82,
          83,
          84,
          85,
          86,
          87,
          88,
          89,
          90,
          91,
          92,
          93,
          94,
          95,
          96,
          97,
          98,
          99,
          100,
          101,
          102,
          103,
          104,
          105,
          106,
          107,
          108,
          109,
          110,
          111,
          112,
          113,
          114,
          115,
          116,
          117,
          118,
          119,
          120,
          121,
          122,
          123,
          124,
          125,
          126,
          127
         ],
         "y": [
          -0.33377328876203904,
          -0.3664164862723184,
          -0.4699133873374587,
          -0.4782034826673083,
          -0.5035569863633922,
          -0.4607167728714232,
          -0.26161039603684466,
          -0.6192294531601332,
          -0.6164765985420649,
          -0.49705215945475867,
          -0.49841656107326415,
          -0.5208518173483173,
          -0.6300190580583005,
          -0.5780212164971329,
          -0.5440015665044242,
          -0.2982102327334334,
          -0.41544970382601454,
          -0.5194356232671938,
          -0.5233143975458098,
          -0.4858242785529686,
          -0.5659455387978661,
          -0.44325896932567854,
          -0.5301328597858068,
          -0.4714068745305837,
          -0.6442942791481396,
          -0.4231866030067464,
          -0.6334988843690658,
          0.31201089216850275,
          0.1696997910788003,
          0.27769685729939453,
          0.21297278558182975,
          0.16071182809735696,
          0.326353829691552,
          0.1701747986622857,
          0.1605489310567234,
          0.1680271052735205,
          0.37038270932981754,
          0.3076239965030556,
          0.27159838652921264,
          0.1742398920277115,
          -0.10602634539660427,
          0.1846818775109338,
          0.27557538739607645,
          0.038736615620415416,
          0.10338695805950526,
          0.17909065784734723,
          0.11416523133361256,
          0.2303646528130281,
          0.192923974368449,
          0.031241514093415246,
          -0.07011747164891324,
          0.23794954064846996,
          0.22009174983327107,
          0.21860813780348076,
          0.248364493501398,
          0.10628583635099398,
          -0.1124405660633504,
          0.2001016645547986,
          0.2853305455596198,
          0.19538064601045724,
          0.25121814958642785,
          0.13167337807364898,
          0.36725901463778987,
          0.23060228966414553,
          0.3867589739108326,
          0.23438743329724554,
          0.5133614448234236,
          0.3330825703546947,
          0.24915946932325106,
          0.3779628861441495,
          0.420661963197575,
          0.1245756529753963,
          0.07653173547005099,
          0.08830183332443275,
          0.3227812574003037,
          0.30514768961275585,
          0.04594390252717506,
          0.13236782933588787,
          0.2277130671678329,
          0.1802071410808772,
          0.16616998478987477,
          0.2777296546372001,
          0.23656464429003554,
          0.16932618193136406,
          0.2706688049667827,
          -0.7445879987276647,
          -0.38070331229736554,
          -0.4389103587982006,
          -0.3703762649406349,
          -0.4000234544119703,
          -0.40289801520365187,
          -0.3582182918161113,
          -0.20818382404372127,
          -0.372927225332635,
          -0.3614303379330521,
          -0.4185753512542735,
          -0.5979682552697357,
          -0.5094198701160692,
          -0.5258123283826256,
          -0.46349311067105625,
          -0.3037463909892193,
          -0.33820423067676697,
          -0.38307176917003505,
          -0.29964062101327593,
          -0.6339726476675861,
          -0.4970832809636808,
          -0.6216620662286856,
          -0.5235307664741442,
          -0.4565116003500541,
          -0.498002473106273,
          -0.2985150645688599,
          -0.29136918636170184,
          -0.543302213622511,
          -0.49574263583788847,
          -0.4946289180816362,
          -0.5216742357671871,
          -0.6051705074974464,
          -0.35727217133300504,
          -0.6454951220253364,
          -0.5565303293561168,
          -0.5328894544511689,
          -0.4962323950309876,
          -0.5747232140240266,
          -0.4977409898574593,
          -0.45068033797800466,
          -0.3965015561653512,
          -0.513363081094115,
          -0.6145978361309068
         ]
        },
        {
         "mode": "lines",
         "name": "rotation",
         "type": "scatter",
         "x": [
          0,
          1,
          2,
          3,
          4,
          5,
          6,
          7,
          8,
          9,
          10,
          11,
          12,
          13,
          14,
          15,
          16,
          17,
          18,
          19,
          20,
          21,
          22,
          23,
          24,
          25,
          26,
          27,
          28,
          29,
          30,
          31,
          32,
          33,
          34,
          35,
          36,
          37,
          38,
          39,
          40,
          41,
          42,
          43,
          44,
          45,
          46,
          47,
          48,
          49,
          50,
          51,
          52,
          53,
          54,
          55,
          56,
          57,
          58,
          59,
          60,
          61,
          62,
          63,
          64,
          65,
          66,
          67,
          68,
          69,
          70,
          71,
          72,
          73,
          74,
          75,
          76,
          77,
          78,
          79,
          80,
          81,
          82,
          83,
          84,
          85,
          86,
          87,
          88,
          89,
          90,
          91,
          92,
          93,
          94,
          95,
          96,
          97,
          98,
          99,
          100,
          101,
          102,
          103,
          104,
          105,
          106,
          107,
          108,
          109,
          110,
          111,
          112,
          113,
          114,
          115,
          116,
          117,
          118,
          119,
          120,
          121,
          122,
          123,
          124,
          125,
          126,
          127
         ],
         "y": [
          0.33377328876203904,
          0.3664164862723184,
          0.4699133873374587,
          0.4782034826673083,
          0.5035569863633922,
          0.4607167728714232,
          0.26161039603684466,
          0.6192294531601332,
          0.6164765985420649,
          0.49705215945475867,
          0.49841656107326415,
          0.5208518173483173,
          0.6300190580583005,
          0.5780212164971329,
          0.5440015665044242,
          0.2982102327334334,
          0.41544970382601454,
          0.5194356232671938,
          0.5233143975458098,
          0.4858242785529686,
          0.5659455387978661,
          0.44325896932567854,
          0.5301328597858068,
          0.4714068745305837,
          0.6442942791481396,
          0.4231866030067464,
          0.6334988843690658,
          -0.31201089216850275,
          -0.1696997910788003,
          -0.27769685729939453,
          -0.21297278558182975,
          -0.16071182809735696,
          -0.326353829691552,
          -0.1701747986622857,
          -0.1605489310567234,
          -0.1680271052735205,
          -0.37038270932981754,
          -0.3076239965030556,
          -0.27159838652921264,
          -0.1742398920277115,
          0.10602634539660427,
          -0.1846818775109338,
          -0.27557538739607645,
          -0.038736615620415416,
          -0.10338695805950526,
          -0.17909065784734723,
          -0.11416523133361256,
          -0.2303646528130281,
          -0.192923974368449,
          -0.031241514093415246,
          0.07011747164891324,
          -0.23794954064846996,
          -0.22009174983327107,
          -0.21860813780348076,
          -0.248364493501398,
          -0.10628583635099398,
          0.1124405660633504,
          -0.2001016645547986,
          -0.2853305455596198,
          -0.19538064601045724,
          -0.25121814958642785,
          -0.13167337807364898,
          -0.36725901463778987,
          -0.23060228966414553,
          -0.3867589739108326,
          -0.23438743329724554,
          -0.5133614448234236,
          -0.3330825703546947,
          -0.24915946932325106,
          -0.3779628861441495,
          -0.420661963197575,
          -0.1245756529753963,
          -0.07653173547005099,
          -0.08830183332443275,
          -0.3227812574003037,
          -0.30514768961275585,
          -0.04594390252717506,
          -0.13236782933588787,
          -0.2277130671678329,
          -0.1802071410808772,
          -0.16616998478987477,
          -0.2777296546372001,
          -0.23656464429003554,
          -0.16932618193136406,
          -0.2706688049667827,
          0.7445879987276647,
          0.38070331229736554,
          0.4389103587982006,
          0.3703762649406349,
          0.4000234544119703,
          0.40289801520365187,
          0.3582182918161113,
          0.20818382404372127,
          0.372927225332635,
          0.3614303379330521,
          0.4185753512542735,
          0.5979682552697357,
          0.5094198701160692,
          0.5258123283826256,
          0.46349311067105625,
          0.3037463909892193,
          0.33820423067676697,
          0.38307176917003505,
          0.29964062101327593,
          0.6339726476675861,
          0.4970832809636808,
          0.6216620662286856,
          0.5235307664741442,
          0.4565116003500541,
          0.498002473106273,
          0.2985150645688599,
          0.29136918636170184,
          0.543302213622511,
          0.49574263583788847,
          0.4946289180816362,
          0.5216742357671871,
          0.6051705074974464,
          0.35727217133300504,
          0.6454951220253364,
          0.5565303293561168,
          0.5328894544511689,
          0.4962323950309876,
          0.5747232140240266,
          0.4977409898574593,
          0.45068033797800466,
          0.3965015561653512,
          0.513363081094115,
          0.6145978361309068
         ]
        }
       ],
       "layout": {
        "height": 300,
        "legend": {
         "font": {
          "color": "black"
         },
         "orientation": "h",
         "x": 0.5,
         "xanchor": "center",
         "y": -0.3,
         "yanchor": "bottom"
        },
        "margin": {
         "b": 100,
         "l": 40,
         "r": 40,
         "t": 40
        },
        "paper_bgcolor": "white",
        "plot_bgcolor": "white",
        "template": {
         "data": {
          "bar": [
           {
            "error_x": {
             "color": "#2a3f5f"
            },
            "error_y": {
             "color": "#2a3f5f"
            },
            "marker": {
             "line": {
              "color": "#E5ECF6",
              "width": 0.5
             },
             "pattern": {
              "fillmode": "overlay",
              "size": 10,
              "solidity": 0.2
             }
            },
            "type": "bar"
           }
          ],
          "barpolar": [
           {
            "marker": {
             "line": {
              "color": "#E5ECF6",
              "width": 0.5
             },
             "pattern": {
              "fillmode": "overlay",
              "size": 10,
              "solidity": 0.2
             }
            },
            "type": "barpolar"
           }
          ],
          "carpet": [
           {
            "aaxis": {
             "endlinecolor": "#2a3f5f",
             "gridcolor": "white",
             "linecolor": "white",
             "minorgridcolor": "white",
             "startlinecolor": "#2a3f5f"
            },
            "baxis": {
             "endlinecolor": "#2a3f5f",
             "gridcolor": "white",
             "linecolor": "white",
             "minorgridcolor": "white",
             "startlinecolor": "#2a3f5f"
            },
            "type": "carpet"
           }
          ],
          "choropleth": [
           {
            "colorbar": {
             "outlinewidth": 0,
             "ticks": ""
            },
            "type": "choropleth"
           }
          ],
          "contour": [
           {
            "colorbar": {
             "outlinewidth": 0,
             "ticks": ""
            },
            "colorscale": [
             [
              0,
              "#0d0887"
             ],
             [
              0.1111111111111111,
              "#46039f"
             ],
             [
              0.2222222222222222,
              "#7201a8"
             ],
             [
              0.3333333333333333,
              "#9c179e"
             ],
             [
              0.4444444444444444,
              "#bd3786"
             ],
             [
              0.5555555555555556,
              "#d8576b"
             ],
             [
              0.6666666666666666,
              "#ed7953"
             ],
             [
              0.7777777777777778,
              "#fb9f3a"
             ],
             [
              0.8888888888888888,
              "#fdca26"
             ],
             [
              1,
              "#f0f921"
             ]
            ],
            "type": "contour"
           }
          ],
          "contourcarpet": [
           {
            "colorbar": {
             "outlinewidth": 0,
             "ticks": ""
            },
            "type": "contourcarpet"
           }
          ],
          "heatmap": [
           {
            "colorbar": {
             "outlinewidth": 0,
             "ticks": ""
            },
            "colorscale": [
             [
              0,
              "#0d0887"
             ],
             [
              0.1111111111111111,
              "#46039f"
             ],
             [
              0.2222222222222222,
              "#7201a8"
             ],
             [
              0.3333333333333333,
              "#9c179e"
             ],
             [
              0.4444444444444444,
              "#bd3786"
             ],
             [
              0.5555555555555556,
              "#d8576b"
             ],
             [
              0.6666666666666666,
              "#ed7953"
             ],
             [
              0.7777777777777778,
              "#fb9f3a"
             ],
             [
              0.8888888888888888,
              "#fdca26"
             ],
             [
              1,
              "#f0f921"
             ]
            ],
            "type": "heatmap"
           }
          ],
          "heatmapgl": [
           {
            "colorbar": {
             "outlinewidth": 0,
             "ticks": ""
            },
            "colorscale": [
             [
              0,
              "#0d0887"
             ],
             [
              0.1111111111111111,
              "#46039f"
             ],
             [
              0.2222222222222222,
              "#7201a8"
             ],
             [
              0.3333333333333333,
              "#9c179e"
             ],
             [
              0.4444444444444444,
              "#bd3786"
             ],
             [
              0.5555555555555556,
              "#d8576b"
             ],
             [
              0.6666666666666666,
              "#ed7953"
             ],
             [
              0.7777777777777778,
              "#fb9f3a"
             ],
             [
              0.8888888888888888,
              "#fdca26"
             ],
             [
              1,
              "#f0f921"
             ]
            ],
            "type": "heatmapgl"
           }
          ],
          "histogram": [
           {
            "marker": {
             "pattern": {
              "fillmode": "overlay",
              "size": 10,
              "solidity": 0.2
             }
            },
            "type": "histogram"
           }
          ],
          "histogram2d": [
           {
            "colorbar": {
             "outlinewidth": 0,
             "ticks": ""
            },
            "colorscale": [
             [
              0,
              "#0d0887"
             ],
             [
              0.1111111111111111,
              "#46039f"
             ],
             [
              0.2222222222222222,
              "#7201a8"
             ],
             [
              0.3333333333333333,
              "#9c179e"
             ],
             [
              0.4444444444444444,
              "#bd3786"
             ],
             [
              0.5555555555555556,
              "#d8576b"
             ],
             [
              0.6666666666666666,
              "#ed7953"
             ],
             [
              0.7777777777777778,
              "#fb9f3a"
             ],
             [
              0.8888888888888888,
              "#fdca26"
             ],
             [
              1,
              "#f0f921"
             ]
            ],
            "type": "histogram2d"
           }
          ],
          "histogram2dcontour": [
           {
            "colorbar": {
             "outlinewidth": 0,
             "ticks": ""
            },
            "colorscale": [
             [
              0,
              "#0d0887"
             ],
             [
              0.1111111111111111,
              "#46039f"
             ],
             [
              0.2222222222222222,
              "#7201a8"
             ],
             [
              0.3333333333333333,
              "#9c179e"
             ],
             [
              0.4444444444444444,
              "#bd3786"
             ],
             [
              0.5555555555555556,
              "#d8576b"
             ],
             [
              0.6666666666666666,
              "#ed7953"
             ],
             [
              0.7777777777777778,
              "#fb9f3a"
             ],
             [
              0.8888888888888888,
              "#fdca26"
             ],
             [
              1,
              "#f0f921"
             ]
            ],
            "type": "histogram2dcontour"
           }
          ],
          "mesh3d": [
           {
            "colorbar": {
             "outlinewidth": 0,
             "ticks": ""
            },
            "type": "mesh3d"
           }
          ],
          "parcoords": [
           {
            "line": {
             "colorbar": {
              "outlinewidth": 0,
              "ticks": ""
             }
            },
            "type": "parcoords"
           }
          ],
          "pie": [
           {
            "automargin": true,
            "type": "pie"
           }
          ],
          "scatter": [
           {
            "fillpattern": {
             "fillmode": "overlay",
             "size": 10,
             "solidity": 0.2
            },
            "type": "scatter"
           }
          ],
          "scatter3d": [
           {
            "line": {
             "colorbar": {
              "outlinewidth": 0,
              "ticks": ""
             }
            },
            "marker": {
             "colorbar": {
              "outlinewidth": 0,
              "ticks": ""
             }
            },
            "type": "scatter3d"
           }
          ],
          "scattercarpet": [
           {
            "marker": {
             "colorbar": {
              "outlinewidth": 0,
              "ticks": ""
             }
            },
            "type": "scattercarpet"
           }
          ],
          "scattergeo": [
           {
            "marker": {
             "colorbar": {
              "outlinewidth": 0,
              "ticks": ""
             }
            },
            "type": "scattergeo"
           }
          ],
          "scattergl": [
           {
            "marker": {
             "colorbar": {
              "outlinewidth": 0,
              "ticks": ""
             }
            },
            "type": "scattergl"
           }
          ],
          "scattermapbox": [
           {
            "marker": {
             "colorbar": {
              "outlinewidth": 0,
              "ticks": ""
             }
            },
            "type": "scattermapbox"
           }
          ],
          "scatterpolar": [
           {
            "marker": {
             "colorbar": {
              "outlinewidth": 0,
              "ticks": ""
             }
            },
            "type": "scatterpolar"
           }
          ],
          "scatterpolargl": [
           {
            "marker": {
             "colorbar": {
              "outlinewidth": 0,
              "ticks": ""
             }
            },
            "type": "scatterpolargl"
           }
          ],
          "scatterternary": [
           {
            "marker": {
             "colorbar": {
              "outlinewidth": 0,
              "ticks": ""
             }
            },
            "type": "scatterternary"
           }
          ],
          "surface": [
           {
            "colorbar": {
             "outlinewidth": 0,
             "ticks": ""
            },
            "colorscale": [
             [
              0,
              "#0d0887"
             ],
             [
              0.1111111111111111,
              "#46039f"
             ],
             [
              0.2222222222222222,
              "#7201a8"
             ],
             [
              0.3333333333333333,
              "#9c179e"
             ],
             [
              0.4444444444444444,
              "#bd3786"
             ],
             [
              0.5555555555555556,
              "#d8576b"
             ],
             [
              0.6666666666666666,
              "#ed7953"
             ],
             [
              0.7777777777777778,
              "#fb9f3a"
             ],
             [
              0.8888888888888888,
              "#fdca26"
             ],
             [
              1,
              "#f0f921"
             ]
            ],
            "type": "surface"
           }
          ],
          "table": [
           {
            "cells": {
             "fill": {
              "color": "#EBF0F8"
             },
             "line": {
              "color": "white"
             }
            },
            "header": {
             "fill": {
              "color": "#C8D4E3"
             },
             "line": {
              "color": "white"
             }
            },
            "type": "table"
           }
          ]
         },
         "layout": {
          "annotationdefaults": {
           "arrowcolor": "#2a3f5f",
           "arrowhead": 0,
           "arrowwidth": 1
          },
          "autotypenumbers": "strict",
          "coloraxis": {
           "colorbar": {
            "outlinewidth": 0,
            "ticks": ""
           }
          },
          "colorscale": {
           "diverging": [
            [
             0,
             "#8e0152"
            ],
            [
             0.1,
             "#c51b7d"
            ],
            [
             0.2,
             "#de77ae"
            ],
            [
             0.3,
             "#f1b6da"
            ],
            [
             0.4,
             "#fde0ef"
            ],
            [
             0.5,
             "#f7f7f7"
            ],
            [
             0.6,
             "#e6f5d0"
            ],
            [
             0.7,
             "#b8e186"
            ],
            [
             0.8,
             "#7fbc41"
            ],
            [
             0.9,
             "#4d9221"
            ],
            [
             1,
             "#276419"
            ]
           ],
           "sequential": [
            [
             0,
             "#0d0887"
            ],
            [
             0.1111111111111111,
             "#46039f"
            ],
            [
             0.2222222222222222,
             "#7201a8"
            ],
            [
             0.3333333333333333,
             "#9c179e"
            ],
            [
             0.4444444444444444,
             "#bd3786"
            ],
            [
             0.5555555555555556,
             "#d8576b"
            ],
            [
             0.6666666666666666,
             "#ed7953"
            ],
            [
             0.7777777777777778,
             "#fb9f3a"
            ],
            [
             0.8888888888888888,
             "#fdca26"
            ],
            [
             1,
             "#f0f921"
            ]
           ],
           "sequentialminus": [
            [
             0,
             "#0d0887"
            ],
            [
             0.1111111111111111,
             "#46039f"
            ],
            [
             0.2222222222222222,
             "#7201a8"
            ],
            [
             0.3333333333333333,
             "#9c179e"
            ],
            [
             0.4444444444444444,
             "#bd3786"
            ],
            [
             0.5555555555555556,
             "#d8576b"
            ],
            [
             0.6666666666666666,
             "#ed7953"
            ],
            [
             0.7777777777777778,
             "#fb9f3a"
            ],
            [
             0.8888888888888888,
             "#fdca26"
            ],
            [
             1,
             "#f0f921"
            ]
           ]
          },
          "colorway": [
           "#636efa",
           "#EF553B",
           "#00cc96",
           "#ab63fa",
           "#FFA15A",
           "#19d3f3",
           "#FF6692",
           "#B6E880",
           "#FF97FF",
           "#FECB52"
          ],
          "font": {
           "color": "#2a3f5f"
          },
          "geo": {
           "bgcolor": "white",
           "lakecolor": "white",
           "landcolor": "#E5ECF6",
           "showlakes": true,
           "showland": true,
           "subunitcolor": "white"
          },
          "hoverlabel": {
           "align": "left"
          },
          "hovermode": "closest",
          "mapbox": {
           "style": "light"
          },
          "paper_bgcolor": "white",
          "plot_bgcolor": "#E5ECF6",
          "polar": {
           "angularaxis": {
            "gridcolor": "white",
            "linecolor": "white",
            "ticks": ""
           },
           "bgcolor": "#E5ECF6",
           "radialaxis": {
            "gridcolor": "white",
            "linecolor": "white",
            "ticks": ""
           }
          },
          "scene": {
           "xaxis": {
            "backgroundcolor": "#E5ECF6",
            "gridcolor": "white",
            "gridwidth": 2,
            "linecolor": "white",
            "showbackground": true,
            "ticks": "",
            "zerolinecolor": "white"
           },
           "yaxis": {
            "backgroundcolor": "#E5ECF6",
            "gridcolor": "white",
            "gridwidth": 2,
            "linecolor": "white",
            "showbackground": true,
            "ticks": "",
            "zerolinecolor": "white"
           },
           "zaxis": {
            "backgroundcolor": "#E5ECF6",
            "gridcolor": "white",
            "gridwidth": 2,
            "linecolor": "white",
            "showbackground": true,
            "ticks": "",
            "zerolinecolor": "white"
           }
          },
          "shapedefaults": {
           "line": {
            "color": "#2a3f5f"
           }
          },
          "ternary": {
           "aaxis": {
            "gridcolor": "white",
            "linecolor": "white",
            "ticks": ""
           },
           "baxis": {
            "gridcolor": "white",
            "linecolor": "white",
            "ticks": ""
           },
           "bgcolor": "#E5ECF6",
           "caxis": {
            "gridcolor": "white",
            "linecolor": "white",
            "ticks": ""
           }
          },
          "title": {
           "x": 0.05
          },
          "xaxis": {
           "automargin": true,
           "gridcolor": "white",
           "linecolor": "white",
           "ticks": "",
           "title": {
            "standoff": 15
           },
           "zerolinecolor": "white",
           "zerolinewidth": 2
          },
          "yaxis": {
           "automargin": true,
           "gridcolor": "white",
           "linecolor": "white",
           "ticks": "",
           "title": {
            "standoff": 15
           },
           "zerolinecolor": "white",
           "zerolinewidth": 2
          }
         }
        },
        "width": 600,
        "xaxis": {
         "linecolor": "black",
         "range": [
          0,
          128
         ],
         "showgrid": false,
         "showline": true,
         "tickcolor": "black",
         "tickfont": {
          "color": "black"
         },
         "zeroline": false
        },
        "yaxis": {
         "linecolor": "black",
         "range": [
          -1,
          1
         ],
         "showgrid": false,
         "showline": true,
         "tickcolor": "black",
         "tickfont": {
          "color": "black"
         },
         "zeroline": false
        }
       }
      }
     },
     "metadata": {},
     "output_type": "display_data"
    }
   ],
   "source": [
    "hlp.plot1d_plotly(x=original[0],x2=rotation[0], label2='rotation')\n"
   ]
  },
  {
   "cell_type": "markdown",
   "metadata": {},
   "source": [
    "## Window Slicing\n"
   ]
  },
  {
   "cell_type": "code",
   "execution_count": 21,
   "metadata": {
    "ExecuteTime": {
     "end_time": "2024-08-12T07:22:52.672679Z",
     "start_time": "2024-08-12T07:22:52.643966Z"
    }
   },
   "outputs": [
    {
     "data": {
      "application/vnd.plotly.v1+json": {
       "config": {
        "plotlyServerURL": "https://plot.ly"
       },
       "data": [
        {
         "mode": "lines",
         "name": "original",
         "type": "scatter",
         "x": [
          0,
          1,
          2,
          3,
          4,
          5,
          6,
          7,
          8,
          9,
          10,
          11,
          12,
          13,
          14,
          15,
          16,
          17,
          18,
          19,
          20,
          21,
          22,
          23,
          24,
          25,
          26,
          27,
          28,
          29,
          30,
          31,
          32,
          33,
          34,
          35,
          36,
          37,
          38,
          39,
          40,
          41,
          42,
          43,
          44,
          45,
          46,
          47,
          48,
          49,
          50,
          51,
          52,
          53,
          54,
          55,
          56,
          57,
          58,
          59,
          60,
          61,
          62,
          63,
          64,
          65,
          66,
          67,
          68,
          69,
          70,
          71,
          72,
          73,
          74,
          75,
          76,
          77,
          78,
          79,
          80,
          81,
          82,
          83,
          84,
          85,
          86,
          87,
          88,
          89,
          90,
          91,
          92,
          93,
          94,
          95,
          96,
          97,
          98,
          99,
          100,
          101,
          102,
          103,
          104,
          105,
          106,
          107,
          108,
          109,
          110,
          111,
          112,
          113,
          114,
          115,
          116,
          117,
          118,
          119,
          120,
          121,
          122,
          123,
          124,
          125,
          126,
          127
         ],
         "y": [
          -0.33377328876203904,
          -0.3664164862723184,
          -0.4699133873374587,
          -0.4782034826673083,
          -0.5035569863633922,
          -0.4607167728714232,
          -0.26161039603684466,
          -0.6192294531601332,
          -0.6164765985420649,
          -0.49705215945475867,
          -0.49841656107326415,
          -0.5208518173483173,
          -0.6300190580583005,
          -0.5780212164971329,
          -0.5440015665044242,
          -0.2982102327334334,
          -0.41544970382601454,
          -0.5194356232671938,
          -0.5233143975458098,
          -0.4858242785529686,
          -0.5659455387978661,
          -0.44325896932567854,
          -0.5301328597858068,
          -0.4714068745305837,
          -0.6442942791481396,
          -0.4231866030067464,
          -0.6334988843690658,
          0.31201089216850275,
          0.1696997910788003,
          0.27769685729939453,
          0.21297278558182975,
          0.16071182809735696,
          0.326353829691552,
          0.1701747986622857,
          0.1605489310567234,
          0.1680271052735205,
          0.37038270932981754,
          0.3076239965030556,
          0.27159838652921264,
          0.1742398920277115,
          -0.10602634539660427,
          0.1846818775109338,
          0.27557538739607645,
          0.038736615620415416,
          0.10338695805950526,
          0.17909065784734723,
          0.11416523133361256,
          0.2303646528130281,
          0.192923974368449,
          0.031241514093415246,
          -0.07011747164891324,
          0.23794954064846996,
          0.22009174983327107,
          0.21860813780348076,
          0.248364493501398,
          0.10628583635099398,
          -0.1124405660633504,
          0.2001016645547986,
          0.2853305455596198,
          0.19538064601045724,
          0.25121814958642785,
          0.13167337807364898,
          0.36725901463778987,
          0.23060228966414553,
          0.3867589739108326,
          0.23438743329724554,
          0.5133614448234236,
          0.3330825703546947,
          0.24915946932325106,
          0.3779628861441495,
          0.420661963197575,
          0.1245756529753963,
          0.07653173547005099,
          0.08830183332443275,
          0.3227812574003037,
          0.30514768961275585,
          0.04594390252717506,
          0.13236782933588787,
          0.2277130671678329,
          0.1802071410808772,
          0.16616998478987477,
          0.2777296546372001,
          0.23656464429003554,
          0.16932618193136406,
          0.2706688049667827,
          -0.7445879987276647,
          -0.38070331229736554,
          -0.4389103587982006,
          -0.3703762649406349,
          -0.4000234544119703,
          -0.40289801520365187,
          -0.3582182918161113,
          -0.20818382404372127,
          -0.372927225332635,
          -0.3614303379330521,
          -0.4185753512542735,
          -0.5979682552697357,
          -0.5094198701160692,
          -0.5258123283826256,
          -0.46349311067105625,
          -0.3037463909892193,
          -0.33820423067676697,
          -0.38307176917003505,
          -0.29964062101327593,
          -0.6339726476675861,
          -0.4970832809636808,
          -0.6216620662286856,
          -0.5235307664741442,
          -0.4565116003500541,
          -0.498002473106273,
          -0.2985150645688599,
          -0.29136918636170184,
          -0.543302213622511,
          -0.49574263583788847,
          -0.4946289180816362,
          -0.5216742357671871,
          -0.6051705074974464,
          -0.35727217133300504,
          -0.6454951220253364,
          -0.5565303293561168,
          -0.5328894544511689,
          -0.4962323950309876,
          -0.5747232140240266,
          -0.4977409898574593,
          -0.45068033797800466,
          -0.3965015561653512,
          -0.513363081094115,
          -0.6145978361309068
         ]
        },
        {
         "mode": "lines",
         "name": "window slicing",
         "type": "scatter",
         "x": [
          0,
          1,
          2,
          3,
          4,
          5,
          6,
          7,
          8,
          9,
          10,
          11,
          12,
          13,
          14,
          15,
          16,
          17,
          18,
          19,
          20,
          21,
          22,
          23,
          24,
          25,
          26,
          27,
          28,
          29,
          30,
          31,
          32,
          33,
          34,
          35,
          36,
          37,
          38,
          39,
          40,
          41,
          42,
          43,
          44,
          45,
          46,
          47,
          48,
          49,
          50,
          51,
          52,
          53,
          54,
          55,
          56,
          57,
          58,
          59,
          60,
          61,
          62,
          63,
          64,
          65,
          66,
          67,
          68,
          69,
          70,
          71,
          72,
          73,
          74,
          75,
          76,
          77,
          78,
          79,
          80,
          81,
          82,
          83,
          84,
          85,
          86,
          87,
          88,
          89,
          90,
          91,
          92,
          93,
          94,
          95,
          96,
          97,
          98,
          99,
          100,
          101,
          102,
          103,
          104,
          105,
          106,
          107,
          108,
          109,
          110,
          111,
          112,
          113,
          114,
          115,
          116,
          117,
          118,
          119,
          120,
          121,
          122,
          123,
          124,
          125,
          126,
          127
         ],
         "y": [
          -0.3664164862723184,
          -0.46094908882000557,
          -0.4767674031613501,
          -0.4969690680801578,
          -0.4755590515615542,
          -0.34783756710693775,
          -0.4333801793795266,
          -0.6181456521293976,
          -0.5798029518932071,
          -0.49735297241001974,
          -0.5014197056140193,
          -0.5260093247834347,
          -0.6257211351957027,
          -0.5845721256701933,
          -0.5512340905186222,
          -0.37175409638144624,
          -0.3702155771839951,
          -0.4703084172319911,
          -0.5211459489333552,
          -0.5100304971152755,
          -0.5072740647602639,
          -0.5437267112556587,
          -0.4514675259045883,
          -0.5296704504530885,
          -0.4760309678577666,
          -0.6157065980696464,
          -0.47889877337308157,
          -0.5622907891046589,
          -0.09001688683172251,
          0.24253618140030117,
          0.21306869168707054,
          0.25731132290016134,
          0.20103918111687133,
          0.1841886472209436,
          0.31774553664269456,
          0.17509382326163264,
          0.16168584455344337,
          0.16649614047323136,
          0.31142871444727477,
          0.33134382497301285,
          0.288334693524935,
          0.22790205435137312,
          0.07272613674016325,
          -0.025909906012636715,
          0.20185860378844103,
          0.2513320485528973,
          0.03975473124937769,
          0.09880543772917619,
          0.16716881536107292,
          0.1300131700889337,
          0.19193649767810375,
          0.20854882442799766,
          0.11271928935012503,
          -0.01025980290344359,
          0.029337233108511145,
          0.23373116486535206,
          0.21986979212802685,
          0.22048255391043617,
          0.24766158746128988,
          0.12194805052505373,
          -0.06938418763533032,
          0.11150701650555968,
          0.25378914865232427,
          0.23646012769432637,
          0.22088123819475894,
          0.20697717115256467,
          0.1984535585170274,
          0.3403580845248671,
          0.24781641233700918,
          0.3831596461798027,
          0.24398564057999117,
          0.47162517538250087,
          0.37566813125282017,
          0.2762527539082051,
          0.32522447925685355,
          0.39948053127343475,
          0.29709838491587703,
          0.10868711332795879,
          0.0794047514817505,
          0.12522772687968964,
          0.32153163448622557,
          0.30542538359366206,
          0.07247657364616918,
          0.11603574867912327,
          0.20143682052123443,
          0.19741401194701877,
          0.1724701258023719,
          0.2179969180260347,
          0.26217122552961036,
          0.21697548596506794,
          0.19007349058428546,
          0.1507565840579881,
          -0.7331270637219834,
          -0.4007599485573039,
          -0.43066054118390923,
          -0.386025782435669,
          -0.3906857569406836,
          -0.4017436640195908,
          -0.38003044024152494,
          -0.2944241086687954,
          -0.2639630858974493,
          -0.3700303718146299,
          -0.3708795133641205,
          -0.4327007767673039,
          -0.5965557127184332,
          -0.5177866466660213,
          -0.5228436154682098,
          -0.4801769957276966,
          -0.36034955938041985,
          -0.3230102226255649,
          -0.35940149295705137,
          -0.3508817986213632,
          -0.39967697544527525,
          -0.6048701838801405,
          -0.5127782460364373,
          -0.6177986292304748,
          -0.5281668908719955,
          -0.4654826698312314,
          -0.48885487911277625,
          -0.3597749774268059,
          -0.2941825242385357,
          -0.422295011552361,
          -0.5227055460779894,
          -0.4953567808672184,
          -0.5016564415747324,
          -0.5361381568543189,
          -0.6051705074974464,
          -0.6051705074974464
         ]
        }
       ],
       "layout": {
        "height": 300,
        "legend": {
         "font": {
          "color": "black"
         },
         "orientation": "h",
         "x": 0.5,
         "xanchor": "center",
         "y": -0.3,
         "yanchor": "bottom"
        },
        "margin": {
         "b": 100,
         "l": 40,
         "r": 40,
         "t": 40
        },
        "paper_bgcolor": "white",
        "plot_bgcolor": "white",
        "template": {
         "data": {
          "bar": [
           {
            "error_x": {
             "color": "#2a3f5f"
            },
            "error_y": {
             "color": "#2a3f5f"
            },
            "marker": {
             "line": {
              "color": "#E5ECF6",
              "width": 0.5
             },
             "pattern": {
              "fillmode": "overlay",
              "size": 10,
              "solidity": 0.2
             }
            },
            "type": "bar"
           }
          ],
          "barpolar": [
           {
            "marker": {
             "line": {
              "color": "#E5ECF6",
              "width": 0.5
             },
             "pattern": {
              "fillmode": "overlay",
              "size": 10,
              "solidity": 0.2
             }
            },
            "type": "barpolar"
           }
          ],
          "carpet": [
           {
            "aaxis": {
             "endlinecolor": "#2a3f5f",
             "gridcolor": "white",
             "linecolor": "white",
             "minorgridcolor": "white",
             "startlinecolor": "#2a3f5f"
            },
            "baxis": {
             "endlinecolor": "#2a3f5f",
             "gridcolor": "white",
             "linecolor": "white",
             "minorgridcolor": "white",
             "startlinecolor": "#2a3f5f"
            },
            "type": "carpet"
           }
          ],
          "choropleth": [
           {
            "colorbar": {
             "outlinewidth": 0,
             "ticks": ""
            },
            "type": "choropleth"
           }
          ],
          "contour": [
           {
            "colorbar": {
             "outlinewidth": 0,
             "ticks": ""
            },
            "colorscale": [
             [
              0,
              "#0d0887"
             ],
             [
              0.1111111111111111,
              "#46039f"
             ],
             [
              0.2222222222222222,
              "#7201a8"
             ],
             [
              0.3333333333333333,
              "#9c179e"
             ],
             [
              0.4444444444444444,
              "#bd3786"
             ],
             [
              0.5555555555555556,
              "#d8576b"
             ],
             [
              0.6666666666666666,
              "#ed7953"
             ],
             [
              0.7777777777777778,
              "#fb9f3a"
             ],
             [
              0.8888888888888888,
              "#fdca26"
             ],
             [
              1,
              "#f0f921"
             ]
            ],
            "type": "contour"
           }
          ],
          "contourcarpet": [
           {
            "colorbar": {
             "outlinewidth": 0,
             "ticks": ""
            },
            "type": "contourcarpet"
           }
          ],
          "heatmap": [
           {
            "colorbar": {
             "outlinewidth": 0,
             "ticks": ""
            },
            "colorscale": [
             [
              0,
              "#0d0887"
             ],
             [
              0.1111111111111111,
              "#46039f"
             ],
             [
              0.2222222222222222,
              "#7201a8"
             ],
             [
              0.3333333333333333,
              "#9c179e"
             ],
             [
              0.4444444444444444,
              "#bd3786"
             ],
             [
              0.5555555555555556,
              "#d8576b"
             ],
             [
              0.6666666666666666,
              "#ed7953"
             ],
             [
              0.7777777777777778,
              "#fb9f3a"
             ],
             [
              0.8888888888888888,
              "#fdca26"
             ],
             [
              1,
              "#f0f921"
             ]
            ],
            "type": "heatmap"
           }
          ],
          "heatmapgl": [
           {
            "colorbar": {
             "outlinewidth": 0,
             "ticks": ""
            },
            "colorscale": [
             [
              0,
              "#0d0887"
             ],
             [
              0.1111111111111111,
              "#46039f"
             ],
             [
              0.2222222222222222,
              "#7201a8"
             ],
             [
              0.3333333333333333,
              "#9c179e"
             ],
             [
              0.4444444444444444,
              "#bd3786"
             ],
             [
              0.5555555555555556,
              "#d8576b"
             ],
             [
              0.6666666666666666,
              "#ed7953"
             ],
             [
              0.7777777777777778,
              "#fb9f3a"
             ],
             [
              0.8888888888888888,
              "#fdca26"
             ],
             [
              1,
              "#f0f921"
             ]
            ],
            "type": "heatmapgl"
           }
          ],
          "histogram": [
           {
            "marker": {
             "pattern": {
              "fillmode": "overlay",
              "size": 10,
              "solidity": 0.2
             }
            },
            "type": "histogram"
           }
          ],
          "histogram2d": [
           {
            "colorbar": {
             "outlinewidth": 0,
             "ticks": ""
            },
            "colorscale": [
             [
              0,
              "#0d0887"
             ],
             [
              0.1111111111111111,
              "#46039f"
             ],
             [
              0.2222222222222222,
              "#7201a8"
             ],
             [
              0.3333333333333333,
              "#9c179e"
             ],
             [
              0.4444444444444444,
              "#bd3786"
             ],
             [
              0.5555555555555556,
              "#d8576b"
             ],
             [
              0.6666666666666666,
              "#ed7953"
             ],
             [
              0.7777777777777778,
              "#fb9f3a"
             ],
             [
              0.8888888888888888,
              "#fdca26"
             ],
             [
              1,
              "#f0f921"
             ]
            ],
            "type": "histogram2d"
           }
          ],
          "histogram2dcontour": [
           {
            "colorbar": {
             "outlinewidth": 0,
             "ticks": ""
            },
            "colorscale": [
             [
              0,
              "#0d0887"
             ],
             [
              0.1111111111111111,
              "#46039f"
             ],
             [
              0.2222222222222222,
              "#7201a8"
             ],
             [
              0.3333333333333333,
              "#9c179e"
             ],
             [
              0.4444444444444444,
              "#bd3786"
             ],
             [
              0.5555555555555556,
              "#d8576b"
             ],
             [
              0.6666666666666666,
              "#ed7953"
             ],
             [
              0.7777777777777778,
              "#fb9f3a"
             ],
             [
              0.8888888888888888,
              "#fdca26"
             ],
             [
              1,
              "#f0f921"
             ]
            ],
            "type": "histogram2dcontour"
           }
          ],
          "mesh3d": [
           {
            "colorbar": {
             "outlinewidth": 0,
             "ticks": ""
            },
            "type": "mesh3d"
           }
          ],
          "parcoords": [
           {
            "line": {
             "colorbar": {
              "outlinewidth": 0,
              "ticks": ""
             }
            },
            "type": "parcoords"
           }
          ],
          "pie": [
           {
            "automargin": true,
            "type": "pie"
           }
          ],
          "scatter": [
           {
            "fillpattern": {
             "fillmode": "overlay",
             "size": 10,
             "solidity": 0.2
            },
            "type": "scatter"
           }
          ],
          "scatter3d": [
           {
            "line": {
             "colorbar": {
              "outlinewidth": 0,
              "ticks": ""
             }
            },
            "marker": {
             "colorbar": {
              "outlinewidth": 0,
              "ticks": ""
             }
            },
            "type": "scatter3d"
           }
          ],
          "scattercarpet": [
           {
            "marker": {
             "colorbar": {
              "outlinewidth": 0,
              "ticks": ""
             }
            },
            "type": "scattercarpet"
           }
          ],
          "scattergeo": [
           {
            "marker": {
             "colorbar": {
              "outlinewidth": 0,
              "ticks": ""
             }
            },
            "type": "scattergeo"
           }
          ],
          "scattergl": [
           {
            "marker": {
             "colorbar": {
              "outlinewidth": 0,
              "ticks": ""
             }
            },
            "type": "scattergl"
           }
          ],
          "scattermapbox": [
           {
            "marker": {
             "colorbar": {
              "outlinewidth": 0,
              "ticks": ""
             }
            },
            "type": "scattermapbox"
           }
          ],
          "scatterpolar": [
           {
            "marker": {
             "colorbar": {
              "outlinewidth": 0,
              "ticks": ""
             }
            },
            "type": "scatterpolar"
           }
          ],
          "scatterpolargl": [
           {
            "marker": {
             "colorbar": {
              "outlinewidth": 0,
              "ticks": ""
             }
            },
            "type": "scatterpolargl"
           }
          ],
          "scatterternary": [
           {
            "marker": {
             "colorbar": {
              "outlinewidth": 0,
              "ticks": ""
             }
            },
            "type": "scatterternary"
           }
          ],
          "surface": [
           {
            "colorbar": {
             "outlinewidth": 0,
             "ticks": ""
            },
            "colorscale": [
             [
              0,
              "#0d0887"
             ],
             [
              0.1111111111111111,
              "#46039f"
             ],
             [
              0.2222222222222222,
              "#7201a8"
             ],
             [
              0.3333333333333333,
              "#9c179e"
             ],
             [
              0.4444444444444444,
              "#bd3786"
             ],
             [
              0.5555555555555556,
              "#d8576b"
             ],
             [
              0.6666666666666666,
              "#ed7953"
             ],
             [
              0.7777777777777778,
              "#fb9f3a"
             ],
             [
              0.8888888888888888,
              "#fdca26"
             ],
             [
              1,
              "#f0f921"
             ]
            ],
            "type": "surface"
           }
          ],
          "table": [
           {
            "cells": {
             "fill": {
              "color": "#EBF0F8"
             },
             "line": {
              "color": "white"
             }
            },
            "header": {
             "fill": {
              "color": "#C8D4E3"
             },
             "line": {
              "color": "white"
             }
            },
            "type": "table"
           }
          ]
         },
         "layout": {
          "annotationdefaults": {
           "arrowcolor": "#2a3f5f",
           "arrowhead": 0,
           "arrowwidth": 1
          },
          "autotypenumbers": "strict",
          "coloraxis": {
           "colorbar": {
            "outlinewidth": 0,
            "ticks": ""
           }
          },
          "colorscale": {
           "diverging": [
            [
             0,
             "#8e0152"
            ],
            [
             0.1,
             "#c51b7d"
            ],
            [
             0.2,
             "#de77ae"
            ],
            [
             0.3,
             "#f1b6da"
            ],
            [
             0.4,
             "#fde0ef"
            ],
            [
             0.5,
             "#f7f7f7"
            ],
            [
             0.6,
             "#e6f5d0"
            ],
            [
             0.7,
             "#b8e186"
            ],
            [
             0.8,
             "#7fbc41"
            ],
            [
             0.9,
             "#4d9221"
            ],
            [
             1,
             "#276419"
            ]
           ],
           "sequential": [
            [
             0,
             "#0d0887"
            ],
            [
             0.1111111111111111,
             "#46039f"
            ],
            [
             0.2222222222222222,
             "#7201a8"
            ],
            [
             0.3333333333333333,
             "#9c179e"
            ],
            [
             0.4444444444444444,
             "#bd3786"
            ],
            [
             0.5555555555555556,
             "#d8576b"
            ],
            [
             0.6666666666666666,
             "#ed7953"
            ],
            [
             0.7777777777777778,
             "#fb9f3a"
            ],
            [
             0.8888888888888888,
             "#fdca26"
            ],
            [
             1,
             "#f0f921"
            ]
           ],
           "sequentialminus": [
            [
             0,
             "#0d0887"
            ],
            [
             0.1111111111111111,
             "#46039f"
            ],
            [
             0.2222222222222222,
             "#7201a8"
            ],
            [
             0.3333333333333333,
             "#9c179e"
            ],
            [
             0.4444444444444444,
             "#bd3786"
            ],
            [
             0.5555555555555556,
             "#d8576b"
            ],
            [
             0.6666666666666666,
             "#ed7953"
            ],
            [
             0.7777777777777778,
             "#fb9f3a"
            ],
            [
             0.8888888888888888,
             "#fdca26"
            ],
            [
             1,
             "#f0f921"
            ]
           ]
          },
          "colorway": [
           "#636efa",
           "#EF553B",
           "#00cc96",
           "#ab63fa",
           "#FFA15A",
           "#19d3f3",
           "#FF6692",
           "#B6E880",
           "#FF97FF",
           "#FECB52"
          ],
          "font": {
           "color": "#2a3f5f"
          },
          "geo": {
           "bgcolor": "white",
           "lakecolor": "white",
           "landcolor": "#E5ECF6",
           "showlakes": true,
           "showland": true,
           "subunitcolor": "white"
          },
          "hoverlabel": {
           "align": "left"
          },
          "hovermode": "closest",
          "mapbox": {
           "style": "light"
          },
          "paper_bgcolor": "white",
          "plot_bgcolor": "#E5ECF6",
          "polar": {
           "angularaxis": {
            "gridcolor": "white",
            "linecolor": "white",
            "ticks": ""
           },
           "bgcolor": "#E5ECF6",
           "radialaxis": {
            "gridcolor": "white",
            "linecolor": "white",
            "ticks": ""
           }
          },
          "scene": {
           "xaxis": {
            "backgroundcolor": "#E5ECF6",
            "gridcolor": "white",
            "gridwidth": 2,
            "linecolor": "white",
            "showbackground": true,
            "ticks": "",
            "zerolinecolor": "white"
           },
           "yaxis": {
            "backgroundcolor": "#E5ECF6",
            "gridcolor": "white",
            "gridwidth": 2,
            "linecolor": "white",
            "showbackground": true,
            "ticks": "",
            "zerolinecolor": "white"
           },
           "zaxis": {
            "backgroundcolor": "#E5ECF6",
            "gridcolor": "white",
            "gridwidth": 2,
            "linecolor": "white",
            "showbackground": true,
            "ticks": "",
            "zerolinecolor": "white"
           }
          },
          "shapedefaults": {
           "line": {
            "color": "#2a3f5f"
           }
          },
          "ternary": {
           "aaxis": {
            "gridcolor": "white",
            "linecolor": "white",
            "ticks": ""
           },
           "baxis": {
            "gridcolor": "white",
            "linecolor": "white",
            "ticks": ""
           },
           "bgcolor": "#E5ECF6",
           "caxis": {
            "gridcolor": "white",
            "linecolor": "white",
            "ticks": ""
           }
          },
          "title": {
           "x": 0.05
          },
          "xaxis": {
           "automargin": true,
           "gridcolor": "white",
           "linecolor": "white",
           "ticks": "",
           "title": {
            "standoff": 15
           },
           "zerolinecolor": "white",
           "zerolinewidth": 2
          },
          "yaxis": {
           "automargin": true,
           "gridcolor": "white",
           "linecolor": "white",
           "ticks": "",
           "title": {
            "standoff": 15
           },
           "zerolinecolor": "white",
           "zerolinewidth": 2
          }
         }
        },
        "width": 600,
        "xaxis": {
         "linecolor": "black",
         "range": [
          0,
          128
         ],
         "showgrid": false,
         "showline": true,
         "tickcolor": "black",
         "tickfont": {
          "color": "black"
         },
         "zeroline": false
        },
        "yaxis": {
         "linecolor": "black",
         "range": [
          -1,
          1
         ],
         "showgrid": false,
         "showline": true,
         "tickcolor": "black",
         "tickfont": {
          "color": "black"
         },
         "zeroline": false
        }
       }
      }
     },
     "metadata": {},
     "output_type": "display_data"
    }
   ],
   "source": [
    "hlp.plot1d_plotly(x=original[0],x2=window_slice[0], label2='window slicing')\n"
   ]
  },
  {
   "cell_type": "markdown",
   "metadata": {},
   "source": [
    "## Window Warping\n"
   ]
  },
  {
   "cell_type": "code",
   "execution_count": 22,
   "metadata": {
    "ExecuteTime": {
     "end_time": "2024-08-12T07:22:52.694830Z",
     "start_time": "2024-08-12T07:22:52.674589Z"
    }
   },
   "outputs": [
    {
     "data": {
      "application/vnd.plotly.v1+json": {
       "config": {
        "plotlyServerURL": "https://plot.ly"
       },
       "data": [
        {
         "mode": "lines",
         "name": "original",
         "type": "scatter",
         "x": [
          0,
          1,
          2,
          3,
          4,
          5,
          6,
          7,
          8,
          9,
          10,
          11,
          12,
          13,
          14,
          15,
          16,
          17,
          18,
          19,
          20,
          21,
          22,
          23,
          24,
          25,
          26,
          27,
          28,
          29,
          30,
          31,
          32,
          33,
          34,
          35,
          36,
          37,
          38,
          39,
          40,
          41,
          42,
          43,
          44,
          45,
          46,
          47,
          48,
          49,
          50,
          51,
          52,
          53,
          54,
          55,
          56,
          57,
          58,
          59,
          60,
          61,
          62,
          63,
          64,
          65,
          66,
          67,
          68,
          69,
          70,
          71,
          72,
          73,
          74,
          75,
          76,
          77,
          78,
          79,
          80,
          81,
          82,
          83,
          84,
          85,
          86,
          87,
          88,
          89,
          90,
          91,
          92,
          93,
          94,
          95,
          96,
          97,
          98,
          99,
          100,
          101,
          102,
          103,
          104,
          105,
          106,
          107,
          108,
          109,
          110,
          111,
          112,
          113,
          114,
          115,
          116,
          117,
          118,
          119,
          120,
          121,
          122,
          123,
          124,
          125,
          126,
          127
         ],
         "y": [
          -0.33377328876203904,
          -0.3664164862723184,
          -0.4699133873374587,
          -0.4782034826673083,
          -0.5035569863633922,
          -0.4607167728714232,
          -0.26161039603684466,
          -0.6192294531601332,
          -0.6164765985420649,
          -0.49705215945475867,
          -0.49841656107326415,
          -0.5208518173483173,
          -0.6300190580583005,
          -0.5780212164971329,
          -0.5440015665044242,
          -0.2982102327334334,
          -0.41544970382601454,
          -0.5194356232671938,
          -0.5233143975458098,
          -0.4858242785529686,
          -0.5659455387978661,
          -0.44325896932567854,
          -0.5301328597858068,
          -0.4714068745305837,
          -0.6442942791481396,
          -0.4231866030067464,
          -0.6334988843690658,
          0.31201089216850275,
          0.1696997910788003,
          0.27769685729939453,
          0.21297278558182975,
          0.16071182809735696,
          0.326353829691552,
          0.1701747986622857,
          0.1605489310567234,
          0.1680271052735205,
          0.37038270932981754,
          0.3076239965030556,
          0.27159838652921264,
          0.1742398920277115,
          -0.10602634539660427,
          0.1846818775109338,
          0.27557538739607645,
          0.038736615620415416,
          0.10338695805950526,
          0.17909065784734723,
          0.11416523133361256,
          0.2303646528130281,
          0.192923974368449,
          0.031241514093415246,
          -0.07011747164891324,
          0.23794954064846996,
          0.22009174983327107,
          0.21860813780348076,
          0.248364493501398,
          0.10628583635099398,
          -0.1124405660633504,
          0.2001016645547986,
          0.2853305455596198,
          0.19538064601045724,
          0.25121814958642785,
          0.13167337807364898,
          0.36725901463778987,
          0.23060228966414553,
          0.3867589739108326,
          0.23438743329724554,
          0.5133614448234236,
          0.3330825703546947,
          0.24915946932325106,
          0.3779628861441495,
          0.420661963197575,
          0.1245756529753963,
          0.07653173547005099,
          0.08830183332443275,
          0.3227812574003037,
          0.30514768961275585,
          0.04594390252717506,
          0.13236782933588787,
          0.2277130671678329,
          0.1802071410808772,
          0.16616998478987477,
          0.2777296546372001,
          0.23656464429003554,
          0.16932618193136406,
          0.2706688049667827,
          -0.7445879987276647,
          -0.38070331229736554,
          -0.4389103587982006,
          -0.3703762649406349,
          -0.4000234544119703,
          -0.40289801520365187,
          -0.3582182918161113,
          -0.20818382404372127,
          -0.372927225332635,
          -0.3614303379330521,
          -0.4185753512542735,
          -0.5979682552697357,
          -0.5094198701160692,
          -0.5258123283826256,
          -0.46349311067105625,
          -0.3037463909892193,
          -0.33820423067676697,
          -0.38307176917003505,
          -0.29964062101327593,
          -0.6339726476675861,
          -0.4970832809636808,
          -0.6216620662286856,
          -0.5235307664741442,
          -0.4565116003500541,
          -0.498002473106273,
          -0.2985150645688599,
          -0.29136918636170184,
          -0.543302213622511,
          -0.49574263583788847,
          -0.4946289180816362,
          -0.5216742357671871,
          -0.6051705074974464,
          -0.35727217133300504,
          -0.6454951220253364,
          -0.5565303293561168,
          -0.5328894544511689,
          -0.4962323950309876,
          -0.5747232140240266,
          -0.4977409898574593,
          -0.45068033797800466,
          -0.3965015561653512,
          -0.513363081094115,
          -0.6145978361309068
         ]
        },
        {
         "mode": "lines",
         "name": "window warping",
         "type": "scatter",
         "x": [
          0,
          1,
          2,
          3,
          4,
          5,
          6,
          7,
          8,
          9,
          10,
          11,
          12,
          13,
          14,
          15,
          16,
          17,
          18,
          19,
          20,
          21,
          22,
          23,
          24,
          25,
          26,
          27,
          28,
          29,
          30,
          31,
          32,
          33,
          34,
          35,
          36,
          37,
          38,
          39,
          40,
          41,
          42,
          43,
          44,
          45,
          46,
          47,
          48,
          49,
          50,
          51,
          52,
          53,
          54,
          55,
          56,
          57,
          58,
          59,
          60,
          61,
          62,
          63,
          64,
          65,
          66,
          67,
          68,
          69,
          70,
          71,
          72,
          73,
          74,
          75,
          76,
          77,
          78,
          79,
          80,
          81,
          82,
          83,
          84,
          85,
          86,
          87,
          88,
          89,
          90,
          91,
          92,
          93,
          94,
          95,
          96,
          97,
          98,
          99,
          100,
          101,
          102,
          103,
          104,
          105,
          106,
          107,
          108,
          109,
          110,
          111,
          112,
          113,
          114,
          115,
          116,
          117,
          118,
          119,
          120,
          121,
          122,
          123,
          124,
          125,
          126,
          127
         ],
         "y": [
          -0.33377328876203904,
          -0.36461725491348407,
          -0.4585042801334275,
          -0.47683267950253,
          -0.4979672375170115,
          -0.47252313092039105,
          -0.32745659939946115,
          -0.4812504468684708,
          -0.6176904556964887,
          -0.5562942040413752,
          -0.4976645286851115,
          -0.5072493391343087,
          -0.557813953966658,
          -0.6152795124189143,
          -0.5702529499633647,
          -0.5014235401818903,
          -0.3120574143585414,
          -0.42199999796404153,
          -0.5194661647969467,
          -0.5231311483672925,
          -0.48966184978845634,
          -0.553328017499457,
          -0.46934194078826974,
          -0.506875282812229,
          -0.4903656571720338,
          -0.5789510081115831,
          -0.518941895823885,
          -0.5308267470110832,
          -0.20169126988734082,
          0.2548623397624017,
          0.20711609748593535,
          0.25884023798010397,
          0.2006276775146315,
          0.1907099858663839,
          0.30667773129416415,
          0.1694926505642537,
          0.16066669757982258,
          0.1677326889657726,
          0.35126249477331684,
          0.3170130952724136,
          0.27897370825614115,
          0.19953776855172356,
          -0.0177535147117801,
          0.07709694462389206,
          0.23692775327168497,
          0.1524938209614812,
          0.06877102667479566,
          0.13438374852381837,
          0.15608558546059093,
          0.1489335621699728,
          0.2212255895706505,
          0.16236980864718245,
          0.01767377584444219,
          -0.04586022658612656,
          0.2375277030701582,
          0.22065419993768676,
          0.21873663963283269,
          0.24414705726074834,
          0.13425407594753044,
          -0.05732840167548412,
          0.10412412916812241,
          0.25446024220354274,
          0.23291879306640711,
          0.2248382266371503,
          0.1947403047772412,
          0.2299886437263995,
          0.31776130323001367,
          0.2785559171099788,
          0.3483661447798503,
          0.289303577298461,
          0.48781010828454774,
          0.3258136403440971,
          0.2532162698530429,
          0.3749202857468048,
          0.4172998311461243,
          0.16420925355631744,
          0.08561090098287225,
          0.0854288173127332,
          0.25262205964531886,
          0.31139580418314683,
          0.15207458700316143,
          0.09221813105467436,
          0.17816357349138878,
          0.20751369702062333,
          0.1750122879653094,
          0.20130688867879598,
          0.267033234625732,
          0.2227992897914098,
          0.18448767671619024,
          0.1747390282397528,
          -0.7302618299705647,
          -0.38643377980020455,
          -0.4347854499910547,
          -0.37901048148961997,
          -0.3946542783659805,
          -0.4022189850953806,
          -0.3712352191022453,
          -0.2601642695711644,
          -0.30677042638984264,
          -0.3666808849344364,
          -0.38932790349144347,
          -0.4962651915759303,
          -0.5645011490699244,
          -0.5147119235722015,
          -0.5091284433259852,
          -0.4295312096363355,
          -0.3109830711338041,
          -0.36758831760152594,
          -0.5237839470105186,
          -0.5102398011316502,
          -0.38661345508716344,
          -0.5238149476021938,
          -0.5039813028556972,
          -0.4948832315850324,
          -0.5140078465019916,
          -0.5769001162816894,
          -0.45486994147648663,
          -0.5161352150216898,
          -0.6013629807799757,
          -0.5461060065633838,
          -0.5187461795567684,
          -0.5221899887137247,
          -0.5535076404348148,
          -0.4873654130651386,
          -0.4417216417727629,
          -0.4093839289921435,
          -0.51894294948197,
          -0.6145978361309068
         ]
        }
       ],
       "layout": {
        "height": 300,
        "legend": {
         "font": {
          "color": "black"
         },
         "orientation": "h",
         "x": 0.5,
         "xanchor": "center",
         "y": -0.3,
         "yanchor": "bottom"
        },
        "margin": {
         "b": 100,
         "l": 40,
         "r": 40,
         "t": 40
        },
        "paper_bgcolor": "white",
        "plot_bgcolor": "white",
        "template": {
         "data": {
          "bar": [
           {
            "error_x": {
             "color": "#2a3f5f"
            },
            "error_y": {
             "color": "#2a3f5f"
            },
            "marker": {
             "line": {
              "color": "#E5ECF6",
              "width": 0.5
             },
             "pattern": {
              "fillmode": "overlay",
              "size": 10,
              "solidity": 0.2
             }
            },
            "type": "bar"
           }
          ],
          "barpolar": [
           {
            "marker": {
             "line": {
              "color": "#E5ECF6",
              "width": 0.5
             },
             "pattern": {
              "fillmode": "overlay",
              "size": 10,
              "solidity": 0.2
             }
            },
            "type": "barpolar"
           }
          ],
          "carpet": [
           {
            "aaxis": {
             "endlinecolor": "#2a3f5f",
             "gridcolor": "white",
             "linecolor": "white",
             "minorgridcolor": "white",
             "startlinecolor": "#2a3f5f"
            },
            "baxis": {
             "endlinecolor": "#2a3f5f",
             "gridcolor": "white",
             "linecolor": "white",
             "minorgridcolor": "white",
             "startlinecolor": "#2a3f5f"
            },
            "type": "carpet"
           }
          ],
          "choropleth": [
           {
            "colorbar": {
             "outlinewidth": 0,
             "ticks": ""
            },
            "type": "choropleth"
           }
          ],
          "contour": [
           {
            "colorbar": {
             "outlinewidth": 0,
             "ticks": ""
            },
            "colorscale": [
             [
              0,
              "#0d0887"
             ],
             [
              0.1111111111111111,
              "#46039f"
             ],
             [
              0.2222222222222222,
              "#7201a8"
             ],
             [
              0.3333333333333333,
              "#9c179e"
             ],
             [
              0.4444444444444444,
              "#bd3786"
             ],
             [
              0.5555555555555556,
              "#d8576b"
             ],
             [
              0.6666666666666666,
              "#ed7953"
             ],
             [
              0.7777777777777778,
              "#fb9f3a"
             ],
             [
              0.8888888888888888,
              "#fdca26"
             ],
             [
              1,
              "#f0f921"
             ]
            ],
            "type": "contour"
           }
          ],
          "contourcarpet": [
           {
            "colorbar": {
             "outlinewidth": 0,
             "ticks": ""
            },
            "type": "contourcarpet"
           }
          ],
          "heatmap": [
           {
            "colorbar": {
             "outlinewidth": 0,
             "ticks": ""
            },
            "colorscale": [
             [
              0,
              "#0d0887"
             ],
             [
              0.1111111111111111,
              "#46039f"
             ],
             [
              0.2222222222222222,
              "#7201a8"
             ],
             [
              0.3333333333333333,
              "#9c179e"
             ],
             [
              0.4444444444444444,
              "#bd3786"
             ],
             [
              0.5555555555555556,
              "#d8576b"
             ],
             [
              0.6666666666666666,
              "#ed7953"
             ],
             [
              0.7777777777777778,
              "#fb9f3a"
             ],
             [
              0.8888888888888888,
              "#fdca26"
             ],
             [
              1,
              "#f0f921"
             ]
            ],
            "type": "heatmap"
           }
          ],
          "heatmapgl": [
           {
            "colorbar": {
             "outlinewidth": 0,
             "ticks": ""
            },
            "colorscale": [
             [
              0,
              "#0d0887"
             ],
             [
              0.1111111111111111,
              "#46039f"
             ],
             [
              0.2222222222222222,
              "#7201a8"
             ],
             [
              0.3333333333333333,
              "#9c179e"
             ],
             [
              0.4444444444444444,
              "#bd3786"
             ],
             [
              0.5555555555555556,
              "#d8576b"
             ],
             [
              0.6666666666666666,
              "#ed7953"
             ],
             [
              0.7777777777777778,
              "#fb9f3a"
             ],
             [
              0.8888888888888888,
              "#fdca26"
             ],
             [
              1,
              "#f0f921"
             ]
            ],
            "type": "heatmapgl"
           }
          ],
          "histogram": [
           {
            "marker": {
             "pattern": {
              "fillmode": "overlay",
              "size": 10,
              "solidity": 0.2
             }
            },
            "type": "histogram"
           }
          ],
          "histogram2d": [
           {
            "colorbar": {
             "outlinewidth": 0,
             "ticks": ""
            },
            "colorscale": [
             [
              0,
              "#0d0887"
             ],
             [
              0.1111111111111111,
              "#46039f"
             ],
             [
              0.2222222222222222,
              "#7201a8"
             ],
             [
              0.3333333333333333,
              "#9c179e"
             ],
             [
              0.4444444444444444,
              "#bd3786"
             ],
             [
              0.5555555555555556,
              "#d8576b"
             ],
             [
              0.6666666666666666,
              "#ed7953"
             ],
             [
              0.7777777777777778,
              "#fb9f3a"
             ],
             [
              0.8888888888888888,
              "#fdca26"
             ],
             [
              1,
              "#f0f921"
             ]
            ],
            "type": "histogram2d"
           }
          ],
          "histogram2dcontour": [
           {
            "colorbar": {
             "outlinewidth": 0,
             "ticks": ""
            },
            "colorscale": [
             [
              0,
              "#0d0887"
             ],
             [
              0.1111111111111111,
              "#46039f"
             ],
             [
              0.2222222222222222,
              "#7201a8"
             ],
             [
              0.3333333333333333,
              "#9c179e"
             ],
             [
              0.4444444444444444,
              "#bd3786"
             ],
             [
              0.5555555555555556,
              "#d8576b"
             ],
             [
              0.6666666666666666,
              "#ed7953"
             ],
             [
              0.7777777777777778,
              "#fb9f3a"
             ],
             [
              0.8888888888888888,
              "#fdca26"
             ],
             [
              1,
              "#f0f921"
             ]
            ],
            "type": "histogram2dcontour"
           }
          ],
          "mesh3d": [
           {
            "colorbar": {
             "outlinewidth": 0,
             "ticks": ""
            },
            "type": "mesh3d"
           }
          ],
          "parcoords": [
           {
            "line": {
             "colorbar": {
              "outlinewidth": 0,
              "ticks": ""
             }
            },
            "type": "parcoords"
           }
          ],
          "pie": [
           {
            "automargin": true,
            "type": "pie"
           }
          ],
          "scatter": [
           {
            "fillpattern": {
             "fillmode": "overlay",
             "size": 10,
             "solidity": 0.2
            },
            "type": "scatter"
           }
          ],
          "scatter3d": [
           {
            "line": {
             "colorbar": {
              "outlinewidth": 0,
              "ticks": ""
             }
            },
            "marker": {
             "colorbar": {
              "outlinewidth": 0,
              "ticks": ""
             }
            },
            "type": "scatter3d"
           }
          ],
          "scattercarpet": [
           {
            "marker": {
             "colorbar": {
              "outlinewidth": 0,
              "ticks": ""
             }
            },
            "type": "scattercarpet"
           }
          ],
          "scattergeo": [
           {
            "marker": {
             "colorbar": {
              "outlinewidth": 0,
              "ticks": ""
             }
            },
            "type": "scattergeo"
           }
          ],
          "scattergl": [
           {
            "marker": {
             "colorbar": {
              "outlinewidth": 0,
              "ticks": ""
             }
            },
            "type": "scattergl"
           }
          ],
          "scattermapbox": [
           {
            "marker": {
             "colorbar": {
              "outlinewidth": 0,
              "ticks": ""
             }
            },
            "type": "scattermapbox"
           }
          ],
          "scatterpolar": [
           {
            "marker": {
             "colorbar": {
              "outlinewidth": 0,
              "ticks": ""
             }
            },
            "type": "scatterpolar"
           }
          ],
          "scatterpolargl": [
           {
            "marker": {
             "colorbar": {
              "outlinewidth": 0,
              "ticks": ""
             }
            },
            "type": "scatterpolargl"
           }
          ],
          "scatterternary": [
           {
            "marker": {
             "colorbar": {
              "outlinewidth": 0,
              "ticks": ""
             }
            },
            "type": "scatterternary"
           }
          ],
          "surface": [
           {
            "colorbar": {
             "outlinewidth": 0,
             "ticks": ""
            },
            "colorscale": [
             [
              0,
              "#0d0887"
             ],
             [
              0.1111111111111111,
              "#46039f"
             ],
             [
              0.2222222222222222,
              "#7201a8"
             ],
             [
              0.3333333333333333,
              "#9c179e"
             ],
             [
              0.4444444444444444,
              "#bd3786"
             ],
             [
              0.5555555555555556,
              "#d8576b"
             ],
             [
              0.6666666666666666,
              "#ed7953"
             ],
             [
              0.7777777777777778,
              "#fb9f3a"
             ],
             [
              0.8888888888888888,
              "#fdca26"
             ],
             [
              1,
              "#f0f921"
             ]
            ],
            "type": "surface"
           }
          ],
          "table": [
           {
            "cells": {
             "fill": {
              "color": "#EBF0F8"
             },
             "line": {
              "color": "white"
             }
            },
            "header": {
             "fill": {
              "color": "#C8D4E3"
             },
             "line": {
              "color": "white"
             }
            },
            "type": "table"
           }
          ]
         },
         "layout": {
          "annotationdefaults": {
           "arrowcolor": "#2a3f5f",
           "arrowhead": 0,
           "arrowwidth": 1
          },
          "autotypenumbers": "strict",
          "coloraxis": {
           "colorbar": {
            "outlinewidth": 0,
            "ticks": ""
           }
          },
          "colorscale": {
           "diverging": [
            [
             0,
             "#8e0152"
            ],
            [
             0.1,
             "#c51b7d"
            ],
            [
             0.2,
             "#de77ae"
            ],
            [
             0.3,
             "#f1b6da"
            ],
            [
             0.4,
             "#fde0ef"
            ],
            [
             0.5,
             "#f7f7f7"
            ],
            [
             0.6,
             "#e6f5d0"
            ],
            [
             0.7,
             "#b8e186"
            ],
            [
             0.8,
             "#7fbc41"
            ],
            [
             0.9,
             "#4d9221"
            ],
            [
             1,
             "#276419"
            ]
           ],
           "sequential": [
            [
             0,
             "#0d0887"
            ],
            [
             0.1111111111111111,
             "#46039f"
            ],
            [
             0.2222222222222222,
             "#7201a8"
            ],
            [
             0.3333333333333333,
             "#9c179e"
            ],
            [
             0.4444444444444444,
             "#bd3786"
            ],
            [
             0.5555555555555556,
             "#d8576b"
            ],
            [
             0.6666666666666666,
             "#ed7953"
            ],
            [
             0.7777777777777778,
             "#fb9f3a"
            ],
            [
             0.8888888888888888,
             "#fdca26"
            ],
            [
             1,
             "#f0f921"
            ]
           ],
           "sequentialminus": [
            [
             0,
             "#0d0887"
            ],
            [
             0.1111111111111111,
             "#46039f"
            ],
            [
             0.2222222222222222,
             "#7201a8"
            ],
            [
             0.3333333333333333,
             "#9c179e"
            ],
            [
             0.4444444444444444,
             "#bd3786"
            ],
            [
             0.5555555555555556,
             "#d8576b"
            ],
            [
             0.6666666666666666,
             "#ed7953"
            ],
            [
             0.7777777777777778,
             "#fb9f3a"
            ],
            [
             0.8888888888888888,
             "#fdca26"
            ],
            [
             1,
             "#f0f921"
            ]
           ]
          },
          "colorway": [
           "#636efa",
           "#EF553B",
           "#00cc96",
           "#ab63fa",
           "#FFA15A",
           "#19d3f3",
           "#FF6692",
           "#B6E880",
           "#FF97FF",
           "#FECB52"
          ],
          "font": {
           "color": "#2a3f5f"
          },
          "geo": {
           "bgcolor": "white",
           "lakecolor": "white",
           "landcolor": "#E5ECF6",
           "showlakes": true,
           "showland": true,
           "subunitcolor": "white"
          },
          "hoverlabel": {
           "align": "left"
          },
          "hovermode": "closest",
          "mapbox": {
           "style": "light"
          },
          "paper_bgcolor": "white",
          "plot_bgcolor": "#E5ECF6",
          "polar": {
           "angularaxis": {
            "gridcolor": "white",
            "linecolor": "white",
            "ticks": ""
           },
           "bgcolor": "#E5ECF6",
           "radialaxis": {
            "gridcolor": "white",
            "linecolor": "white",
            "ticks": ""
           }
          },
          "scene": {
           "xaxis": {
            "backgroundcolor": "#E5ECF6",
            "gridcolor": "white",
            "gridwidth": 2,
            "linecolor": "white",
            "showbackground": true,
            "ticks": "",
            "zerolinecolor": "white"
           },
           "yaxis": {
            "backgroundcolor": "#E5ECF6",
            "gridcolor": "white",
            "gridwidth": 2,
            "linecolor": "white",
            "showbackground": true,
            "ticks": "",
            "zerolinecolor": "white"
           },
           "zaxis": {
            "backgroundcolor": "#E5ECF6",
            "gridcolor": "white",
            "gridwidth": 2,
            "linecolor": "white",
            "showbackground": true,
            "ticks": "",
            "zerolinecolor": "white"
           }
          },
          "shapedefaults": {
           "line": {
            "color": "#2a3f5f"
           }
          },
          "ternary": {
           "aaxis": {
            "gridcolor": "white",
            "linecolor": "white",
            "ticks": ""
           },
           "baxis": {
            "gridcolor": "white",
            "linecolor": "white",
            "ticks": ""
           },
           "bgcolor": "#E5ECF6",
           "caxis": {
            "gridcolor": "white",
            "linecolor": "white",
            "ticks": ""
           }
          },
          "title": {
           "x": 0.05
          },
          "xaxis": {
           "automargin": true,
           "gridcolor": "white",
           "linecolor": "white",
           "ticks": "",
           "title": {
            "standoff": 15
           },
           "zerolinecolor": "white",
           "zerolinewidth": 2
          },
          "yaxis": {
           "automargin": true,
           "gridcolor": "white",
           "linecolor": "white",
           "ticks": "",
           "title": {
            "standoff": 15
           },
           "zerolinecolor": "white",
           "zerolinewidth": 2
          }
         }
        },
        "width": 600,
        "xaxis": {
         "linecolor": "black",
         "range": [
          0,
          128
         ],
         "showgrid": false,
         "showline": true,
         "tickcolor": "black",
         "tickfont": {
          "color": "black"
         },
         "zeroline": false
        },
        "yaxis": {
         "linecolor": "black",
         "range": [
          -1,
          1
         ],
         "showgrid": false,
         "showline": true,
         "tickcolor": "black",
         "tickfont": {
          "color": "black"
         },
         "zeroline": false
        }
       }
      }
     },
     "metadata": {},
     "output_type": "display_data"
    }
   ],
   "source": [
    "hlp.plot1d_plotly(x=original[0],x2=window_warp[0], label2='window warping')\n"
   ]
  },
  {
   "cell_type": "markdown",
   "metadata": {},
   "source": [
    "## Permutation\n"
   ]
  },
  {
   "cell_type": "code",
   "execution_count": 23,
   "metadata": {
    "ExecuteTime": {
     "end_time": "2024-08-12T07:22:52.749917Z",
     "start_time": "2024-08-12T07:22:52.696708Z"
    }
   },
   "outputs": [
    {
     "data": {
      "application/vnd.plotly.v1+json": {
       "config": {
        "plotlyServerURL": "https://plot.ly"
       },
       "data": [
        {
         "mode": "lines",
         "name": "original",
         "type": "scatter",
         "x": [
          0,
          1,
          2,
          3,
          4,
          5,
          6,
          7,
          8,
          9,
          10,
          11,
          12,
          13,
          14,
          15,
          16,
          17,
          18,
          19,
          20,
          21,
          22,
          23,
          24,
          25,
          26,
          27,
          28,
          29,
          30,
          31,
          32,
          33,
          34,
          35,
          36,
          37,
          38,
          39,
          40,
          41,
          42,
          43,
          44,
          45,
          46,
          47,
          48,
          49,
          50,
          51,
          52,
          53,
          54,
          55,
          56,
          57,
          58,
          59,
          60,
          61,
          62,
          63,
          64,
          65,
          66,
          67,
          68,
          69,
          70,
          71,
          72,
          73,
          74,
          75,
          76,
          77,
          78,
          79,
          80,
          81,
          82,
          83,
          84,
          85,
          86,
          87,
          88,
          89,
          90,
          91,
          92,
          93,
          94,
          95,
          96,
          97,
          98,
          99,
          100,
          101,
          102,
          103,
          104,
          105,
          106,
          107,
          108,
          109,
          110,
          111,
          112,
          113,
          114,
          115,
          116,
          117,
          118,
          119,
          120,
          121,
          122,
          123,
          124,
          125,
          126,
          127
         ],
         "y": [
          -0.33377328876203904,
          -0.3664164862723184,
          -0.4699133873374587,
          -0.4782034826673083,
          -0.5035569863633922,
          -0.4607167728714232,
          -0.26161039603684466,
          -0.6192294531601332,
          -0.6164765985420649,
          -0.49705215945475867,
          -0.49841656107326415,
          -0.5208518173483173,
          -0.6300190580583005,
          -0.5780212164971329,
          -0.5440015665044242,
          -0.2982102327334334,
          -0.41544970382601454,
          -0.5194356232671938,
          -0.5233143975458098,
          -0.4858242785529686,
          -0.5659455387978661,
          -0.44325896932567854,
          -0.5301328597858068,
          -0.4714068745305837,
          -0.6442942791481396,
          -0.4231866030067464,
          -0.6334988843690658,
          0.31201089216850275,
          0.1696997910788003,
          0.27769685729939453,
          0.21297278558182975,
          0.16071182809735696,
          0.326353829691552,
          0.1701747986622857,
          0.1605489310567234,
          0.1680271052735205,
          0.37038270932981754,
          0.3076239965030556,
          0.27159838652921264,
          0.1742398920277115,
          -0.10602634539660427,
          0.1846818775109338,
          0.27557538739607645,
          0.038736615620415416,
          0.10338695805950526,
          0.17909065784734723,
          0.11416523133361256,
          0.2303646528130281,
          0.192923974368449,
          0.031241514093415246,
          -0.07011747164891324,
          0.23794954064846996,
          0.22009174983327107,
          0.21860813780348076,
          0.248364493501398,
          0.10628583635099398,
          -0.1124405660633504,
          0.2001016645547986,
          0.2853305455596198,
          0.19538064601045724,
          0.25121814958642785,
          0.13167337807364898,
          0.36725901463778987,
          0.23060228966414553,
          0.3867589739108326,
          0.23438743329724554,
          0.5133614448234236,
          0.3330825703546947,
          0.24915946932325106,
          0.3779628861441495,
          0.420661963197575,
          0.1245756529753963,
          0.07653173547005099,
          0.08830183332443275,
          0.3227812574003037,
          0.30514768961275585,
          0.04594390252717506,
          0.13236782933588787,
          0.2277130671678329,
          0.1802071410808772,
          0.16616998478987477,
          0.2777296546372001,
          0.23656464429003554,
          0.16932618193136406,
          0.2706688049667827,
          -0.7445879987276647,
          -0.38070331229736554,
          -0.4389103587982006,
          -0.3703762649406349,
          -0.4000234544119703,
          -0.40289801520365187,
          -0.3582182918161113,
          -0.20818382404372127,
          -0.372927225332635,
          -0.3614303379330521,
          -0.4185753512542735,
          -0.5979682552697357,
          -0.5094198701160692,
          -0.5258123283826256,
          -0.46349311067105625,
          -0.3037463909892193,
          -0.33820423067676697,
          -0.38307176917003505,
          -0.29964062101327593,
          -0.6339726476675861,
          -0.4970832809636808,
          -0.6216620662286856,
          -0.5235307664741442,
          -0.4565116003500541,
          -0.498002473106273,
          -0.2985150645688599,
          -0.29136918636170184,
          -0.543302213622511,
          -0.49574263583788847,
          -0.4946289180816362,
          -0.5216742357671871,
          -0.6051705074974464,
          -0.35727217133300504,
          -0.6454951220253364,
          -0.5565303293561168,
          -0.5328894544511689,
          -0.4962323950309876,
          -0.5747232140240266,
          -0.4977409898574593,
          -0.45068033797800466,
          -0.3965015561653512,
          -0.513363081094115,
          -0.6145978361309068
         ]
        },
        {
         "mode": "lines",
         "name": "permutation",
         "type": "scatter",
         "x": [
          0,
          1,
          2,
          3,
          4,
          5,
          6,
          7,
          8,
          9,
          10,
          11,
          12,
          13,
          14,
          15,
          16,
          17,
          18,
          19,
          20,
          21,
          22,
          23,
          24,
          25,
          26,
          27,
          28,
          29,
          30,
          31,
          32,
          33,
          34,
          35,
          36,
          37,
          38,
          39,
          40,
          41,
          42,
          43,
          44,
          45,
          46,
          47,
          48,
          49,
          50,
          51,
          52,
          53,
          54,
          55,
          56,
          57,
          58,
          59,
          60,
          61,
          62,
          63,
          64,
          65,
          66,
          67,
          68,
          69,
          70,
          71,
          72,
          73,
          74,
          75,
          76,
          77,
          78,
          79,
          80,
          81,
          82,
          83,
          84,
          85,
          86,
          87,
          88,
          89,
          90,
          91,
          92,
          93,
          94,
          95,
          96,
          97,
          98,
          99,
          100,
          101,
          102,
          103,
          104,
          105,
          106,
          107,
          108,
          109,
          110,
          111,
          112,
          113,
          114,
          115,
          116,
          117,
          118,
          119,
          120,
          121,
          122,
          123,
          124,
          125,
          126,
          127
         ],
         "y": [
          0.3867589739108326,
          0.23438743329724554,
          0.5133614448234236,
          0.3330825703546947,
          0.24915946932325106,
          0.3779628861441495,
          0.420661963197575,
          0.1245756529753963,
          0.07653173547005099,
          0.08830183332443275,
          0.3227812574003037,
          0.30514768961275585,
          0.04594390252717506,
          0.13236782933588787,
          0.2277130671678329,
          0.1802071410808772,
          0.16616998478987477,
          0.2777296546372001,
          0.23656464429003554,
          0.16932618193136406,
          0.2706688049667827,
          -0.7445879987276647,
          -0.38070331229736554,
          -0.4389103587982006,
          -0.3703762649406349,
          -0.4000234544119703,
          -0.40289801520365187,
          -0.3582182918161113,
          -0.20818382404372127,
          -0.372927225332635,
          -0.3614303379330521,
          -0.4185753512542735,
          -0.5979682552697357,
          -0.5094198701160692,
          -0.5258123283826256,
          -0.46349311067105625,
          -0.3037463909892193,
          -0.33820423067676697,
          -0.38307176917003505,
          -0.29964062101327593,
          -0.6339726476675861,
          -0.4970832809636808,
          -0.6216620662286856,
          -0.5235307664741442,
          -0.4565116003500541,
          -0.498002473106273,
          -0.2985150645688599,
          -0.29136918636170184,
          -0.543302213622511,
          -0.49574263583788847,
          -0.4946289180816362,
          -0.5216742357671871,
          -0.6051705074974464,
          -0.35727217133300504,
          -0.6454951220253364,
          -0.5565303293561168,
          -0.5328894544511689,
          -0.4962323950309876,
          -0.5747232140240266,
          -0.4977409898574593,
          -0.45068033797800466,
          -0.3965015561653512,
          -0.513363081094115,
          -0.6145978361309068,
          -0.33377328876203904,
          -0.3664164862723184,
          -0.4699133873374587,
          -0.4782034826673083,
          -0.5035569863633922,
          -0.4607167728714232,
          -0.26161039603684466,
          -0.6192294531601332,
          -0.6164765985420649,
          -0.49705215945475867,
          -0.49841656107326415,
          -0.5208518173483173,
          -0.6300190580583005,
          -0.5780212164971329,
          -0.5440015665044242,
          -0.2982102327334334,
          -0.41544970382601454,
          -0.5194356232671938,
          -0.5233143975458098,
          -0.4858242785529686,
          -0.5659455387978661,
          -0.44325896932567854,
          -0.5301328597858068,
          -0.4714068745305837,
          -0.6442942791481396,
          -0.4231866030067464,
          -0.6334988843690658,
          0.31201089216850275,
          0.1696997910788003,
          0.27769685729939453,
          0.21297278558182975,
          0.16071182809735696,
          0.326353829691552,
          0.1701747986622857,
          0.1605489310567234,
          0.1680271052735205,
          0.37038270932981754,
          0.3076239965030556,
          0.27159838652921264,
          0.1742398920277115,
          -0.10602634539660427,
          0.1846818775109338,
          0.27557538739607645,
          0.038736615620415416,
          0.10338695805950526,
          0.17909065784734723,
          0.11416523133361256,
          0.2303646528130281,
          0.192923974368449,
          0.031241514093415246,
          -0.07011747164891324,
          0.23794954064846996,
          0.22009174983327107,
          0.21860813780348076,
          0.248364493501398,
          0.10628583635099398,
          -0.1124405660633504,
          0.2001016645547986,
          0.2853305455596198,
          0.19538064601045724,
          0.25121814958642785,
          0.13167337807364898,
          0.36725901463778987,
          0.23060228966414553
         ]
        }
       ],
       "layout": {
        "height": 300,
        "legend": {
         "font": {
          "color": "black"
         },
         "orientation": "h",
         "x": 0.5,
         "xanchor": "center",
         "y": -0.3,
         "yanchor": "bottom"
        },
        "margin": {
         "b": 100,
         "l": 40,
         "r": 40,
         "t": 40
        },
        "paper_bgcolor": "white",
        "plot_bgcolor": "white",
        "template": {
         "data": {
          "bar": [
           {
            "error_x": {
             "color": "#2a3f5f"
            },
            "error_y": {
             "color": "#2a3f5f"
            },
            "marker": {
             "line": {
              "color": "#E5ECF6",
              "width": 0.5
             },
             "pattern": {
              "fillmode": "overlay",
              "size": 10,
              "solidity": 0.2
             }
            },
            "type": "bar"
           }
          ],
          "barpolar": [
           {
            "marker": {
             "line": {
              "color": "#E5ECF6",
              "width": 0.5
             },
             "pattern": {
              "fillmode": "overlay",
              "size": 10,
              "solidity": 0.2
             }
            },
            "type": "barpolar"
           }
          ],
          "carpet": [
           {
            "aaxis": {
             "endlinecolor": "#2a3f5f",
             "gridcolor": "white",
             "linecolor": "white",
             "minorgridcolor": "white",
             "startlinecolor": "#2a3f5f"
            },
            "baxis": {
             "endlinecolor": "#2a3f5f",
             "gridcolor": "white",
             "linecolor": "white",
             "minorgridcolor": "white",
             "startlinecolor": "#2a3f5f"
            },
            "type": "carpet"
           }
          ],
          "choropleth": [
           {
            "colorbar": {
             "outlinewidth": 0,
             "ticks": ""
            },
            "type": "choropleth"
           }
          ],
          "contour": [
           {
            "colorbar": {
             "outlinewidth": 0,
             "ticks": ""
            },
            "colorscale": [
             [
              0,
              "#0d0887"
             ],
             [
              0.1111111111111111,
              "#46039f"
             ],
             [
              0.2222222222222222,
              "#7201a8"
             ],
             [
              0.3333333333333333,
              "#9c179e"
             ],
             [
              0.4444444444444444,
              "#bd3786"
             ],
             [
              0.5555555555555556,
              "#d8576b"
             ],
             [
              0.6666666666666666,
              "#ed7953"
             ],
             [
              0.7777777777777778,
              "#fb9f3a"
             ],
             [
              0.8888888888888888,
              "#fdca26"
             ],
             [
              1,
              "#f0f921"
             ]
            ],
            "type": "contour"
           }
          ],
          "contourcarpet": [
           {
            "colorbar": {
             "outlinewidth": 0,
             "ticks": ""
            },
            "type": "contourcarpet"
           }
          ],
          "heatmap": [
           {
            "colorbar": {
             "outlinewidth": 0,
             "ticks": ""
            },
            "colorscale": [
             [
              0,
              "#0d0887"
             ],
             [
              0.1111111111111111,
              "#46039f"
             ],
             [
              0.2222222222222222,
              "#7201a8"
             ],
             [
              0.3333333333333333,
              "#9c179e"
             ],
             [
              0.4444444444444444,
              "#bd3786"
             ],
             [
              0.5555555555555556,
              "#d8576b"
             ],
             [
              0.6666666666666666,
              "#ed7953"
             ],
             [
              0.7777777777777778,
              "#fb9f3a"
             ],
             [
              0.8888888888888888,
              "#fdca26"
             ],
             [
              1,
              "#f0f921"
             ]
            ],
            "type": "heatmap"
           }
          ],
          "heatmapgl": [
           {
            "colorbar": {
             "outlinewidth": 0,
             "ticks": ""
            },
            "colorscale": [
             [
              0,
              "#0d0887"
             ],
             [
              0.1111111111111111,
              "#46039f"
             ],
             [
              0.2222222222222222,
              "#7201a8"
             ],
             [
              0.3333333333333333,
              "#9c179e"
             ],
             [
              0.4444444444444444,
              "#bd3786"
             ],
             [
              0.5555555555555556,
              "#d8576b"
             ],
             [
              0.6666666666666666,
              "#ed7953"
             ],
             [
              0.7777777777777778,
              "#fb9f3a"
             ],
             [
              0.8888888888888888,
              "#fdca26"
             ],
             [
              1,
              "#f0f921"
             ]
            ],
            "type": "heatmapgl"
           }
          ],
          "histogram": [
           {
            "marker": {
             "pattern": {
              "fillmode": "overlay",
              "size": 10,
              "solidity": 0.2
             }
            },
            "type": "histogram"
           }
          ],
          "histogram2d": [
           {
            "colorbar": {
             "outlinewidth": 0,
             "ticks": ""
            },
            "colorscale": [
             [
              0,
              "#0d0887"
             ],
             [
              0.1111111111111111,
              "#46039f"
             ],
             [
              0.2222222222222222,
              "#7201a8"
             ],
             [
              0.3333333333333333,
              "#9c179e"
             ],
             [
              0.4444444444444444,
              "#bd3786"
             ],
             [
              0.5555555555555556,
              "#d8576b"
             ],
             [
              0.6666666666666666,
              "#ed7953"
             ],
             [
              0.7777777777777778,
              "#fb9f3a"
             ],
             [
              0.8888888888888888,
              "#fdca26"
             ],
             [
              1,
              "#f0f921"
             ]
            ],
            "type": "histogram2d"
           }
          ],
          "histogram2dcontour": [
           {
            "colorbar": {
             "outlinewidth": 0,
             "ticks": ""
            },
            "colorscale": [
             [
              0,
              "#0d0887"
             ],
             [
              0.1111111111111111,
              "#46039f"
             ],
             [
              0.2222222222222222,
              "#7201a8"
             ],
             [
              0.3333333333333333,
              "#9c179e"
             ],
             [
              0.4444444444444444,
              "#bd3786"
             ],
             [
              0.5555555555555556,
              "#d8576b"
             ],
             [
              0.6666666666666666,
              "#ed7953"
             ],
             [
              0.7777777777777778,
              "#fb9f3a"
             ],
             [
              0.8888888888888888,
              "#fdca26"
             ],
             [
              1,
              "#f0f921"
             ]
            ],
            "type": "histogram2dcontour"
           }
          ],
          "mesh3d": [
           {
            "colorbar": {
             "outlinewidth": 0,
             "ticks": ""
            },
            "type": "mesh3d"
           }
          ],
          "parcoords": [
           {
            "line": {
             "colorbar": {
              "outlinewidth": 0,
              "ticks": ""
             }
            },
            "type": "parcoords"
           }
          ],
          "pie": [
           {
            "automargin": true,
            "type": "pie"
           }
          ],
          "scatter": [
           {
            "fillpattern": {
             "fillmode": "overlay",
             "size": 10,
             "solidity": 0.2
            },
            "type": "scatter"
           }
          ],
          "scatter3d": [
           {
            "line": {
             "colorbar": {
              "outlinewidth": 0,
              "ticks": ""
             }
            },
            "marker": {
             "colorbar": {
              "outlinewidth": 0,
              "ticks": ""
             }
            },
            "type": "scatter3d"
           }
          ],
          "scattercarpet": [
           {
            "marker": {
             "colorbar": {
              "outlinewidth": 0,
              "ticks": ""
             }
            },
            "type": "scattercarpet"
           }
          ],
          "scattergeo": [
           {
            "marker": {
             "colorbar": {
              "outlinewidth": 0,
              "ticks": ""
             }
            },
            "type": "scattergeo"
           }
          ],
          "scattergl": [
           {
            "marker": {
             "colorbar": {
              "outlinewidth": 0,
              "ticks": ""
             }
            },
            "type": "scattergl"
           }
          ],
          "scattermapbox": [
           {
            "marker": {
             "colorbar": {
              "outlinewidth": 0,
              "ticks": ""
             }
            },
            "type": "scattermapbox"
           }
          ],
          "scatterpolar": [
           {
            "marker": {
             "colorbar": {
              "outlinewidth": 0,
              "ticks": ""
             }
            },
            "type": "scatterpolar"
           }
          ],
          "scatterpolargl": [
           {
            "marker": {
             "colorbar": {
              "outlinewidth": 0,
              "ticks": ""
             }
            },
            "type": "scatterpolargl"
           }
          ],
          "scatterternary": [
           {
            "marker": {
             "colorbar": {
              "outlinewidth": 0,
              "ticks": ""
             }
            },
            "type": "scatterternary"
           }
          ],
          "surface": [
           {
            "colorbar": {
             "outlinewidth": 0,
             "ticks": ""
            },
            "colorscale": [
             [
              0,
              "#0d0887"
             ],
             [
              0.1111111111111111,
              "#46039f"
             ],
             [
              0.2222222222222222,
              "#7201a8"
             ],
             [
              0.3333333333333333,
              "#9c179e"
             ],
             [
              0.4444444444444444,
              "#bd3786"
             ],
             [
              0.5555555555555556,
              "#d8576b"
             ],
             [
              0.6666666666666666,
              "#ed7953"
             ],
             [
              0.7777777777777778,
              "#fb9f3a"
             ],
             [
              0.8888888888888888,
              "#fdca26"
             ],
             [
              1,
              "#f0f921"
             ]
            ],
            "type": "surface"
           }
          ],
          "table": [
           {
            "cells": {
             "fill": {
              "color": "#EBF0F8"
             },
             "line": {
              "color": "white"
             }
            },
            "header": {
             "fill": {
              "color": "#C8D4E3"
             },
             "line": {
              "color": "white"
             }
            },
            "type": "table"
           }
          ]
         },
         "layout": {
          "annotationdefaults": {
           "arrowcolor": "#2a3f5f",
           "arrowhead": 0,
           "arrowwidth": 1
          },
          "autotypenumbers": "strict",
          "coloraxis": {
           "colorbar": {
            "outlinewidth": 0,
            "ticks": ""
           }
          },
          "colorscale": {
           "diverging": [
            [
             0,
             "#8e0152"
            ],
            [
             0.1,
             "#c51b7d"
            ],
            [
             0.2,
             "#de77ae"
            ],
            [
             0.3,
             "#f1b6da"
            ],
            [
             0.4,
             "#fde0ef"
            ],
            [
             0.5,
             "#f7f7f7"
            ],
            [
             0.6,
             "#e6f5d0"
            ],
            [
             0.7,
             "#b8e186"
            ],
            [
             0.8,
             "#7fbc41"
            ],
            [
             0.9,
             "#4d9221"
            ],
            [
             1,
             "#276419"
            ]
           ],
           "sequential": [
            [
             0,
             "#0d0887"
            ],
            [
             0.1111111111111111,
             "#46039f"
            ],
            [
             0.2222222222222222,
             "#7201a8"
            ],
            [
             0.3333333333333333,
             "#9c179e"
            ],
            [
             0.4444444444444444,
             "#bd3786"
            ],
            [
             0.5555555555555556,
             "#d8576b"
            ],
            [
             0.6666666666666666,
             "#ed7953"
            ],
            [
             0.7777777777777778,
             "#fb9f3a"
            ],
            [
             0.8888888888888888,
             "#fdca26"
            ],
            [
             1,
             "#f0f921"
            ]
           ],
           "sequentialminus": [
            [
             0,
             "#0d0887"
            ],
            [
             0.1111111111111111,
             "#46039f"
            ],
            [
             0.2222222222222222,
             "#7201a8"
            ],
            [
             0.3333333333333333,
             "#9c179e"
            ],
            [
             0.4444444444444444,
             "#bd3786"
            ],
            [
             0.5555555555555556,
             "#d8576b"
            ],
            [
             0.6666666666666666,
             "#ed7953"
            ],
            [
             0.7777777777777778,
             "#fb9f3a"
            ],
            [
             0.8888888888888888,
             "#fdca26"
            ],
            [
             1,
             "#f0f921"
            ]
           ]
          },
          "colorway": [
           "#636efa",
           "#EF553B",
           "#00cc96",
           "#ab63fa",
           "#FFA15A",
           "#19d3f3",
           "#FF6692",
           "#B6E880",
           "#FF97FF",
           "#FECB52"
          ],
          "font": {
           "color": "#2a3f5f"
          },
          "geo": {
           "bgcolor": "white",
           "lakecolor": "white",
           "landcolor": "#E5ECF6",
           "showlakes": true,
           "showland": true,
           "subunitcolor": "white"
          },
          "hoverlabel": {
           "align": "left"
          },
          "hovermode": "closest",
          "mapbox": {
           "style": "light"
          },
          "paper_bgcolor": "white",
          "plot_bgcolor": "#E5ECF6",
          "polar": {
           "angularaxis": {
            "gridcolor": "white",
            "linecolor": "white",
            "ticks": ""
           },
           "bgcolor": "#E5ECF6",
           "radialaxis": {
            "gridcolor": "white",
            "linecolor": "white",
            "ticks": ""
           }
          },
          "scene": {
           "xaxis": {
            "backgroundcolor": "#E5ECF6",
            "gridcolor": "white",
            "gridwidth": 2,
            "linecolor": "white",
            "showbackground": true,
            "ticks": "",
            "zerolinecolor": "white"
           },
           "yaxis": {
            "backgroundcolor": "#E5ECF6",
            "gridcolor": "white",
            "gridwidth": 2,
            "linecolor": "white",
            "showbackground": true,
            "ticks": "",
            "zerolinecolor": "white"
           },
           "zaxis": {
            "backgroundcolor": "#E5ECF6",
            "gridcolor": "white",
            "gridwidth": 2,
            "linecolor": "white",
            "showbackground": true,
            "ticks": "",
            "zerolinecolor": "white"
           }
          },
          "shapedefaults": {
           "line": {
            "color": "#2a3f5f"
           }
          },
          "ternary": {
           "aaxis": {
            "gridcolor": "white",
            "linecolor": "white",
            "ticks": ""
           },
           "baxis": {
            "gridcolor": "white",
            "linecolor": "white",
            "ticks": ""
           },
           "bgcolor": "#E5ECF6",
           "caxis": {
            "gridcolor": "white",
            "linecolor": "white",
            "ticks": ""
           }
          },
          "title": {
           "x": 0.05
          },
          "xaxis": {
           "automargin": true,
           "gridcolor": "white",
           "linecolor": "white",
           "ticks": "",
           "title": {
            "standoff": 15
           },
           "zerolinecolor": "white",
           "zerolinewidth": 2
          },
          "yaxis": {
           "automargin": true,
           "gridcolor": "white",
           "linecolor": "white",
           "ticks": "",
           "title": {
            "standoff": 15
           },
           "zerolinecolor": "white",
           "zerolinewidth": 2
          }
         }
        },
        "width": 600,
        "xaxis": {
         "linecolor": "black",
         "range": [
          0,
          128
         ],
         "showgrid": false,
         "showline": true,
         "tickcolor": "black",
         "tickfont": {
          "color": "black"
         },
         "zeroline": false
        },
        "yaxis": {
         "linecolor": "black",
         "range": [
          -1,
          1
         ],
         "showgrid": false,
         "showline": true,
         "tickcolor": "black",
         "tickfont": {
          "color": "black"
         },
         "zeroline": false
        }
       }
      }
     },
     "metadata": {},
     "output_type": "display_data"
    }
   ],
   "source": [
    "hlp.plot1d_plotly(x=original[0],x2=permutation[0], label2='permutation')\n"
   ]
  },
  {
   "cell_type": "code",
   "execution_count": null,
   "metadata": {
    "ExecuteTime": {
     "end_time": "2024-08-12T07:22:52.754172Z",
     "start_time": "2024-08-12T07:22:52.751304Z"
    }
   },
   "outputs": [],
   "source": []
  }
 ],
 "metadata": {
  "kernelspec": {
   "display_name": "Python 3 (ipykernel)",
   "language": "python",
   "name": "python3"
  },
  "language_info": {
   "codemirror_mode": {
    "name": "ipython",
    "version": 3
   },
   "file_extension": ".py",
   "mimetype": "text/x-python",
   "name": "python",
   "nbconvert_exporter": "python",
   "pygments_lexer": "ipython3",
   "version": "3.12.4"
  },
  "widgets": {
   "application/vnd.jupyter.widget-state+json": {
    "state": {},
    "version_major": 2,
    "version_minor": 0
   }
  }
 },
 "nbformat": 4,
 "nbformat_minor": 4
}
