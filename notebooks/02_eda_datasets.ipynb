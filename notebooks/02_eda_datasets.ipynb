{
 "cells": [
  {
   "cell_type": "markdown",
   "id": "b6d13695e006bbd",
   "metadata": {
    "collapsed": false
   },
   "source": [
    "# EDA\n"
   ]
  },
  {
   "cell_type": "markdown",
   "id": "405534adc707f768",
   "metadata": {
    "collapsed": false
   },
   "source": [
    "## Importing libs"
   ]
  },
  {
   "cell_type": "code",
   "execution_count": 1,
   "id": "d34bd1a92ecd06ad",
   "metadata": {
    "ExecuteTime": {
     "end_time": "2024-11-11T11:33:33.441961Z",
     "start_time": "2024-11-11T11:33:32.754334Z"
    },
    "collapsed": false
   },
   "outputs": [],
   "source": [
    "import os\n",
    "import sys\n",
    "import pandas as pd\n",
    "import numpy as np\n",
    "from numpy.random import seed\n",
    "seed(1)\n"
   ]
  },
  {
   "cell_type": "code",
   "execution_count": 3,
   "id": "1b7be23e14019ecd",
   "metadata": {
    "ExecuteTime": {
     "end_time": "2024-11-11T11:34:47.051672Z",
     "start_time": "2024-11-11T11:34:47.014586Z"
    },
    "collapsed": false
   },
   "outputs": [],
   "source": [
    "# Matplotlib and Seaborn\n",
    "import seaborn as sns\n",
    "sns.set_style('white', {\"xtick.major.size\": 2, \"ytick.major.size\": 2})\n",
    "flatui = [\"#9b59b6\", \"#3498db\", \"#95a5a6\", \"#e74c3c\", \"#34495e\", \"#2ecc71\",\"#f4cae4\"]\n",
    "sns.set_palette(sns.color_palette(flatui,7))\n",
    "import matplotlib.pyplot as plt\n",
    "#plt.style.use('seaborn')\n",
    "\n",
    "# Sklearn \n",
    "from sklearn.metrics import mean_squared_error\n",
    "from sklearn.model_selection import train_test_split\n",
    "from sklearn.preprocessing import StandardScaler, MinMaxScaler, Normalizer, PowerTransformer\n"
   ]
  },
  {
   "cell_type": "code",
   "execution_count": null,
   "id": "a0978f7da6ff6f71",
   "metadata": {
    "ExecuteTime": {
     "end_time": "2024-11-11T11:35:07.499288Z",
     "start_time": "2024-11-11T11:35:07.008573Z"
    },
    "collapsed": false
   },
   "outputs": [
    {
     "name": "stdout",
     "output_type": "stream",
     "text": [
      "Requirement already satisfied: seaborn in /Users/messou/opt/anaconda3/envs/time_series/lib/python3.11/site-packages (0.12.2)\r\n",
      "Requirement already satisfied: numpy!=1.24.0,>=1.17 in /Users/messou/opt/anaconda3/envs/time_series/lib/python3.11/site-packages (from seaborn) (1.26.4)\r\n",
      "Requirement already satisfied: pandas>=0.25 in /Users/messou/opt/anaconda3/envs/time_series/lib/python3.11/site-packages (from seaborn) (2.2.2)\r\n",
      "Requirement already satisfied: matplotlib!=3.6.1,>=3.1 in /Users/messou/opt/anaconda3/envs/time_series/lib/python3.11/site-packages (from seaborn) (3.8.0)\r\n",
      "Requirement already satisfied: contourpy>=1.0.1 in /Users/messou/opt/anaconda3/envs/time_series/lib/python3.11/site-packages (from matplotlib!=3.6.1,>=3.1->seaborn) (1.2.0)\r\n",
      "Requirement already satisfied: cycler>=0.10 in /Users/messou/opt/anaconda3/envs/time_series/lib/python3.11/site-packages (from matplotlib!=3.6.1,>=3.1->seaborn) (0.11.0)\r\n",
      "Requirement already satisfied: fonttools>=4.22.0 in /Users/messou/opt/anaconda3/envs/time_series/lib/python3.11/site-packages (from matplotlib!=3.6.1,>=3.1->seaborn) (4.25.0)\r\n",
      "Requirement already satisfied: kiwisolver>=1.0.1 in /Users/messou/opt/anaconda3/envs/time_series/lib/python3.11/site-packages (from matplotlib!=3.6.1,>=3.1->seaborn) (1.4.4)\r\n",
      "Requirement already satisfied: packaging>=20.0 in /Users/messou/opt/anaconda3/envs/time_series/lib/python3.11/site-packages (from matplotlib!=3.6.1,>=3.1->seaborn) (24.1)\r\n",
      "Requirement already satisfied: pillow>=6.2.0 in /Users/messou/opt/anaconda3/envs/time_series/lib/python3.11/site-packages (from matplotlib!=3.6.1,>=3.1->seaborn) (10.2.0)\r\n",
      "Requirement already satisfied: pyparsing>=2.3.1 in /Users/messou/opt/anaconda3/envs/time_series/lib/python3.11/site-packages (from matplotlib!=3.6.1,>=3.1->seaborn) (3.0.9)\r\n",
      "Requirement already satisfied: python-dateutil>=2.7 in /Users/messou/opt/anaconda3/envs/time_series/lib/python3.11/site-packages (from matplotlib!=3.6.1,>=3.1->seaborn) (2.8.2)\r\n",
      "Requirement already satisfied: pytz>=2020.1 in /Users/messou/opt/anaconda3/envs/time_series/lib/python3.11/site-packages (from pandas>=0.25->seaborn) (2023.3.post1)\r\n",
      "Requirement already satisfied: tzdata>=2022.7 in /Users/messou/opt/anaconda3/envs/time_series/lib/python3.11/site-packages (from pandas>=0.25->seaborn) (2023.3)\r\n",
      "Requirement already satisfied: six>=1.5 in /Users/messou/opt/anaconda3/envs/time_series/lib/python3.11/site-packages (from python-dateutil>=2.7->matplotlib!=3.6.1,>=3.1->seaborn) (1.16.0)\r\n",
      "Note: you may need to restart the kernel to use updated packages.\n"
     ]
    }
   ],
   "source": []
  },
  {
   "cell_type": "markdown",
   "id": "0e3874f9",
   "metadata": {},
   "source": [
    "## Loading Dataset"
   ]
  },
  {
   "cell_type": "code",
   "execution_count": null,
   "id": "3415d4a81941b172",
   "metadata": {
    "collapsed": false
   },
   "outputs": [],
   "source": [
    "electricity_data = pd.read_csv('../data/meters/final/ELECTRICITY_GLOBAL_REACTIVE_POWER/ELECTRICITY_GLOBAL_REACTIVE_POWER_TEST.CSV')\n",
    "gas_data = pd.read_csv('../data/meters/final/GAS_PANTHER_LODGING_DEAN/GAS_PANTHER_LODGING_DEAN_TEST.CSV')\n",
    "hotwater_data = pd.read_csv('../data/meters/final/HOTWATER_FOX_LODGING_ALANA/HOTWATER_FOX_LODGING_ALANA_TEST.CSV')\n",
    "solar_data = pd.read_csv('../data/meters/final/SOLAR_BOBCAT_EDUCATION_ALISSA/SOLAR_BOBCAT_EDUCATION_ALISSA_TEST.CSV')\n",
    "waterwolf_data = pd.read_csv('../data/meters/final/WATER_WOLF_EDUCATION_URSULA/WATER_WOLF_EDUCATION_URSULA_TEST.CSV')\n"
   ]
  }
 ],
 "metadata": {
  "kernelspec": {
   "display_name": "time_series",
   "language": "python",
   "name": "python3"
  },
  "language_info": {
   "codemirror_mode": {
    "name": "ipython",
    "version": 3
   },
   "file_extension": ".py",
   "mimetype": "text/x-python",
   "name": "python",
   "nbconvert_exporter": "python",
   "pygments_lexer": "ipython3",
   "version": "3.11.9"
  }
 },
 "nbformat": 4,
 "nbformat_minor": 5
}
